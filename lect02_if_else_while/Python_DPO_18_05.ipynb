{
 "cells": [
  {
   "cell_type": "code",
   "execution_count": 2,
   "id": "1d4b7634",
   "metadata": {},
   "outputs": [
    {
     "name": "stdout",
     "output_type": "stream",
     "text": [
      "<class 'int'>\n"
     ]
    }
   ],
   "source": [
    "print(type(3))"
   ]
  },
  {
   "cell_type": "code",
   "execution_count": 10,
   "id": "c9bcd080",
   "metadata": {},
   "outputs": [
    {
     "name": "stdout",
     "output_type": "stream",
     "text": [
      "Hello\n",
      "Hello\n",
      "Petya\n",
      "Petya!\n",
      "Hlo ynm sPta\n",
      "!ye iea M,le\n"
     ]
    }
   ],
   "source": [
    "a = 'Hello, My name is Petya!'\n",
    "# вернуть подстроку до запятой не включая\n",
    "print(a[0:5]) #первый индекс включается : второй индекс не включается\n",
    "# срез (slice)\n",
    "print(a[:5])\n",
    "print(a[-6:-1])\n",
    "print(a[-6:])\n",
    "print(a[::2]) #вернуть четные эементы исходной строки\n",
    "print(a[::-2])"
   ]
  },
  {
   "cell_type": "code",
   "execution_count": 16,
   "id": "bef1285c",
   "metadata": {},
   "outputs": [
    {
     "data": {
      "text/plain": [
       "'0'"
      ]
     },
     "execution_count": 16,
     "metadata": {},
     "output_type": "execute_result"
    }
   ],
   "source": [
    "n = '100o'\n",
    "#int --> string\n",
    "n[1]\n",
    "# n[1]"
   ]
  },
  {
   "cell_type": "code",
   "execution_count": 18,
   "id": "569cfd5b",
   "metadata": {},
   "outputs": [
    {
     "data": {
      "text/plain": [
       "3"
      ]
     },
     "execution_count": 18,
     "metadata": {},
     "output_type": "execute_result"
    }
   ],
   "source": [
    "len('100') "
   ]
  },
  {
   "cell_type": "code",
   "execution_count": 28,
   "id": "0b6c434a",
   "metadata": {},
   "outputs": [
    {
     "ename": "SyntaxError",
     "evalue": "unexpected character after line continuation character (<ipython-input-28-af3deb30b697>, line 1)",
     "output_type": "error",
     "traceback": [
      "\u001b[0;36m  File \u001b[0;32m\"<ipython-input-28-af3deb30b697>\"\u001b[0;36m, line \u001b[0;32m1\u001b[0m\n\u001b[0;31m    a = 100 + \\\u001b[0m\n\u001b[0m                ^\u001b[0m\n\u001b[0;31mSyntaxError\u001b[0m\u001b[0;31m:\u001b[0m unexpected character after line continuation character\n"
     ]
    }
   ],
   "source": [
    "a = 100 + \\ \n",
    "23\n",
    "\n",
    "print(a)"
   ]
  },
  {
   "cell_type": "code",
   "execution_count": 32,
   "id": "89b978d7",
   "metadata": {},
   "outputs": [
    {
     "name": "stdout",
     "output_type": "stream",
     "text": [
      "123\n"
     ]
    }
   ],
   "source": [
    "a = 100 + 1212 - 1212 + \\\n",
    "23\n",
    "\n",
    "print(a)"
   ]
  },
  {
   "cell_type": "code",
   "execution_count": 38,
   "id": "3fa852d2",
   "metadata": {},
   "outputs": [
    {
     "name": "stdout",
     "output_type": "stream",
     "text": [
      "False\n",
      "True\n",
      "True\n",
      "False\n",
      "True\n",
      "False\n"
     ]
    }
   ],
   "source": [
    "a = 4 # присваивание значения (один знак ровно)\n",
    "b = 4\n",
    "print(a < b) #оператор сравнения (меньше)\n",
    "print(a <= b)\n",
    "print(a >= b)\n",
    "print(a > b)\n",
    "print(a == b) #два знака равно для сравнения двух величин\n",
    "print(a != b) # (не равно) проверка неравенства двух величин"
   ]
  },
  {
   "cell_type": "code",
   "execution_count": 37,
   "id": "38e11026",
   "metadata": {},
   "outputs": [
    {
     "data": {
      "text/plain": [
       "True"
      ]
     },
     "execution_count": 37,
     "metadata": {},
     "output_type": "execute_result"
    }
   ],
   "source": [
    "4 == 4"
   ]
  },
  {
   "cell_type": "code",
   "execution_count": 41,
   "id": "9d79e428",
   "metadata": {},
   "outputs": [
    {
     "name": "stdout",
     "output_type": "stream",
     "text": [
      "0\n",
      "Мы идем в магазин\n"
     ]
    }
   ],
   "source": [
    "eggs = int(input())\n",
    "\n",
    "if eggs < 3: # 1 == 0 --> False\n",
    "    print('Мы идем в магазин')\n",
    "else:\n",
    "    print('Приготовим завтрак')"
   ]
  },
  {
   "cell_type": "code",
   "execution_count": 45,
   "id": "9cd52479",
   "metadata": {},
   "outputs": [
    {
     "name": "stdout",
     "output_type": "stream",
     "text": [
      "4\n",
      "Есть ли молоко дома? Да/Нет: Нет\n",
      "Приготовим яичницу\n"
     ]
    }
   ],
   "source": [
    "eggs = int(input())\n",
    "milk = input(\"Есть ли молоко дома? Да/Нет: \")\n",
    "\n",
    "if eggs >= 3:\n",
    "    if milk == 'Да':\n",
    "        print('Приготовим омлет')\n",
    "    else:\n",
    "        print('Приготовим яичницу')\n",
    "else:\n",
    "    print('Пойдем в кафе')"
   ]
  },
  {
   "cell_type": "code",
   "execution_count": 47,
   "id": "f50bdc58",
   "metadata": {},
   "outputs": [
    {
     "name": "stdout",
     "output_type": "stream",
     "text": [
      "Что Вы желаете? Кофе/Чай/Вода/... Вода\n",
      "С Вас 50 рублей.\n"
     ]
    }
   ],
   "source": [
    "order = input(\"Что Вы желаете? Кофе/Чай/Вода/... \")\n",
    "\n",
    "if order == 'Кофе':\n",
    "    print('С Вас 150 рублей.')\n",
    "elif order == 'Чай': \n",
    "    print('С Вас 100 рублей.')\n",
    "elif order == 'Вода':\n",
    "    print('С Вас 50 рублей.')\n",
    "else:\n",
    "    print('Данного напитка нет.')"
   ]
  },
  {
   "cell_type": "code",
   "execution_count": 48,
   "id": "adce000c",
   "metadata": {},
   "outputs": [
    {
     "name": "stdout",
     "output_type": "stream",
     "text": [
      "3\n",
      "Есть ли молоко дома? Да/Нет: Нет\n",
      "Cходить в магазин за молоком\n"
     ]
    }
   ],
   "source": [
    "eggs = int(input())\n",
    "milk = input(\"Есть ли молоко дома? Да/Нет: \")\n",
    "\n",
    "if eggs >= 3 and milk == 'Да': # логическое И (True, True)\n",
    "    print('Приготовим омлет')\n",
    "elif milk == 'Да':\n",
    "    print('Cходить в магазин купить яйца')\n",
    "elif eggs >= 3:\n",
    "    print('Cходить в магазин за молоком')\n",
    "else:\n",
    "    print(\"Купить молоко и яйца\")"
   ]
  },
  {
   "cell_type": "code",
   "execution_count": 55,
   "id": "f79d2973",
   "metadata": {},
   "outputs": [
    {
     "name": "stdout",
     "output_type": "stream",
     "text": [
      "3\n",
      "Есть ли молоко дома? Да/Нет: Да\n",
      "У нас непустой холодильник\n"
     ]
    }
   ],
   "source": [
    "eggs = int(input())\n",
    "milk = input(\"Есть ли молоко дома? Да/Нет: \")\n",
    "\n",
    "if eggs >= 3 or milk == 'Да': #логическое ИЛИ\n",
    "    print('У нас непустой холодильник')\n",
    "else:\n",
    "    print(\"Сходить в магазин\")"
   ]
  },
  {
   "cell_type": "code",
   "execution_count": 54,
   "id": "a18f623d",
   "metadata": {},
   "outputs": [
    {
     "name": "stdout",
     "output_type": "stream",
     "text": [
      "У нас есть хотя бы 1 яйцо\n"
     ]
    }
   ],
   "source": [
    "# логическое НЕ not\n",
    "eggs = 0\n",
    "if not eggs < 0: # not False --> True\n",
    "  print('У нас есть хотя бы 1 яйцо')\n",
    "else:\n",
    "    print('У нас нет яиц')"
   ]
  },
  {
   "cell_type": "code",
   "execution_count": 52,
   "id": "f5756c97",
   "metadata": {},
   "outputs": [
    {
     "data": {
      "text/plain": [
       "bool"
      ]
     },
     "execution_count": 52,
     "metadata": {},
     "output_type": "execute_result"
    }
   ],
   "source": [
    "# True, False (логические/булевские переменные)\n",
    "type(True)"
   ]
  },
  {
   "cell_type": "code",
   "execution_count": 57,
   "id": "7a102a60",
   "metadata": {},
   "outputs": [
    {
     "ename": "KeyboardInterrupt",
     "evalue": "",
     "output_type": "error",
     "traceback": [
      "\u001b[0;31m---------------------------------------------------------------------------\u001b[0m",
      "\u001b[0;31mKeyboardInterrupt\u001b[0m                         Traceback (most recent call last)",
      "\u001b[0;32m<ipython-input-57-231f1f398813>\u001b[0m in \u001b[0;36m<module>\u001b[0;34m\u001b[0m\n\u001b[1;32m      1\u001b[0m \u001b[0mn\u001b[0m \u001b[0;34m=\u001b[0m \u001b[0;36m0\u001b[0m\u001b[0;34m\u001b[0m\u001b[0;34m\u001b[0m\u001b[0m\n\u001b[0;32m----> 2\u001b[0;31m \u001b[0;32mwhile\u001b[0m \u001b[0mn\u001b[0m \u001b[0;34m!=\u001b[0m \u001b[0;36m5\u001b[0m\u001b[0;34m:\u001b[0m \u001b[0;31m# 5 != 5 --> False\u001b[0m\u001b[0;34m\u001b[0m\u001b[0;34m\u001b[0m\u001b[0m\n\u001b[0m\u001b[1;32m      3\u001b[0m \u001b[0;31m#n = n + 1\u001b[0m\u001b[0;34m\u001b[0m\u001b[0;34m\u001b[0m\u001b[0;34m\u001b[0m\u001b[0m\n\u001b[1;32m      4\u001b[0m     \u001b[0mn\u001b[0m \u001b[0;34m=\u001b[0m \u001b[0;36m0\u001b[0m \u001b[0;31m#инкрементация\u001b[0m\u001b[0;34m\u001b[0m\u001b[0;34m\u001b[0m\u001b[0m\n\u001b[1;32m      5\u001b[0m \u001b[0mprint\u001b[0m\u001b[0;34m(\u001b[0m\u001b[0mn\u001b[0m\u001b[0;34m)\u001b[0m\u001b[0;34m\u001b[0m\u001b[0;34m\u001b[0m\u001b[0m\n",
      "\u001b[0;31mKeyboardInterrupt\u001b[0m: "
     ]
    }
   ],
   "source": [
    "n = 0\n",
    "while n != 5: # 5 != 5 --> False \n",
    "#n = n + 1\n",
    "    n = 0 #инкрементация\n",
    "print(n)"
   ]
  },
  {
   "cell_type": "code",
   "execution_count": null,
   "id": "d71fa446",
   "metadata": {},
   "outputs": [],
   "source": [
    "n -= 1\n",
    "n *= 2 #домножаете на 2 значение в переменной n\n",
    "n /= 2"
   ]
  }
 ],
 "metadata": {
  "kernelspec": {
   "display_name": "Python 3",
   "language": "python",
   "name": "python3"
  },
  "language_info": {
   "codemirror_mode": {
    "name": "ipython",
    "version": 3
   },
   "file_extension": ".py",
   "mimetype": "text/x-python",
   "name": "python",
   "nbconvert_exporter": "python",
   "pygments_lexer": "ipython3",
   "version": "3.8.5"
  }
 },
 "nbformat": 4,
 "nbformat_minor": 5
}

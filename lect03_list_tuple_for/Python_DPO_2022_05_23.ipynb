{
 "cells": [
  {
   "cell_type": "code",
   "execution_count": 4,
   "id": "369daf07",
   "metadata": {},
   "outputs": [],
   "source": [
    "import time"
   ]
  },
  {
   "cell_type": "code",
   "execution_count": 10,
   "id": "b760a3ec",
   "metadata": {},
   "outputs": [
    {
     "name": "stdout",
     "output_type": "stream",
     "text": [
      "С Вас 50 рублей.\n",
      "0.0003597736358642578\n"
     ]
    }
   ],
   "source": [
    "initial_time = time.time()\n",
    "\n",
    "order = 'Вода'\n",
    "\n",
    "if order == 'Кофе':\n",
    "    print('С Вас 150 рублей.')\n",
    "elif order == 'Чай': \n",
    "    print('С Вас 100 рублей.')\n",
    "elif order == 'Вода':\n",
    "    print('С Вас 50 рублей.')\n",
    "else:\n",
    "    print('Данного напитка нет.')\n",
    "    \n",
    "total_time = time.time() - initial_time\n",
    "\n",
    "print(total_time)"
   ]
  },
  {
   "cell_type": "code",
   "execution_count": 11,
   "id": "5e303d29",
   "metadata": {},
   "outputs": [
    {
     "name": "stdout",
     "output_type": "stream",
     "text": [
      "С Вас 50 рублей.\n",
      "0.0004019737243652344\n"
     ]
    }
   ],
   "source": [
    "initial_time = time.time()\n",
    "\n",
    "order = 'Вода'\n",
    "\n",
    "if order == 'Кофе':\n",
    "    print('С Вас 150 рублей.')\n",
    "if order == 'Чай': \n",
    "    print('С Вас 100 рублей.')\n",
    "if order == 'Вода':\n",
    "    print('С Вас 50 рублей.')\n",
    "else:\n",
    "    print('Данного напитка нет.')\n",
    "    \n",
    "total_time = time.time() - initial_time\n",
    "\n",
    "print(total_time)"
   ]
  },
  {
   "cell_type": "markdown",
   "id": "1b3156a2",
   "metadata": {},
   "source": [
    "# Список и кортеж"
   ]
  },
  {
   "cell_type": "code",
   "execution_count": 17,
   "id": "3199745b",
   "metadata": {},
   "outputs": [
    {
     "name": "stdout",
     "output_type": "stream",
     "text": [
      "bread\n",
      "['bread', 'milk']\n",
      "<class 'list'>\n"
     ]
    }
   ],
   "source": [
    "shopping_list = ['bread', 'milk', 'cheese'] #список (изменяемый тип данных)\n",
    "print(shopping_list[0])\n",
    "print(shopping_list[:2])\n",
    "print(type(shopping_list))"
   ]
  },
  {
   "cell_type": "code",
   "execution_count": 18,
   "id": "dc2d9c55",
   "metadata": {},
   "outputs": [
    {
     "name": "stdout",
     "output_type": "stream",
     "text": [
      "['apple', 'milk', 'cheese']\n"
     ]
    }
   ],
   "source": [
    "shopping_list[0] = 'apple' #вместо хлеба перезаписали на значение 'apple'\n",
    "#tab для автодополнения\n",
    "print(shopping_list)"
   ]
  },
  {
   "cell_type": "code",
   "execution_count": 19,
   "id": "13db0513",
   "metadata": {},
   "outputs": [
    {
     "name": "stdout",
     "output_type": "stream",
     "text": [
      "bread\n",
      "('bread', 'milk')\n",
      "<class 'tuple'>\n"
     ]
    }
   ],
   "source": [
    "#tuple\n",
    "sh_list = ('bread', 'milk', 'cheese') #кортеж (неизменяемый тип данных)\n",
    "print(sh_list[0])\n",
    "print(sh_list[:2])\n",
    "print(type(sh_list))"
   ]
  },
  {
   "cell_type": "code",
   "execution_count": 22,
   "id": "d5a36d58",
   "metadata": {},
   "outputs": [
    {
     "ename": "TypeError",
     "evalue": "'tuple' object does not support item assignment",
     "output_type": "error",
     "traceback": [
      "\u001b[0;31m---------------------------------------------------------------------------\u001b[0m",
      "\u001b[0;31mTypeError\u001b[0m                                 Traceback (most recent call last)",
      "\u001b[0;32m<ipython-input-22-de4e14cfa5f0>\u001b[0m in \u001b[0;36m<module>\u001b[0;34m\u001b[0m\n\u001b[0;32m----> 1\u001b[0;31m \u001b[0msh_list\u001b[0m\u001b[0;34m[\u001b[0m\u001b[0;36m0\u001b[0m\u001b[0;34m]\u001b[0m \u001b[0;34m=\u001b[0m \u001b[0;34m'apple'\u001b[0m\u001b[0;34m\u001b[0m\u001b[0;34m\u001b[0m\u001b[0m\n\u001b[0m",
      "\u001b[0;31mTypeError\u001b[0m: 'tuple' object does not support item assignment"
     ]
    }
   ],
   "source": [
    "sh_list[0] = 'apple'"
   ]
  },
  {
   "cell_type": "code",
   "execution_count": 48,
   "id": "fe5eeb5e",
   "metadata": {},
   "outputs": [],
   "source": [
    "info = [3, 7.5, 'apple', True, [1, 2], (True, 'bread')] \n",
    "#эл-ами списка могут быть любые типы данных"
   ]
  },
  {
   "cell_type": "code",
   "execution_count": null,
   "id": "b64e45bc",
   "metadata": {},
   "outputs": [],
   "source": [
    "empty_list = list()\n",
    "empty_list = []"
   ]
  },
  {
   "cell_type": "code",
   "execution_count": 26,
   "id": "73d70416",
   "metadata": {},
   "outputs": [],
   "source": [
    "empty_list = list()"
   ]
  },
  {
   "cell_type": "code",
   "execution_count": 27,
   "id": "3ead69f4",
   "metadata": {},
   "outputs": [
    {
     "name": "stdout",
     "output_type": "stream",
     "text": [
      "['bread', 'milk', 'apple']\n"
     ]
    }
   ],
   "source": [
    "print('bread, milk, apple'.split(', '))\n",
    "#метод split вызывается только у строк\n",
    "#разделяет по заданному разделителю строку\n",
    "#и сохраняет в список разделенные эл-ты"
   ]
  },
  {
   "cell_type": "code",
   "execution_count": 29,
   "id": "5c028b29",
   "metadata": {},
   "outputs": [
    {
     "name": "stdout",
     "output_type": "stream",
     "text": [
      "1,2,3\n",
      "['1', '2', '3']\n"
     ]
    }
   ],
   "source": [
    "info = input().split(',')\n",
    "print(info)"
   ]
  },
  {
   "cell_type": "code",
   "execution_count": 34,
   "id": "d63f981a",
   "metadata": {},
   "outputs": [
    {
     "name": "stdout",
     "output_type": "stream",
     "text": [
      "apple,bread,milk\n",
      "['apple', 'bread', 'milk']\n"
     ]
    }
   ],
   "source": [
    "info = input()\n",
    "info = info.split(',')\n",
    "print(info)"
   ]
  },
  {
   "cell_type": "code",
   "execution_count": 43,
   "id": "bd531879",
   "metadata": {},
   "outputs": [
    {
     "name": "stdout",
     "output_type": "stream",
     "text": [
      "bread\n",
      "r\n",
      "['bread', 'milk', 'cheese']\n",
      "bread milk cheese\n",
      "bread,   milk,   cheese\n"
     ]
    }
   ],
   "source": [
    "shopping_list = ['bread', 'milk', 'cheese']\n",
    "print(shopping_list[0])\n",
    "print(shopping_list[0][1])\n",
    "print(shopping_list)\n",
    "print(*shopping_list) #распаковка\n",
    "print(*shopping_list, sep=', ')"
   ]
  },
  {
   "cell_type": "code",
   "execution_count": 53,
   "id": "aed77067",
   "metadata": {},
   "outputs": [
    {
     "data": {
      "text/plain": [
       "[3, 7.5, 'apple', True, [1, 2], (True, 'bread')]"
      ]
     },
     "execution_count": 53,
     "metadata": {},
     "output_type": "execute_result"
    }
   ],
   "source": [
    "info"
   ]
  },
  {
   "cell_type": "code",
   "execution_count": 55,
   "id": "7f6af3ce",
   "metadata": {},
   "outputs": [
    {
     "name": "stdout",
     "output_type": "stream",
     "text": [
      "3 7.5 apple True [1, 2] (True, 'bread')\n"
     ]
    }
   ],
   "source": [
    "print(*info)"
   ]
  },
  {
   "cell_type": "code",
   "execution_count": 57,
   "id": "d3fca9dc",
   "metadata": {},
   "outputs": [
    {
     "data": {
      "text/plain": [
       "[3, 7.5, 'apple', True, [1, 2], (True, 'bread')]"
      ]
     },
     "execution_count": 57,
     "metadata": {},
     "output_type": "execute_result"
    }
   ],
   "source": [
    "info"
   ]
  },
  {
   "cell_type": "code",
   "execution_count": 61,
   "id": "b4275bc6",
   "metadata": {},
   "outputs": [
    {
     "name": "stdout",
     "output_type": "stream",
     "text": [
      "4\n"
     ]
    }
   ],
   "source": [
    "print(int('0004'))"
   ]
  },
  {
   "cell_type": "code",
   "execution_count": 67,
   "id": "808c2e0a",
   "metadata": {},
   "outputs": [
    {
     "name": "stdout",
     "output_type": "stream",
     "text": [
      "1.04.2017\n",
      "1 апреля 2017 года\n"
     ]
    }
   ],
   "source": [
    "months =    [\"января\" ,\"февраля\", \n",
    "            \"марта\", \"апреля\" ,\"мая\" ,\n",
    "            \"июня\" , \"июля\", \"августа\", \n",
    "            \"сентября\", \"октября\", \"ноября\", \n",
    "            \"декабря\"] \n",
    "date = input().split('.')\n",
    "month_num = int(date[1])\n",
    "month_str = months[month_num-1]\n",
    "#data_new = date[0] + ' ' + month_str + ' ' + date[2] + ' года'\n",
    "print(date[0], month_str, date[2], 'года')"
   ]
  },
  {
   "cell_type": "code",
   "execution_count": 64,
   "id": "8420fa8b",
   "metadata": {},
   "outputs": [
    {
     "name": "stdout",
     "output_type": "stream",
     "text": [
      "апреля\n"
     ]
    }
   ],
   "source": [
    "print(months[month_num-1])"
   ]
  },
  {
   "cell_type": "code",
   "execution_count": 68,
   "id": "075293cd",
   "metadata": {},
   "outputs": [
    {
     "name": "stdout",
     "output_type": "stream",
     "text": [
      "0\n",
      "1\n",
      "2\n",
      "3\n",
      "4\n",
      "5\n",
      "6\n",
      "7\n",
      "8\n",
      "9\n"
     ]
    }
   ],
   "source": [
    "for i in range(10):\n",
    "    print(i)"
   ]
  },
  {
   "cell_type": "code",
   "execution_count": 71,
   "id": "f5d26dfe",
   "metadata": {},
   "outputs": [
    {
     "name": "stdout",
     "output_type": "stream",
     "text": [
      "1 2 3 4 5 6 7 8 9 10 "
     ]
    }
   ],
   "source": [
    "for i in range(1, 11):\n",
    "    print(i, end=' ')"
   ]
  },
  {
   "cell_type": "code",
   "execution_count": 72,
   "id": "606ae1d0",
   "metadata": {},
   "outputs": [
    {
     "name": "stdout",
     "output_type": "stream",
     "text": [
      "1 3 5 7 9 "
     ]
    }
   ],
   "source": [
    "for i in range(1, 11, 2): #первый аргумент - начало диапазона (включая)\n",
    "    print(i, end=' ')    #второй аргумент - конец диапазона (не включая)\n",
    "                        #третий аргумент - шаг в диапазоне"
   ]
  },
  {
   "cell_type": "code",
   "execution_count": 76,
   "id": "ce84a7f6",
   "metadata": {},
   "outputs": [
    {
     "name": "stdout",
     "output_type": "stream",
     "text": [
      "0 1 2 "
     ]
    }
   ],
   "source": [
    "for i in range(len(shopping_list)):\n",
    "    print(i, end=' ')"
   ]
  },
  {
   "cell_type": "code",
   "execution_count": 80,
   "id": "c422aa16",
   "metadata": {},
   "outputs": [
    {
     "data": {
      "text/plain": [
       "('bread', 'milk', 'cheese')"
      ]
     },
     "execution_count": 80,
     "metadata": {},
     "output_type": "execute_result"
    }
   ],
   "source": [
    "sh_list"
   ]
  },
  {
   "cell_type": "code",
   "execution_count": 84,
   "id": "f19c99bb",
   "metadata": {},
   "outputs": [
    {
     "name": "stdout",
     "output_type": "stream",
     "text": [
      "H\n",
      "e\n",
      "l\n",
      "l\n",
      "o\n"
     ]
    }
   ],
   "source": [
    "for elem in \"Hello\": #цикл for работает для последовательность \n",
    "    print(elem)"
   ]
  },
  {
   "cell_type": "code",
   "execution_count": 86,
   "id": "771967b5",
   "metadata": {},
   "outputs": [],
   "source": [
    "books = ['Harry Potter', 'Master and Margarita']\n",
    "authors = ['J.K Rowling', 'Mikhail Bulgakov']"
   ]
  },
  {
   "cell_type": "code",
   "execution_count": 88,
   "id": "a800f82c",
   "metadata": {},
   "outputs": [
    {
     "data": {
      "text/plain": [
       "2"
      ]
     },
     "execution_count": 88,
     "metadata": {},
     "output_type": "execute_result"
    }
   ],
   "source": [
    "len(books)"
   ]
  },
  {
   "cell_type": "code",
   "execution_count": 89,
   "id": "2a89d762",
   "metadata": {},
   "outputs": [
    {
     "ename": "IndexError",
     "evalue": "list index out of range",
     "output_type": "error",
     "traceback": [
      "\u001b[0;31m---------------------------------------------------------------------------\u001b[0m",
      "\u001b[0;31mIndexError\u001b[0m                                Traceback (most recent call last)",
      "\u001b[0;32m<ipython-input-89-e7631e966f28>\u001b[0m in \u001b[0;36m<module>\u001b[0;34m\u001b[0m\n\u001b[0;32m----> 1\u001b[0;31m \u001b[0mbooks\u001b[0m\u001b[0;34m[\u001b[0m\u001b[0;36m2\u001b[0m\u001b[0;34m]\u001b[0m\u001b[0;34m\u001b[0m\u001b[0;34m\u001b[0m\u001b[0m\n\u001b[0m",
      "\u001b[0;31mIndexError\u001b[0m: list index out of range"
     ]
    }
   ],
   "source": [
    "books[2]"
   ]
  },
  {
   "cell_type": "code",
   "execution_count": null,
   "id": "702a3547",
   "metadata": {},
   "outputs": [],
   "source": [
    "books = input().split(';')\n",
    "price = input().split(',')"
   ]
  },
  {
   "cell_type": "code",
   "execution_count": 87,
   "id": "5e725ceb",
   "metadata": {},
   "outputs": [
    {
     "name": "stdout",
     "output_type": "stream",
     "text": [
      "Harry Potter – J.K Rowling\n",
      "Master and Margarita – Mikhail Bulgakov\n"
     ]
    }
   ],
   "source": [
    "for i in range(len(books)):\n",
    "    print(f'{books[i]} – {authors[i]}')"
   ]
  },
  {
   "cell_type": "code",
   "execution_count": 91,
   "id": "d5defbf8",
   "metadata": {},
   "outputs": [
    {
     "name": "stdout",
     "output_type": "stream",
     "text": [
      "range(0, 5)\n"
     ]
    }
   ],
   "source": [
    "print(range(5)) #функция генератор"
   ]
  },
  {
   "cell_type": "code",
   "execution_count": 92,
   "id": "6cf4228c",
   "metadata": {},
   "outputs": [
    {
     "name": "stdout",
     "output_type": "stream",
     "text": [
      "0\n",
      "1\n",
      "2\n",
      "3\n",
      "4\n"
     ]
    }
   ],
   "source": [
    "for i in range(5):\n",
    "    print(i)"
   ]
  },
  {
   "cell_type": "code",
   "execution_count": 95,
   "id": "c9f2a499",
   "metadata": {},
   "outputs": [
    {
     "name": "stdout",
     "output_type": "stream",
     "text": [
      "1\n",
      "3\n",
      "5\n"
     ]
    }
   ],
   "source": [
    "i = 0\n",
    "while i != 5:\n",
    "    i += 1\n",
    "    if i % 2 == 0:\n",
    "        continue #возвращает в начало цикла\n",
    "    print(i)"
   ]
  },
  {
   "cell_type": "code",
   "execution_count": 96,
   "id": "07b563f1",
   "metadata": {},
   "outputs": [
    {
     "name": "stdout",
     "output_type": "stream",
     "text": [
      "1\n",
      "3\n",
      "5\n"
     ]
    }
   ],
   "source": [
    "for i in range(6):\n",
    "    if not i % 2 == 0:\n",
    "        print(i)"
   ]
  },
  {
   "cell_type": "code",
   "execution_count": null,
   "id": "0c84c4c6",
   "metadata": {},
   "outputs": [],
   "source": []
  }
 ],
 "metadata": {
  "kernelspec": {
   "display_name": "Python 3",
   "language": "python",
   "name": "python3"
  },
  "language_info": {
   "codemirror_mode": {
    "name": "ipython",
    "version": 3
   },
   "file_extension": ".py",
   "mimetype": "text/x-python",
   "name": "python",
   "nbconvert_exporter": "python",
   "pygments_lexer": "ipython3",
   "version": "3.8.5"
  }
 },
 "nbformat": 4,
 "nbformat_minor": 5
}

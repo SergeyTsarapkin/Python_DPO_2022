{
 "cells": [
  {
   "cell_type": "code",
   "execution_count": 3,
   "id": "f4b2bd30",
   "metadata": {},
   "outputs": [
    {
     "name": "stdout",
     "output_type": "stream",
     "text": [
      "False\n"
     ]
    }
   ],
   "source": [
    "print('12345.'.isdigit()) #состоит ли строка только из чисел"
   ]
  },
  {
   "cell_type": "code",
   "execution_count": 61,
   "id": "4478fc79",
   "metadata": {},
   "outputs": [
    {
     "data": {
      "text/plain": [
       "False"
      ]
     },
     "execution_count": 61,
     "metadata": {},
     "output_type": "execute_result"
    }
   ],
   "source": [
    "'ab '.isalpha() #состоит ли строка только из букв"
   ]
  },
  {
   "cell_type": "code",
   "execution_count": 55,
   "id": "844cea24",
   "metadata": {},
   "outputs": [
    {
     "data": {
      "text/plain": [
       "'hello'"
      ]
     },
     "execution_count": 55,
     "metadata": {},
     "output_type": "execute_result"
    }
   ],
   "source": [
    "'HELLO'.lower()"
   ]
  },
  {
   "cell_type": "code",
   "execution_count": 57,
   "id": "e2929c52",
   "metadata": {},
   "outputs": [
    {
     "data": {
      "text/plain": [
       "'HELLO'"
      ]
     },
     "execution_count": 57,
     "metadata": {},
     "output_type": "execute_result"
    }
   ],
   "source": [
    "'HEllo'.upper()"
   ]
  },
  {
   "cell_type": "code",
   "execution_count": 12,
   "id": "050e2f95",
   "metadata": {},
   "outputs": [
    {
     "name": "stdout",
     "output_type": "stream",
     "text": [
      "False\n"
     ]
    }
   ],
   "source": [
    "print('helloпривет12,.!'.islower()) #состоит ли строка из символов нижнего регистра"
   ]
  },
  {
   "cell_type": "code",
   "execution_count": 59,
   "id": "73ab08e2",
   "metadata": {},
   "outputs": [
    {
     "data": {
      "text/plain": [
       "True"
      ]
     },
     "execution_count": 59,
     "metadata": {},
     "output_type": "execute_result"
    }
   ],
   "source": [
    "'hello'.upper() == 'Hello'.upper()"
   ]
  },
  {
   "cell_type": "code",
   "execution_count": 34,
   "id": "f3c669cc",
   "metadata": {},
   "outputs": [
    {
     "data": {
      "text/plain": [
       "6"
      ]
     },
     "execution_count": 34,
     "metadata": {},
     "output_type": "execute_result"
    }
   ],
   "source": [
    "sentence = 'hello, hello, hello'\n",
    "sentence.count('l') #возвращает кол-во вхождений заданной \n",
    "                    #подстроки"
   ]
  },
  {
   "cell_type": "code",
   "execution_count": 30,
   "id": "f9172364",
   "metadata": {},
   "outputs": [
    {
     "data": {
      "text/plain": [
       "1"
      ]
     },
     "execution_count": 30,
     "metadata": {},
     "output_type": "execute_result"
    }
   ],
   "source": [
    "sentence.find('e') #возвращает индекс первого вхождения подстроки слева"
   ]
  },
  {
   "cell_type": "code",
   "execution_count": 27,
   "id": "44f649c6",
   "metadata": {},
   "outputs": [
    {
     "data": {
      "text/plain": [
       "8"
      ]
     },
     "execution_count": 27,
     "metadata": {},
     "output_type": "execute_result"
    }
   ],
   "source": [
    "sentence.rfind('el') #возвращает индекс первого вхождения подстроки справа"
   ]
  },
  {
   "cell_type": "code",
   "execution_count": 31,
   "id": "7ac6ab93",
   "metadata": {},
   "outputs": [
    {
     "data": {
      "text/plain": [
       "-1"
      ]
     },
     "execution_count": 31,
     "metadata": {},
     "output_type": "execute_result"
    }
   ],
   "source": [
    "sentence.find('6') #если эл-т отсутствует в строке, то возвращается -1"
   ]
  },
  {
   "cell_type": "code",
   "execution_count": 65,
   "id": "d69388de",
   "metadata": {},
   "outputs": [],
   "source": [
    "sentence = 'hello, hello, hello'"
   ]
  },
  {
   "cell_type": "code",
   "execution_count": 68,
   "id": "51c7a937",
   "metadata": {},
   "outputs": [],
   "source": [
    "sentence = sentence.replace('hello', 'salut')"
   ]
  },
  {
   "cell_type": "code",
   "execution_count": 69,
   "id": "822bcccd",
   "metadata": {},
   "outputs": [
    {
     "data": {
      "text/plain": [
       "'salut, salut, salut'"
      ]
     },
     "execution_count": 69,
     "metadata": {},
     "output_type": "execute_result"
    }
   ],
   "source": [
    "sentence"
   ]
  },
  {
   "cell_type": "code",
   "execution_count": 53,
   "id": "cb28c023",
   "metadata": {},
   "outputs": [
    {
     "data": {
      "text/plain": [
       "'hh'"
      ]
     },
     "execution_count": 53,
     "metadata": {},
     "output_type": "execute_result"
    }
   ],
   "source": [
    "'h' * 2"
   ]
  },
  {
   "cell_type": "code",
   "execution_count": 52,
   "id": "76b163f9",
   "metadata": {},
   "outputs": [
    {
     "ename": "TypeError",
     "evalue": "can only concatenate str (not \"int\") to str",
     "output_type": "error",
     "traceback": [
      "\u001b[0;31m---------------------------------------------------------------------------\u001b[0m",
      "\u001b[0;31mTypeError\u001b[0m                                 Traceback (most recent call last)",
      "\u001b[0;32m<ipython-input-52-395a61e4b4a2>\u001b[0m in \u001b[0;36m<module>\u001b[0;34m\u001b[0m\n\u001b[0;32m----> 1\u001b[0;31m \u001b[0;34m'h'\u001b[0m \u001b[0;34m+\u001b[0m \u001b[0;36m2\u001b[0m\u001b[0;34m\u001b[0m\u001b[0;34m\u001b[0m\u001b[0m\n\u001b[0m",
      "\u001b[0;31mTypeError\u001b[0m: can only concatenate str (not \"int\") to str"
     ]
    }
   ],
   "source": [
    "'h' + 2"
   ]
  },
  {
   "cell_type": "code",
   "execution_count": 47,
   "id": "0d789071",
   "metadata": {},
   "outputs": [
    {
     "data": {
      "text/plain": [
       "'     hjklhaklj.  '"
      ]
     },
     "execution_count": 47,
     "metadata": {},
     "output_type": "execute_result"
    }
   ],
   "source": [
    "'     ghjklghakljg.  '.replace('g', '')"
   ]
  },
  {
   "cell_type": "code",
   "execution_count": 40,
   "id": "86cddb07",
   "metadata": {},
   "outputs": [
    {
     "data": {
      "text/plain": [
       "'salut, salut, salut'"
      ]
     },
     "execution_count": 40,
     "metadata": {},
     "output_type": "execute_result"
    }
   ],
   "source": [
    "sentence"
   ]
  },
  {
   "cell_type": "code",
   "execution_count": 41,
   "id": "b7b7665e",
   "metadata": {},
   "outputs": [
    {
     "data": {
      "text/plain": [
       "'ghjklghakljg.'"
      ]
     },
     "execution_count": 41,
     "metadata": {},
     "output_type": "execute_result"
    }
   ],
   "source": [
    "'     ghjklghakljg.  '.strip() #удаляет лишние пробелы в начале и в конце строки"
   ]
  },
  {
   "cell_type": "code",
   "execution_count": 42,
   "id": "34cdd828",
   "metadata": {},
   "outputs": [
    {
     "data": {
      "text/plain": [
       "'ghjklghakljg.  '"
      ]
     },
     "execution_count": 42,
     "metadata": {},
     "output_type": "execute_result"
    }
   ],
   "source": [
    "'     ghjklghakljg.  '.lstrip() #left strip"
   ]
  },
  {
   "cell_type": "code",
   "execution_count": 43,
   "id": "17f333c4",
   "metadata": {},
   "outputs": [
    {
     "data": {
      "text/plain": [
       "'     ghjklghakljg.'"
      ]
     },
     "execution_count": 43,
     "metadata": {},
     "output_type": "execute_result"
    }
   ],
   "source": [
    "'     ghjklghakljg.  '.rstrip() #right strip"
   ]
  },
  {
   "cell_type": "code",
   "execution_count": 49,
   "id": "4f984511",
   "metadata": {},
   "outputs": [],
   "source": [
    "a = 'ghjklghakljg'.strip()"
   ]
  },
  {
   "cell_type": "code",
   "execution_count": 50,
   "id": "13678b19",
   "metadata": {},
   "outputs": [
    {
     "data": {
      "text/plain": [
       "'hjklghaklj'"
      ]
     },
     "execution_count": 50,
     "metadata": {},
     "output_type": "execute_result"
    }
   ],
   "source": [
    "a"
   ]
  },
  {
   "cell_type": "markdown",
   "id": "8f5d9eed",
   "metadata": {},
   "source": [
    "# Методы списков"
   ]
  },
  {
   "cell_type": "code",
   "execution_count": 98,
   "id": "2e352a87",
   "metadata": {},
   "outputs": [
    {
     "name": "stdout",
     "output_type": "stream",
     "text": [
      "['milk', 'cheese', 'apple', 'orange', 'orange', 'cheese']\n"
     ]
    }
   ],
   "source": [
    "sh_list = ['milk', 'cheese', 'apple']\n",
    "sh_list.append('orange')\n",
    "sh_list.append('orange')\n",
    "sh_list.append('cheese')\n",
    "print(sh_list)"
   ]
  },
  {
   "cell_type": "code",
   "execution_count": 82,
   "id": "6b2c5669",
   "metadata": {},
   "outputs": [],
   "source": [
    "sh_list.remove('cheese') #удаляет первое вхождение элемента"
   ]
  },
  {
   "cell_type": "code",
   "execution_count": 83,
   "id": "e5f815b3",
   "metadata": {},
   "outputs": [
    {
     "data": {
      "text/plain": [
       "['milk', 'apple', 'orange', 'orange', 'cheese']"
      ]
     },
     "execution_count": 83,
     "metadata": {},
     "output_type": "execute_result"
    }
   ],
   "source": [
    "sh_list"
   ]
  },
  {
   "cell_type": "code",
   "execution_count": 86,
   "id": "d693a708",
   "metadata": {},
   "outputs": [
    {
     "name": "stdout",
     "output_type": "stream",
     "text": [
      "2\n"
     ]
    }
   ],
   "source": [
    "print(sh_list.count('orange')) #возвращает кол-во \n",
    "                            #элементов для указанного внутри списка"
   ]
  },
  {
   "cell_type": "code",
   "execution_count": 99,
   "id": "81d709c7",
   "metadata": {},
   "outputs": [],
   "source": [
    "sh_list.append(2)"
   ]
  },
  {
   "cell_type": "code",
   "execution_count": 100,
   "id": "e3ca77ee",
   "metadata": {},
   "outputs": [],
   "source": [
    "sh_list.append(2)"
   ]
  },
  {
   "cell_type": "code",
   "execution_count": 101,
   "id": "2473067d",
   "metadata": {},
   "outputs": [
    {
     "data": {
      "text/plain": [
       "['milk', 'cheese', 'apple', 'orange', 'orange', 'cheese', 2, 2]"
      ]
     },
     "execution_count": 101,
     "metadata": {},
     "output_type": "execute_result"
    }
   ],
   "source": [
    "sh_list"
   ]
  },
  {
   "cell_type": "code",
   "execution_count": 90,
   "id": "de6b02e4",
   "metadata": {},
   "outputs": [
    {
     "name": "stdout",
     "output_type": "stream",
     "text": [
      "2\n"
     ]
    }
   ],
   "source": [
    "print(sh_list.count(2))"
   ]
  },
  {
   "cell_type": "code",
   "execution_count": 91,
   "id": "c0c31af9",
   "metadata": {},
   "outputs": [
    {
     "data": {
      "text/plain": [
       "3"
      ]
     },
     "execution_count": 91,
     "metadata": {},
     "output_type": "execute_result"
    }
   ],
   "source": [
    "sh_list.index('orange') #возвращается индекс первого вхождения эл-та"
   ]
  },
  {
   "cell_type": "code",
   "execution_count": 92,
   "id": "eec832f8",
   "metadata": {},
   "outputs": [
    {
     "ename": "ValueError",
     "evalue": "'bread' is not in list",
     "output_type": "error",
     "traceback": [
      "\u001b[0;31m---------------------------------------------------------------------------\u001b[0m",
      "\u001b[0;31mValueError\u001b[0m                                Traceback (most recent call last)",
      "\u001b[0;32m<ipython-input-92-3c56041c18af>\u001b[0m in \u001b[0;36m<module>\u001b[0;34m\u001b[0m\n\u001b[0;32m----> 1\u001b[0;31m \u001b[0msh_list\u001b[0m\u001b[0;34m.\u001b[0m\u001b[0mindex\u001b[0m\u001b[0;34m(\u001b[0m\u001b[0;34m'bread'\u001b[0m\u001b[0;34m)\u001b[0m\u001b[0;34m\u001b[0m\u001b[0;34m\u001b[0m\u001b[0m\n\u001b[0m",
      "\u001b[0;31mValueError\u001b[0m: 'bread' is not in list"
     ]
    }
   ],
   "source": [
    "sh_list.index('bread')"
   ]
  },
  {
   "cell_type": "code",
   "execution_count": 93,
   "id": "f2c05c40",
   "metadata": {},
   "outputs": [
    {
     "name": "stdout",
     "output_type": "stream",
     "text": [
      "-10\n",
      "7320\n",
      "7438\n"
     ]
    }
   ],
   "source": [
    "numbers = [1, 3, -10, 124, 7320]\n",
    "print(min(numbers)) #минимум ф-ции\n",
    "print(max(numbers))\n",
    "print(sum(numbers))"
   ]
  },
  {
   "cell_type": "code",
   "execution_count": 110,
   "id": "6f2ff44f",
   "metadata": {},
   "outputs": [
    {
     "name": "stdout",
     "output_type": "stream",
     "text": [
      "apple\n",
      "coca cola\n"
     ]
    }
   ],
   "source": [
    "sh_list = ['coca cola', 'cheese', 'apple'] #лексикографический порядок\n",
    "print(min(sh_list))\n",
    "print(max(sh_list))"
   ]
  },
  {
   "cell_type": "code",
   "execution_count": 111,
   "id": "785151c7",
   "metadata": {},
   "outputs": [
    {
     "name": "stdout",
     "output_type": "stream",
     "text": [
      "[9, 6, 5]\n"
     ]
    }
   ],
   "source": [
    "print(list(map(len, sh_list)))"
   ]
  },
  {
   "cell_type": "code",
   "execution_count": 115,
   "id": "7ae07a14",
   "metadata": {},
   "outputs": [
    {
     "data": {
      "text/plain": [
       "2"
      ]
     },
     "execution_count": 115,
     "metadata": {},
     "output_type": "execute_result"
    }
   ],
   "source": [
    "int('2')"
   ]
  },
  {
   "cell_type": "code",
   "execution_count": 121,
   "id": "729a763e",
   "metadata": {},
   "outputs": [
    {
     "data": {
      "text/plain": [
       "1.0"
      ]
     },
     "execution_count": 121,
     "metadata": {},
     "output_type": "execute_result"
    }
   ],
   "source": [
    "min(numbers)"
   ]
  },
  {
   "cell_type": "code",
   "execution_count": 119,
   "id": "677e932a",
   "metadata": {},
   "outputs": [
    {
     "data": {
      "text/plain": [
       "'HELLO'"
      ]
     },
     "execution_count": 119,
     "metadata": {},
     "output_type": "execute_result"
    }
   ],
   "source": [
    "'hello'.upper()"
   ]
  },
  {
   "cell_type": "code",
   "execution_count": 126,
   "id": "b5f8aaab",
   "metadata": {},
   "outputs": [],
   "source": [
    "sh_list = ['1', '2', '3']"
   ]
  },
  {
   "cell_type": "code",
   "execution_count": 136,
   "id": "085a881b",
   "metadata": {},
   "outputs": [
    {
     "name": "stdout",
     "output_type": "stream",
     "text": [
      "1 2 3 4 5\n"
     ]
    },
    {
     "data": {
      "text/plain": [
       "['1', '2', '3', '4', '5']"
      ]
     },
     "execution_count": 136,
     "metadata": {},
     "output_type": "execute_result"
    }
   ],
   "source": [
    "input().split()"
   ]
  },
  {
   "cell_type": "code",
   "execution_count": 137,
   "id": "8d52a571",
   "metadata": {},
   "outputs": [
    {
     "name": "stdout",
     "output_type": "stream",
     "text": [
      "1 2 3 4 5\n"
     ]
    },
    {
     "data": {
      "text/plain": [
       "[1, 2, 3, 4, 5]"
      ]
     },
     "execution_count": 137,
     "metadata": {},
     "output_type": "execute_result"
    }
   ],
   "source": [
    "numbers = list(map(int, input().split()))\n",
    "numbers"
   ]
  },
  {
   "cell_type": "code",
   "execution_count": 127,
   "id": "912feaab",
   "metadata": {},
   "outputs": [
    {
     "name": "stdout",
     "output_type": "stream",
     "text": [
      "['1', '2', '3']\n"
     ]
    }
   ],
   "source": [
    "print(list(map(str.upper, sh_list))) #метод - функция для конкретного класса объектов"
   ]
  },
  {
   "cell_type": "code",
   "execution_count": 104,
   "id": "524ae2a0",
   "metadata": {},
   "outputs": [
    {
     "data": {
      "text/plain": [
       "'coca cola;   cheese;   apple'"
      ]
     },
     "execution_count": 104,
     "metadata": {},
     "output_type": "execute_result"
    }
   ],
   "source": [
    "';   '.join(sh_list) #возвращает строку, соединяя эл-ты списка \n",
    "                    #по заданному разделителю"
   ]
  },
  {
   "cell_type": "code",
   "execution_count": 105,
   "id": "0082fc05",
   "metadata": {},
   "outputs": [
    {
     "name": "stdout",
     "output_type": "stream",
     "text": [
      "1, 2, 3, 4\n"
     ]
    }
   ],
   "source": [
    "numbers = input().split(', ')"
   ]
  },
  {
   "cell_type": "code",
   "execution_count": 106,
   "id": "8178e571",
   "metadata": {},
   "outputs": [
    {
     "data": {
      "text/plain": [
       "['1', '2', '3', '4']"
      ]
     },
     "execution_count": 106,
     "metadata": {},
     "output_type": "execute_result"
    }
   ],
   "source": [
    "numbers"
   ]
  },
  {
   "cell_type": "code",
   "execution_count": 107,
   "id": "52d89e82",
   "metadata": {},
   "outputs": [],
   "source": [
    "#map - mapping (отображение)\n",
    "numbers = list(map(int, numbers)) #первый аргумент – функция, с помощью \n",
    "                #которой преобразуем передаваемый массив, 2й арг-т – массив"
   ]
  },
  {
   "cell_type": "code",
   "execution_count": 109,
   "id": "e98c1d25",
   "metadata": {},
   "outputs": [
    {
     "data": {
      "text/plain": [
       "[1.0, 2.0, 3.0, 4.0]"
      ]
     },
     "execution_count": 109,
     "metadata": {},
     "output_type": "execute_result"
    }
   ],
   "source": [
    "numbers = list(map(float, numbers))\n",
    "numbers"
   ]
  },
  {
   "cell_type": "code",
   "execution_count": 129,
   "id": "14dffbc8",
   "metadata": {},
   "outputs": [
    {
     "data": {
      "text/plain": [
       "[1.0, 2.0, 3.0, 4.0]"
      ]
     },
     "execution_count": 129,
     "metadata": {},
     "output_type": "execute_result"
    }
   ],
   "source": [
    "list(map(float, numbers))"
   ]
  },
  {
   "cell_type": "code",
   "execution_count": 130,
   "id": "a0af7af9",
   "metadata": {},
   "outputs": [
    {
     "data": {
      "text/plain": [
       "['https:', '', 'online.hse.ru', 'python-as-foreign', '2', '']"
      ]
     },
     "execution_count": 130,
     "metadata": {},
     "output_type": "execute_result"
    }
   ],
   "source": [
    "link = 'https://online.hse.ru/python-as-foreign/2/'\n",
    "link.split('/')"
   ]
  },
  {
   "cell_type": "code",
   "execution_count": 132,
   "id": "ded46fbb",
   "metadata": {},
   "outputs": [
    {
     "data": {
      "text/plain": [
       "['online.hse.ru', 'python-as-foreign', '2', '']"
      ]
     },
     "execution_count": 132,
     "metadata": {},
     "output_type": "execute_result"
    }
   ],
   "source": [
    "link2 = 'online.hse.ru/python-as-foreign/2/'\n",
    "link2.split('/')"
   ]
  },
  {
   "cell_type": "code",
   "execution_count": 134,
   "id": "9c55bfb9",
   "metadata": {},
   "outputs": [
    {
     "data": {
      "text/plain": [
       "'42'"
      ]
     },
     "execution_count": 134,
     "metadata": {},
     "output_type": "execute_result"
    }
   ],
   "source": [
    "'.!#42#!.'.strip('.!#')"
   ]
  },
  {
   "cell_type": "code",
   "execution_count": null,
   "id": "3c5a395f",
   "metadata": {},
   "outputs": [],
   "source": []
  }
 ],
 "metadata": {
  "kernelspec": {
   "display_name": "Python 3",
   "language": "python",
   "name": "python3"
  },
  "language_info": {
   "codemirror_mode": {
    "name": "ipython",
    "version": 3
   },
   "file_extension": ".py",
   "mimetype": "text/x-python",
   "name": "python",
   "nbconvert_exporter": "python",
   "pygments_lexer": "ipython3",
   "version": "3.8.5"
  }
 },
 "nbformat": 4,
 "nbformat_minor": 5
}

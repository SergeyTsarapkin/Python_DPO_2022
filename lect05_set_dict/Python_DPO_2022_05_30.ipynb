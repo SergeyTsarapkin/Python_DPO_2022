{
 "cells": [
  {
   "cell_type": "code",
   "execution_count": 1,
   "id": "a9a166dd",
   "metadata": {},
   "outputs": [
    {
     "name": "stdout",
     "output_type": "stream",
     "text": [
      "{2, 3, 4}\n"
     ]
    }
   ],
   "source": [
    "a = {2, 2, 2, 3, 3, 4}\n",
    "print(a) #множество - коллекция уникальных эл-ов"
   ]
  },
  {
   "cell_type": "code",
   "execution_count": 2,
   "id": "eaa63249",
   "metadata": {},
   "outputs": [
    {
     "ename": "TypeError",
     "evalue": "unhashable type: 'list'",
     "output_type": "error",
     "traceback": [
      "\u001b[0;31m---------------------------------------------------------------------------\u001b[0m",
      "\u001b[0;31mTypeError\u001b[0m                                 Traceback (most recent call last)",
      "\u001b[0;32m<ipython-input-2-61e5548cf7c4>\u001b[0m in \u001b[0;36m<module>\u001b[0;34m\u001b[0m\n\u001b[0;32m----> 1\u001b[0;31m \u001b[0ma\u001b[0m \u001b[0;34m=\u001b[0m \u001b[0;34m{\u001b[0m\u001b[0;36m2\u001b[0m\u001b[0;34m,\u001b[0m \u001b[0;36m2\u001b[0m\u001b[0;34m,\u001b[0m \u001b[0;36m2\u001b[0m\u001b[0;34m,\u001b[0m \u001b[0;36m3\u001b[0m\u001b[0;34m,\u001b[0m \u001b[0;36m3\u001b[0m\u001b[0;34m,\u001b[0m \u001b[0;36m4\u001b[0m\u001b[0;34m,\u001b[0m \u001b[0;34m[\u001b[0m\u001b[0;36m1\u001b[0m\u001b[0;34m]\u001b[0m\u001b[0;34m}\u001b[0m\u001b[0;34m\u001b[0m\u001b[0;34m\u001b[0m\u001b[0m\n\u001b[0m",
      "\u001b[0;31mTypeError\u001b[0m: unhashable type: 'list'"
     ]
    }
   ],
   "source": [
    "a = {2, 2, 2, 3, 3, 4, [1]} #элементами множ-ва не могут быть изменяемые\n",
    "                            #типы данных"
   ]
  },
  {
   "cell_type": "code",
   "execution_count": 61,
   "id": "db7c17b7",
   "metadata": {},
   "outputs": [
    {
     "name": "stdout",
     "output_type": "stream",
     "text": [
      "{False, True, 2, 2.5, (2, 3), 'Hello', 'Salut'}\n"
     ]
    }
   ],
   "source": [
    "a = {2, 2.5, True, False, 'Salut', 'Hello', (2, 3)}\n",
    "print(a) #множество - неупорядоченный тип данных"
   ]
  },
  {
   "cell_type": "code",
   "execution_count": 62,
   "id": "4cf973d7",
   "metadata": {},
   "outputs": [
    {
     "ename": "KeyError",
     "evalue": "'Bonjour'",
     "output_type": "error",
     "traceback": [
      "\u001b[0;31m---------------------------------------------------------------------------\u001b[0m",
      "\u001b[0;31mKeyError\u001b[0m                                  Traceback (most recent call last)",
      "\u001b[0;32m<ipython-input-62-9d1c0e5ba94b>\u001b[0m in \u001b[0;36m<module>\u001b[0;34m\u001b[0m\n\u001b[0;32m----> 1\u001b[0;31m \u001b[0ma\u001b[0m\u001b[0;34m.\u001b[0m\u001b[0mremove\u001b[0m\u001b[0;34m(\u001b[0m\u001b[0;34m'Bonjour'\u001b[0m\u001b[0;34m)\u001b[0m\u001b[0;34m\u001b[0m\u001b[0;34m\u001b[0m\u001b[0m\n\u001b[0m",
      "\u001b[0;31mKeyError\u001b[0m: 'Bonjour'"
     ]
    }
   ],
   "source": [
    "a.remove('Bonjour')"
   ]
  },
  {
   "cell_type": "code",
   "execution_count": 63,
   "id": "bfc417a5",
   "metadata": {},
   "outputs": [],
   "source": [
    "a.discard('Bonjour')"
   ]
  },
  {
   "cell_type": "code",
   "execution_count": 12,
   "id": "883b03bc",
   "metadata": {
    "scrolled": true
   },
   "outputs": [
    {
     "name": "stdout",
     "output_type": "stream",
     "text": [
      "False\n",
      "True\n",
      "2\n",
      "2.5\n",
      "(2, 3)\n",
      "Hello\n",
      "Salut\n"
     ]
    }
   ],
   "source": [
    "for i in a:\n",
    "    print(i)"
   ]
  },
  {
   "cell_type": "code",
   "execution_count": 14,
   "id": "ce75b8e1",
   "metadata": {},
   "outputs": [
    {
     "data": {
      "text/plain": [
       "True"
      ]
     },
     "execution_count": 14,
     "metadata": {},
     "output_type": "execute_result"
    }
   ],
   "source": [
    "2 in a"
   ]
  },
  {
   "cell_type": "code",
   "execution_count": 15,
   "id": "bac8526e",
   "metadata": {},
   "outputs": [
    {
     "data": {
      "text/plain": [
       "False"
      ]
     },
     "execution_count": 15,
     "metadata": {},
     "output_type": "execute_result"
    }
   ],
   "source": [
    "2 not in a"
   ]
  },
  {
   "cell_type": "code",
   "execution_count": 16,
   "id": "3dff51db",
   "metadata": {},
   "outputs": [],
   "source": [
    "empty_set = set()"
   ]
  },
  {
   "cell_type": "code",
   "execution_count": 18,
   "id": "81d206ae",
   "metadata": {},
   "outputs": [
    {
     "name": "stdout",
     "output_type": "stream",
     "text": [
      "{'bread', 'milk'}\n"
     ]
    }
   ],
   "source": [
    "sh_list = ['bread', 'milk', 'milk']\n",
    "sh_set = set(sh_list)\n",
    "print(sh_set)"
   ]
  },
  {
   "cell_type": "code",
   "execution_count": 19,
   "id": "95918c2c",
   "metadata": {},
   "outputs": [],
   "source": [
    "sh_list = list(sh_set)"
   ]
  },
  {
   "cell_type": "code",
   "execution_count": 20,
   "id": "55cd8aea",
   "metadata": {},
   "outputs": [
    {
     "name": "stdout",
     "output_type": "stream",
     "text": [
      "['bread', 'milk']\n"
     ]
    }
   ],
   "source": [
    "print(sh_list)"
   ]
  },
  {
   "cell_type": "code",
   "execution_count": 21,
   "id": "205c3709",
   "metadata": {},
   "outputs": [
    {
     "name": "stdout",
     "output_type": "stream",
     "text": [
      "<class 'list'> <class 'tuple'>\n"
     ]
    }
   ],
   "source": [
    "a = []\n",
    "b = ()\n",
    "print(type(a), type(b))"
   ]
  },
  {
   "cell_type": "code",
   "execution_count": 22,
   "id": "3224688e",
   "metadata": {},
   "outputs": [
    {
     "name": "stdout",
     "output_type": "stream",
     "text": [
      "<class 'dict'>\n"
     ]
    }
   ],
   "source": [
    "c = {}\n",
    "print(type(c))"
   ]
  },
  {
   "cell_type": "code",
   "execution_count": 30,
   "id": "90062579",
   "metadata": {},
   "outputs": [
    {
     "name": "stdout",
     "output_type": "stream",
     "text": [
      "Объединение: {'python', 'dog', 'parrot', 'cat'}\n",
      "Пересечение: {'python'}\n",
      "Разность: {'dog', 'cat'}\n",
      "Разность: {'parrot'}\n",
      "Симметрическая разность: {'dog', 'parrot', 'cat'}\n"
     ]
    }
   ],
   "source": [
    "a = {'python', 'dog', 'cat'}\n",
    "b = {'python', 'parrot'}\n",
    "print('Объединение:', a | b)\n",
    "print('Пересечение:', a & b)\n",
    "print('Разность:', a - b)\n",
    "print('Разность:', b - a)\n",
    "print('Симметрическая разность:', a ^ b)"
   ]
  },
  {
   "cell_type": "code",
   "execution_count": 32,
   "id": "f8531882",
   "metadata": {},
   "outputs": [
    {
     "name": "stdout",
     "output_type": "stream",
     "text": [
      "{'ш', 'а', 'о', 'к'}\n"
     ]
    }
   ],
   "source": [
    "print(set('кошка'))"
   ]
  },
  {
   "cell_type": "code",
   "execution_count": null,
   "id": "95b8db47",
   "metadata": {},
   "outputs": [],
   "source": [
    "# A^B = A|B - A&B "
   ]
  },
  {
   "cell_type": "code",
   "execution_count": 34,
   "id": "80b4c1a8",
   "metadata": {},
   "outputs": [
    {
     "name": "stdout",
     "output_type": "stream",
     "text": [
      "2\n"
     ]
    }
   ],
   "source": [
    "if set():\n",
    "    print(1)\n",
    "else:\n",
    "    print(2)"
   ]
  },
  {
   "cell_type": "markdown",
   "id": "816d13c3",
   "metadata": {},
   "source": [
    "# Словарь"
   ]
  },
  {
   "cell_type": "code",
   "execution_count": 35,
   "id": "fd9b4b79",
   "metadata": {},
   "outputs": [],
   "source": [
    "products_price = {'bread' : 20, 'milk' : 30, 'cheese' : 100}"
   ]
  },
  {
   "cell_type": "code",
   "execution_count": 42,
   "id": "76188235",
   "metadata": {},
   "outputs": [
    {
     "name": "stdout",
     "output_type": "stream",
     "text": [
      "bread\n",
      "milk\n",
      "cheese\n"
     ]
    }
   ],
   "source": [
    "for i in products_price:\n",
    "    print(i) #print dictionary keys in for loop"
   ]
  },
  {
   "cell_type": "code",
   "execution_count": 43,
   "id": "2e11b2bd",
   "metadata": {},
   "outputs": [
    {
     "name": "stdout",
     "output_type": "stream",
     "text": [
      "20\n",
      "30\n",
      "100\n"
     ]
    }
   ],
   "source": [
    "for i in products_price:\n",
    "    print(products_price[i]) #print dictionary values in for loop"
   ]
  },
  {
   "cell_type": "code",
   "execution_count": 37,
   "id": "36942301",
   "metadata": {},
   "outputs": [
    {
     "data": {
      "text/plain": [
       "30"
      ]
     },
     "execution_count": 37,
     "metadata": {},
     "output_type": "execute_result"
    }
   ],
   "source": [
    "#price for milk\n",
    "products_price['milk']"
   ]
  },
  {
   "cell_type": "code",
   "execution_count": 39,
   "id": "28971f9f",
   "metadata": {},
   "outputs": [
    {
     "data": {
      "text/plain": [
       "['bread', 'milk', 'cheese']"
      ]
     },
     "execution_count": 39,
     "metadata": {},
     "output_type": "execute_result"
    }
   ],
   "source": [
    "list(products_price.keys()) #ключи словаря – названия продуктов"
   ]
  },
  {
   "cell_type": "code",
   "execution_count": 80,
   "id": "4a1a9200",
   "metadata": {},
   "outputs": [
    {
     "data": {
      "text/plain": [
       "{'bread': 20,\n",
       " 'milk': 50,\n",
       " 'cheese': 100,\n",
       " 'apple': 20,\n",
       " 2: 3,\n",
       " 'orange': [1, 2, 3],\n",
       " 'water': 100}"
      ]
     },
     "execution_count": 80,
     "metadata": {},
     "output_type": "execute_result"
    }
   ],
   "source": [
    "products_price"
   ]
  },
  {
   "cell_type": "code",
   "execution_count": 81,
   "id": "258c8c99",
   "metadata": {},
   "outputs": [
    {
     "ename": "KeyError",
     "evalue": "'c'",
     "output_type": "error",
     "traceback": [
      "\u001b[0;31m---------------------------------------------------------------------------\u001b[0m",
      "\u001b[0;31mKeyError\u001b[0m                                  Traceback (most recent call last)",
      "\u001b[0;32m<ipython-input-81-c190b665e8f4>\u001b[0m in \u001b[0;36m<module>\u001b[0;34m\u001b[0m\n\u001b[0;32m----> 1\u001b[0;31m \u001b[0mproducts_price\u001b[0m\u001b[0;34m[\u001b[0m\u001b[0;34m'c'\u001b[0m\u001b[0;34m]\u001b[0m\u001b[0;34m\u001b[0m\u001b[0;34m\u001b[0m\u001b[0m\n\u001b[0m",
      "\u001b[0;31mKeyError\u001b[0m: 'c'"
     ]
    }
   ],
   "source": [
    "products_price['c']"
   ]
  },
  {
   "cell_type": "code",
   "execution_count": 40,
   "id": "2d1af575",
   "metadata": {},
   "outputs": [
    {
     "data": {
      "text/plain": [
       "[20, 30, 100]"
      ]
     },
     "execution_count": 40,
     "metadata": {},
     "output_type": "execute_result"
    }
   ],
   "source": [
    "list(products_price.values()) #значения словаря – цены продуктов"
   ]
  },
  {
   "cell_type": "code",
   "execution_count": 41,
   "id": "6fd3a033",
   "metadata": {},
   "outputs": [
    {
     "data": {
      "text/plain": [
       "[('bread', 20), ('milk', 30), ('cheese', 100)]"
      ]
     },
     "execution_count": 41,
     "metadata": {},
     "output_type": "execute_result"
    }
   ],
   "source": [
    "list(products_price.items()) #пары \"ключ-значение\" – список кортежей, \n",
    "                            #состоящих из названия и цены продукта"
   ]
  },
  {
   "cell_type": "code",
   "execution_count": 44,
   "id": "422b4422",
   "metadata": {},
   "outputs": [
    {
     "data": {
      "text/plain": [
       "{'bread': 20, 'milk': 50, 'cheese': 100}"
      ]
     },
     "execution_count": 44,
     "metadata": {},
     "output_type": "execute_result"
    }
   ],
   "source": [
    "products_price['milk'] = 50\n",
    "products_price"
   ]
  },
  {
   "cell_type": "code",
   "execution_count": 65,
   "id": "0ada1782",
   "metadata": {},
   "outputs": [
    {
     "data": {
      "text/plain": [
       "20"
      ]
     },
     "execution_count": 65,
     "metadata": {},
     "output_type": "execute_result"
    }
   ],
   "source": [
    "products_price.get('bread')"
   ]
  },
  {
   "cell_type": "code",
   "execution_count": 46,
   "id": "6006c83b",
   "metadata": {},
   "outputs": [
    {
     "data": {
      "text/plain": [
       "20"
      ]
     },
     "execution_count": 46,
     "metadata": {},
     "output_type": "execute_result"
    }
   ],
   "source": [
    "products_price['bread']"
   ]
  },
  {
   "cell_type": "code",
   "execution_count": 47,
   "id": "dc69133b",
   "metadata": {},
   "outputs": [],
   "source": [
    "#добавление ключа-значение в словарь\n",
    "products_price['apple'] = 20"
   ]
  },
  {
   "cell_type": "code",
   "execution_count": 48,
   "id": "a76a1699",
   "metadata": {},
   "outputs": [
    {
     "data": {
      "text/plain": [
       "{'bread': 20, 'milk': 50, 'cheese': 100, 'apple': 20}"
      ]
     },
     "execution_count": 48,
     "metadata": {},
     "output_type": "execute_result"
    }
   ],
   "source": [
    "products_price"
   ]
  },
  {
   "cell_type": "code",
   "execution_count": 49,
   "id": "ff077ac9",
   "metadata": {},
   "outputs": [],
   "source": [
    "products_price[2] = 3"
   ]
  },
  {
   "cell_type": "code",
   "execution_count": 50,
   "id": "c1149315",
   "metadata": {},
   "outputs": [
    {
     "data": {
      "text/plain": [
       "{'bread': 20, 'milk': 50, 'cheese': 100, 'apple': 20, 2: 3}"
      ]
     },
     "execution_count": 50,
     "metadata": {},
     "output_type": "execute_result"
    }
   ],
   "source": [
    "products_price"
   ]
  },
  {
   "cell_type": "code",
   "execution_count": 53,
   "id": "fddb3f94",
   "metadata": {},
   "outputs": [
    {
     "data": {
      "text/plain": [
       "{'bread': 20,\n",
       " 'milk': 50,\n",
       " 'cheese': 100,\n",
       " 'apple': 20,\n",
       " 2: 3,\n",
       " 'orange': [1, 2, 3]}"
      ]
     },
     "execution_count": 53,
     "metadata": {},
     "output_type": "execute_result"
    }
   ],
   "source": [
    "products_price['orange'] = [1, 2, 3]\n",
    "products_price"
   ]
  },
  {
   "cell_type": "code",
   "execution_count": 56,
   "id": "d02d3e83",
   "metadata": {},
   "outputs": [
    {
     "data": {
      "text/plain": [
       "{'bread': 20,\n",
       " 'milk': 50,\n",
       " 'cheese': 100,\n",
       " 'apple': 20,\n",
       " 2: 3,\n",
       " 'orange': [1, 2, 3],\n",
       " 'water': 100,\n",
       " 'banana': 10}"
      ]
     },
     "execution_count": 56,
     "metadata": {},
     "output_type": "execute_result"
    }
   ],
   "source": [
    "products = products_price.copy()\n",
    "products['banana'] = 10\n",
    "products"
   ]
  },
  {
   "cell_type": "code",
   "execution_count": 57,
   "id": "4df94dea",
   "metadata": {},
   "outputs": [
    {
     "data": {
      "text/plain": [
       "{'bread': 20,\n",
       " 'milk': 50,\n",
       " 'cheese': 100,\n",
       " 'apple': 20,\n",
       " 2: 3,\n",
       " 'orange': [1, 2, 3],\n",
       " 'water': 100}"
      ]
     },
     "execution_count": 57,
     "metadata": {},
     "output_type": "execute_result"
    }
   ],
   "source": [
    "products_price"
   ]
  },
  {
   "cell_type": "code",
   "execution_count": 58,
   "id": "0811ed6e",
   "metadata": {},
   "outputs": [
    {
     "name": "stdout",
     "output_type": "stream",
     "text": [
      "milk, 100\n"
     ]
    }
   ],
   "source": [
    "name, price = input().split(', ')"
   ]
  },
  {
   "cell_type": "code",
   "execution_count": 59,
   "id": "5d6cdf4d",
   "metadata": {},
   "outputs": [
    {
     "data": {
      "text/plain": [
       "'milk'"
      ]
     },
     "execution_count": 59,
     "metadata": {},
     "output_type": "execute_result"
    }
   ],
   "source": [
    "name"
   ]
  },
  {
   "cell_type": "code",
   "execution_count": 60,
   "id": "84105c3e",
   "metadata": {},
   "outputs": [
    {
     "data": {
      "text/plain": [
       "'100'"
      ]
     },
     "execution_count": 60,
     "metadata": {},
     "output_type": "execute_result"
    }
   ],
   "source": [
    "price"
   ]
  },
  {
   "cell_type": "code",
   "execution_count": 72,
   "id": "bcc5b9c3",
   "metadata": {},
   "outputs": [
    {
     "data": {
      "text/plain": [
       "True"
      ]
     },
     "execution_count": 72,
     "metadata": {},
     "output_type": "execute_result"
    }
   ],
   "source": [
    "round(3.2 - 1.5, 2) == 1.7"
   ]
  },
  {
   "cell_type": "code",
   "execution_count": 71,
   "id": "c325d251",
   "metadata": {},
   "outputs": [
    {
     "data": {
      "text/plain": [
       "1.7"
      ]
     },
     "execution_count": 71,
     "metadata": {},
     "output_type": "execute_result"
    }
   ],
   "source": [
    "round(3.2 - 1.5, 2)"
   ]
  },
  {
   "cell_type": "code",
   "execution_count": 73,
   "id": "5775d0bf",
   "metadata": {},
   "outputs": [
    {
     "data": {
      "text/plain": [
       "{'а', 'в', 'г', 'е', 'и', 'м', 'н', 'о', 'п', 'р'}"
      ]
     },
     "execution_count": 73,
     "metadata": {},
     "output_type": "execute_result"
    }
   ],
   "source": [
    "set('программирование')"
   ]
  },
  {
   "cell_type": "code",
   "execution_count": 75,
   "id": "8e5f7e91",
   "metadata": {},
   "outputs": [
    {
     "data": {
      "text/plain": [
       "{1, 2, 3}"
      ]
     },
     "execution_count": 75,
     "metadata": {},
     "output_type": "execute_result"
    }
   ],
   "source": [
    "set([1, 2, 3])"
   ]
  },
  {
   "cell_type": "code",
   "execution_count": 76,
   "id": "a07403a7",
   "metadata": {},
   "outputs": [
    {
     "data": {
      "text/plain": [
       "{1, 2, 3}"
      ]
     },
     "execution_count": 76,
     "metadata": {},
     "output_type": "execute_result"
    }
   ],
   "source": [
    "set((1, 2, 3))"
   ]
  },
  {
   "cell_type": "code",
   "execution_count": 79,
   "id": "f585687d",
   "metadata": {},
   "outputs": [
    {
     "data": {
      "text/plain": [
       "{'3', 'd'}"
      ]
     },
     "execution_count": 79,
     "metadata": {},
     "output_type": "execute_result"
    }
   ],
   "source": [
    "set({'d':2, '3':1})"
   ]
  },
  {
   "cell_type": "code",
   "execution_count": null,
   "id": "976a4384",
   "metadata": {},
   "outputs": [],
   "source": []
  }
 ],
 "metadata": {
  "kernelspec": {
   "display_name": "Python 3",
   "language": "python",
   "name": "python3"
  },
  "language_info": {
   "codemirror_mode": {
    "name": "ipython",
    "version": 3
   },
   "file_extension": ".py",
   "mimetype": "text/x-python",
   "name": "python",
   "nbconvert_exporter": "python",
   "pygments_lexer": "ipython3",
   "version": "3.8.5"
  }
 },
 "nbformat": 4,
 "nbformat_minor": 5
}

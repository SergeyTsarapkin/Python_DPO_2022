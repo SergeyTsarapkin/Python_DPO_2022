{
 "cells": [
  {
   "cell_type": "code",
   "execution_count": 2,
   "id": "7f69c437",
   "metadata": {},
   "outputs": [],
   "source": [
    "students = {'1 курс':\n",
    "                {'181 гр.':{'Маша' : 'кот','Семен' : 'собака','Олег' : 'питон'},\n",
    "                '182 гр.':['Ольга','Алена']},\n",
    "            '2 курс':\n",
    "                {'171 гр.':['Таня','Женя','Саша'],\n",
    "                '172 гр.':['Аня','Валя']}}\n",
    "#принцип Матрёшки"
   ]
  },
  {
   "cell_type": "code",
   "execution_count": 5,
   "id": "a9886ab6",
   "metadata": {},
   "outputs": [
    {
     "data": {
      "text/plain": [
       "'к'"
      ]
     },
     "execution_count": 5,
     "metadata": {},
     "output_type": "execute_result"
    }
   ],
   "source": [
    "students['1 курс']['181 гр.']['Маша'][0]"
   ]
  },
  {
   "cell_type": "code",
   "execution_count": 10,
   "id": "d787f295",
   "metadata": {},
   "outputs": [
    {
     "name": "stdout",
     "output_type": "stream",
     "text": [
      "кошка\n",
      "хомячок\n",
      "ужик\n"
     ]
    },
    {
     "data": {
      "text/plain": [
       "{'кошка', 'ужик', 'хомячок'}"
      ]
     },
     "execution_count": 10,
     "metadata": {},
     "output_type": "execute_result"
    }
   ],
   "source": [
    "students = {'Вася':{'ужик','кошка','хомячок'}, 'Олег':{'шиншилла','кошка'}}\n",
    "for i in students['Вася']:\n",
    "    print(i)\n",
    "students['Вася']"
   ]
  },
  {
   "cell_type": "code",
   "execution_count": 11,
   "id": "e8824758",
   "metadata": {},
   "outputs": [
    {
     "name": "stdout",
     "output_type": "stream",
     "text": [
      "Hello   World!"
     ]
    }
   ],
   "source": [
    "print('Hello', 'World', sep='   ', end='!')"
   ]
  },
  {
   "cell_type": "code",
   "execution_count": 12,
   "id": "7ef43117",
   "metadata": {},
   "outputs": [
    {
     "data": {
      "text/plain": [
       "[1, 3, 5, 7]"
      ]
     },
     "execution_count": 12,
     "metadata": {},
     "output_type": "execute_result"
    }
   ],
   "source": [
    "marks = [1, 3, 7, 5]\n",
    "sorted(marks)"
   ]
  },
  {
   "cell_type": "code",
   "execution_count": 15,
   "id": "69905531",
   "metadata": {},
   "outputs": [],
   "source": [
    "marks_sorted = sorted(marks)"
   ]
  },
  {
   "cell_type": "code",
   "execution_count": 16,
   "id": "01778690",
   "metadata": {},
   "outputs": [
    {
     "name": "stdout",
     "output_type": "stream",
     "text": [
      "[1, 3, 5, 7]\n"
     ]
    }
   ],
   "source": [
    "print(marks_sorted)"
   ]
  },
  {
   "cell_type": "code",
   "execution_count": 37,
   "id": "21ed1751",
   "metadata": {},
   "outputs": [
    {
     "data": {
      "text/plain": [
       "2"
      ]
     },
     "execution_count": 37,
     "metadata": {},
     "output_type": "execute_result"
    }
   ],
   "source": [
    "sh_list = {2:14, 3:10}\n",
    "len(sh_list)"
   ]
  },
  {
   "cell_type": "code",
   "execution_count": 40,
   "id": "9d5a8b8b",
   "metadata": {},
   "outputs": [
    {
     "data": {
      "text/plain": [
       "2"
      ]
     },
     "execution_count": 40,
     "metadata": {},
     "output_type": "execute_result"
    }
   ],
   "source": [
    "min(sh_list)"
   ]
  },
  {
   "cell_type": "code",
   "execution_count": 39,
   "id": "b706620e",
   "metadata": {},
   "outputs": [
    {
     "data": {
      "text/plain": [
       "3"
      ]
     },
     "execution_count": 39,
     "metadata": {},
     "output_type": "execute_result"
    }
   ],
   "source": [
    "max(sh_list)"
   ]
  },
  {
   "cell_type": "code",
   "execution_count": 29,
   "id": "e16a92d5",
   "metadata": {},
   "outputs": [
    {
     "data": {
      "text/plain": [
       "1"
      ]
     },
     "execution_count": 29,
     "metadata": {},
     "output_type": "execute_result"
    }
   ],
   "source": [
    "int(True)"
   ]
  },
  {
   "cell_type": "code",
   "execution_count": 30,
   "id": "b78f371d",
   "metadata": {},
   "outputs": [
    {
     "data": {
      "text/plain": [
       "0"
      ]
     },
     "execution_count": 30,
     "metadata": {},
     "output_type": "execute_result"
    }
   ],
   "source": [
    "int(False)"
   ]
  },
  {
   "cell_type": "code",
   "execution_count": 33,
   "id": "ac653435",
   "metadata": {},
   "outputs": [
    {
     "data": {
      "text/plain": [
       "['!', '0', '1', '10', '100', '14', '8', '[]', 'apple']"
      ]
     },
     "execution_count": 33,
     "metadata": {},
     "output_type": "execute_result"
    }
   ],
   "source": [
    "dates = ['8','10','100', '14','1', '0', 'apple', '!', '[]']\n",
    "sorted(dates)"
   ]
  },
  {
   "cell_type": "code",
   "execution_count": 43,
   "id": "f0149298",
   "metadata": {},
   "outputs": [
    {
     "name": "stdout",
     "output_type": "stream",
     "text": [
      "Cowboy Bebop;contoso;Bulbasaurы;Весёлые мебельщики\n",
      "['Bulbasaurы', 'contoso', 'Cowboy Bebop', 'Весёлые мебельщики'];dfsf\n"
     ]
    }
   ],
   "source": [
    "teams = input().split(';') #список команд\n",
    "teams_lower = sorted(teams, key=str.lower) #отсортированный список\n",
    "#print(';'.join(teams_lower))\n",
    "\n",
    "print(f'{teams_lower}', f'dfsf', sep=';')"
   ]
  },
  {
   "cell_type": "code",
   "execution_count": 45,
   "id": "4388e5c8",
   "metadata": {},
   "outputs": [
    {
     "name": "stdout",
     "output_type": "stream",
     "text": [
      "hello world\n"
     ]
    }
   ],
   "source": [
    "print('hello', 'world')"
   ]
  },
  {
   "cell_type": "code",
   "execution_count": 47,
   "id": "5d5d55ae",
   "metadata": {},
   "outputs": [
    {
     "name": "stdout",
     "output_type": "stream",
     "text": [
      "Сэм, 5\n",
      "конец\n",
      "Сэм, 5.0:\n"
     ]
    }
   ],
   "source": [
    "couriers = {}\n",
    "courier = input().split(', ') #['Сэм', '5']\n",
    "while courier != ['конец']:\n",
    "    mark = int(courier[1])\n",
    "    person = courier[0]\n",
    "    if person not in couriers:\n",
    "        couriers[person] = [mark] #{'Сэм' : [5]}\n",
    "    else:\n",
    "        couriers[person].append(mark)\n",
    "    courier = input().split(', ')\n",
    "average_mark = 0\n",
    "name = ''\n",
    "for courier in couriers:\n",
    "    new_mark = sum(couriers[courier])/len(couriers[courier])\n",
    "    if new_mark > average_mark:\n",
    "        average_mark = new_mark\n",
    "        name = courier\n",
    "print(f'{name}, {average_mark}:')"
   ]
  },
  {
   "cell_type": "code",
   "execution_count": null,
   "id": "ffc5f4b6",
   "metadata": {},
   "outputs": [],
   "source": []
  }
 ],
 "metadata": {
  "kernelspec": {
   "display_name": "Python 3",
   "language": "python",
   "name": "python3"
  },
  "language_info": {
   "codemirror_mode": {
    "name": "ipython",
    "version": 3
   },
   "file_extension": ".py",
   "mimetype": "text/x-python",
   "name": "python",
   "nbconvert_exporter": "python",
   "pygments_lexer": "ipython3",
   "version": "3.8.5"
  }
 },
 "nbformat": 4,
 "nbformat_minor": 5
}

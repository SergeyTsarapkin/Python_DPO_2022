{
 "cells": [
  {
   "cell_type": "code",
   "execution_count": 2,
   "id": "c016fec4",
   "metadata": {},
   "outputs": [],
   "source": [
    "students = {'1 курс':\n",
    "                {'181 гр.':{'Маша' : 'кот','Семен' : 'собака','Олег' : 'питон'},\n",
    "                '182 гр.':['Ольга','Алена']},\n",
    "            '2 курс':\n",
    "                {'171 гр.':['Таня','Женя','Саша'],\n",
    "                '172 гр.':['Аня','Валя']}}\n",
    "#принцип Матрёшки"
   ]
  },
  {
   "cell_type": "code",
   "execution_count": 5,
   "id": "2565c234",
   "metadata": {},
   "outputs": [
    {
     "data": {
      "text/plain": [
       "'к'"
      ]
     },
     "execution_count": 5,
     "metadata": {},
     "output_type": "execute_result"
    }
   ],
   "source": [
    "students['1 курс']['181 гр.']['Маша'][0]"
   ]
  },
  {
   "cell_type": "code",
   "execution_count": 10,
   "id": "f83f2534",
   "metadata": {},
   "outputs": [
    {
     "name": "stdout",
     "output_type": "stream",
     "text": [
      "кошка\n",
      "хомячок\n",
      "ужик\n"
     ]
    },
    {
     "data": {
      "text/plain": [
       "{'кошка', 'ужик', 'хомячок'}"
      ]
     },
     "execution_count": 10,
     "metadata": {},
     "output_type": "execute_result"
    }
   ],
   "source": [
    "students = {'Вася':{'ужик','кошка','хомячок'}, 'Олег':{'шиншилла','кошка'}}\n",
    "for i in students['Вася']:\n",
    "    print(i)\n",
    "students['Вася']"
   ]
  },
  {
   "cell_type": "code",
   "execution_count": 11,
   "id": "b6a193d7",
   "metadata": {},
   "outputs": [
    {
     "name": "stdout",
     "output_type": "stream",
     "text": [
      "Hello   World!"
     ]
    }
   ],
   "source": [
    "print('Hello', 'World', sep='   ', end='!')"
   ]
  },
  {
   "cell_type": "code",
   "execution_count": 12,
   "id": "ec74f401",
   "metadata": {},
   "outputs": [
    {
     "data": {
      "text/plain": [
       "[1, 3, 5, 7]"
      ]
     },
     "execution_count": 12,
     "metadata": {},
     "output_type": "execute_result"
    }
   ],
   "source": [
    "marks = [1, 3, 7, 5]\n",
    "sorted(marks)"
   ]
  },
  {
   "cell_type": "code",
   "execution_count": 15,
   "id": "4847eeda",
   "metadata": {},
   "outputs": [],
   "source": [
    "marks_sorted = sorted(marks)"
   ]
  },
  {
   "cell_type": "code",
   "execution_count": 16,
   "id": "1132c802",
   "metadata": {},
   "outputs": [
    {
     "name": "stdout",
     "output_type": "stream",
     "text": [
      "[1, 3, 5, 7]\n"
     ]
    }
   ],
   "source": [
    "print(marks_sorted)"
   ]
  },
  {
   "cell_type": "code",
   "execution_count": 37,
   "id": "be2033d1",
   "metadata": {},
   "outputs": [
    {
     "data": {
      "text/plain": [
       "2"
      ]
     },
     "execution_count": 37,
     "metadata": {},
     "output_type": "execute_result"
    }
   ],
   "source": [
    "sh_list = {2:14, 3:10}\n",
    "len(sh_list)"
   ]
  },
  {
   "cell_type": "code",
   "execution_count": 40,
   "id": "00e2ee5a",
   "metadata": {},
   "outputs": [
    {
     "data": {
      "text/plain": [
       "2"
      ]
     },
     "execution_count": 40,
     "metadata": {},
     "output_type": "execute_result"
    }
   ],
   "source": [
    "min(sh_list)"
   ]
  },
  {
   "cell_type": "code",
   "execution_count": 39,
   "id": "bddf6b60",
   "metadata": {},
   "outputs": [
    {
     "data": {
      "text/plain": [
       "3"
      ]
     },
     "execution_count": 39,
     "metadata": {},
     "output_type": "execute_result"
    }
   ],
   "source": [
    "max(sh_list)"
   ]
  },
  {
   "cell_type": "code",
   "execution_count": 29,
   "id": "f6836d9f",
   "metadata": {},
   "outputs": [
    {
     "data": {
      "text/plain": [
       "1"
      ]
     },
     "execution_count": 29,
     "metadata": {},
     "output_type": "execute_result"
    }
   ],
   "source": [
    "int(True)"
   ]
  },
  {
   "cell_type": "code",
   "execution_count": 30,
   "id": "8d24797f",
   "metadata": {},
   "outputs": [
    {
     "data": {
      "text/plain": [
       "0"
      ]
     },
     "execution_count": 30,
     "metadata": {},
     "output_type": "execute_result"
    }
   ],
   "source": [
    "int(False)"
   ]
  },
  {
   "cell_type": "code",
   "execution_count": 33,
   "id": "ededfb33",
   "metadata": {},
   "outputs": [
    {
     "data": {
      "text/plain": [
       "['!', '0', '1', '10', '100', '14', '8', '[]', 'apple']"
      ]
     },
     "execution_count": 33,
     "metadata": {},
     "output_type": "execute_result"
    }
   ],
   "source": [
    "dates = ['8','10','100', '14','1', '0', 'apple', '!', '[]']\n",
    "sorted(dates)"
   ]
  },
  {
   "cell_type": "code",
   "execution_count": null,
   "id": "37b39f60",
   "metadata": {},
   "outputs": [],
   "source": []
  }
 ],
 "metadata": {
  "kernelspec": {
   "display_name": "Python 3",
   "language": "python",
   "name": "python3"
  },
  "language_info": {
   "codemirror_mode": {
    "name": "ipython",
    "version": 3
   },
   "file_extension": ".py",
   "mimetype": "text/x-python",
   "name": "python",
   "nbconvert_exporter": "python",
   "pygments_lexer": "ipython3",
   "version": "3.8.5"
  }
 },
 "nbformat": 4,
 "nbformat_minor": 5
}

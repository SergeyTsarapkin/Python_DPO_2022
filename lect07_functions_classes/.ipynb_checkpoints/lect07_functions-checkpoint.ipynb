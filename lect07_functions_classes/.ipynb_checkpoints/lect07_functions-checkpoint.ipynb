{
 "cells": [
  {
   "cell_type": "code",
   "execution_count": 1,
   "id": "7ad606f7",
   "metadata": {},
   "outputs": [],
   "source": [
    "import math"
   ]
  },
  {
   "cell_type": "code",
   "execution_count": 2,
   "id": "d1632ffb",
   "metadata": {},
   "outputs": [
    {
     "ename": "NameError",
     "evalue": "name 'sqrt' is not defined",
     "output_type": "error",
     "traceback": [
      "\u001b[0;31m---------------------------------------------------------------------------\u001b[0m",
      "\u001b[0;31mNameError\u001b[0m                                 Traceback (most recent call last)",
      "\u001b[0;32m<ipython-input-2-317e033d29d5>\u001b[0m in \u001b[0;36m<module>\u001b[0;34m\u001b[0m\n\u001b[0;32m----> 1\u001b[0;31m \u001b[0msqrt\u001b[0m\u001b[0;34m(\u001b[0m\u001b[0;36m4\u001b[0m\u001b[0;34m)\u001b[0m\u001b[0;34m\u001b[0m\u001b[0;34m\u001b[0m\u001b[0m\n\u001b[0m",
      "\u001b[0;31mNameError\u001b[0m: name 'sqrt' is not defined"
     ]
    }
   ],
   "source": [
    "sqrt(4)"
   ]
  },
  {
   "cell_type": "code",
   "execution_count": 3,
   "id": "bae58312",
   "metadata": {},
   "outputs": [
    {
     "data": {
      "text/plain": [
       "2.0"
      ]
     },
     "execution_count": 3,
     "metadata": {},
     "output_type": "execute_result"
    }
   ],
   "source": [
    "math.sqrt(4)"
   ]
  },
  {
   "cell_type": "code",
   "execution_count": 4,
   "id": "156edd72",
   "metadata": {},
   "outputs": [],
   "source": [
    "from math import sqrt"
   ]
  },
  {
   "cell_type": "code",
   "execution_count": 5,
   "id": "52c06f66",
   "metadata": {},
   "outputs": [
    {
     "data": {
      "text/plain": [
       "2.0"
      ]
     },
     "execution_count": 5,
     "metadata": {},
     "output_type": "execute_result"
    }
   ],
   "source": [
    "sqrt(4)"
   ]
  },
  {
   "cell_type": "code",
   "execution_count": 20,
   "id": "66e4e4b5",
   "metadata": {},
   "outputs": [],
   "source": [
    "import math as m #импортировать библиотеку math как m"
   ]
  },
  {
   "cell_type": "code",
   "execution_count": 21,
   "id": "f2b736b9",
   "metadata": {},
   "outputs": [
    {
     "data": {
      "text/plain": [
       "1.0"
      ]
     },
     "execution_count": 21,
     "metadata": {},
     "output_type": "execute_result"
    }
   ],
   "source": [
    "m.log10(10) #зажатый shift + tab + tab внутри круглых скобок"
   ]
  },
  {
   "cell_type": "code",
   "execution_count": 11,
   "id": "3cdf5fff",
   "metadata": {},
   "outputs": [],
   "source": [
    "from math import sqrt"
   ]
  },
  {
   "cell_type": "code",
   "execution_count": 12,
   "id": "c39c756b",
   "metadata": {},
   "outputs": [
    {
     "data": {
      "text/plain": [
       "3.141592653589793"
      ]
     },
     "execution_count": 12,
     "metadata": {},
     "output_type": "execute_result"
    }
   ],
   "source": [
    "pi"
   ]
  },
  {
   "cell_type": "code",
   "execution_count": 13,
   "id": "4e038403",
   "metadata": {},
   "outputs": [
    {
     "data": {
      "text/plain": [
       "2.0"
      ]
     },
     "execution_count": 13,
     "metadata": {},
     "output_type": "execute_result"
    }
   ],
   "source": [
    "sqrt(4)"
   ]
  },
  {
   "cell_type": "code",
   "execution_count": 14,
   "id": "55522959",
   "metadata": {},
   "outputs": [
    {
     "data": {
      "text/plain": [
       "2.0"
      ]
     },
     "execution_count": 14,
     "metadata": {},
     "output_type": "execute_result"
    }
   ],
   "source": [
    "m.sqrt(4)"
   ]
  },
  {
   "cell_type": "code",
   "execution_count": 25,
   "id": "03891cb4",
   "metadata": {},
   "outputs": [],
   "source": [
    "def square_cube(a):\n",
    "    b = a**2\n",
    "    c = a**3"
   ]
  },
  {
   "cell_type": "code",
   "execution_count": 27,
   "id": "03068b32",
   "metadata": {},
   "outputs": [
    {
     "data": {
      "text/plain": [
       "NoneType"
      ]
     },
     "execution_count": 27,
     "metadata": {},
     "output_type": "execute_result"
    }
   ],
   "source": [
    "type(square_cube(2))"
   ]
  },
  {
   "cell_type": "code",
   "execution_count": 24,
   "id": "e32a6ab5",
   "metadata": {},
   "outputs": [
    {
     "name": "stdout",
     "output_type": "stream",
     "text": [
      "Hello\n"
     ]
    },
    {
     "data": {
      "text/plain": [
       "NoneType"
      ]
     },
     "execution_count": 24,
     "metadata": {},
     "output_type": "execute_result"
    }
   ],
   "source": [
    "type(print('Hello'))"
   ]
  },
  {
   "cell_type": "code",
   "execution_count": null,
   "id": "87b9e66b",
   "metadata": {},
   "outputs": [],
   "source": [
    "#NaN - not a number"
   ]
  },
  {
   "cell_type": "code",
   "execution_count": 6,
   "id": "e5b14a4a",
   "metadata": {},
   "outputs": [],
   "source": [
    "def multiples_50(n):\n",
    "    if n % 50 == 0:\n",
    "        return 'Банкомат может выдать эту сумму'\n",
    "    else:\n",
    "        return 'Банкомат не может выдать эту сумму'"
   ]
  },
  {
   "cell_type": "code",
   "execution_count": 7,
   "id": "18453039",
   "metadata": {},
   "outputs": [
    {
     "data": {
      "text/plain": [
       "'Банкомат не может выдать эту сумму'"
      ]
     },
     "execution_count": 7,
     "metadata": {},
     "output_type": "execute_result"
    }
   ],
   "source": [
    "multiples_50(16587)"
   ]
  },
  {
   "cell_type": "code",
   "execution_count": 8,
   "id": "8c4bf0a3",
   "metadata": {},
   "outputs": [
    {
     "data": {
      "text/plain": [
       "'Банкомат может выдать эту сумму'"
      ]
     },
     "execution_count": 8,
     "metadata": {},
     "output_type": "execute_result"
    }
   ],
   "source": [
    "multiples_50(10000)"
   ]
  },
  {
   "cell_type": "code",
   "execution_count": null,
   "id": "7c844522",
   "metadata": {},
   "outputs": [],
   "source": []
  },
  {
   "cell_type": "code",
   "execution_count": 12,
   "id": "fb56c240",
   "metadata": {},
   "outputs": [
    {
     "data": {
      "text/plain": [
       "{'other_cakes'}"
      ]
     },
     "execution_count": 12,
     "metadata": {},
     "output_type": "execute_result"
    }
   ],
   "source": [
    "set(list(['other_cakes']))"
   ]
  },
  {
   "cell_type": "code",
   "execution_count": 11,
   "id": "fb644ea5",
   "metadata": {},
   "outputs": [
    {
     "data": {
      "text/plain": [
       "['other_cakes']"
      ]
     },
     "execution_count": 11,
     "metadata": {},
     "output_type": "execute_result"
    }
   ],
   "source": [
    "list(['other_cakes'])"
   ]
  },
  {
   "cell_type": "code",
   "execution_count": 22,
   "id": "c61f75d4",
   "metadata": {},
   "outputs": [
    {
     "name": "stdout",
     "output_type": "stream",
     "text": [
      "Hello World  Hello\n"
     ]
    }
   ],
   "source": [
    "print('Hello', 'World', end='  ')\n",
    "print('Hello')"
   ]
  },
  {
   "cell_type": "code",
   "execution_count": 18,
   "id": "9575f6d5",
   "metadata": {},
   "outputs": [],
   "source": [
    "from calendar import weekday\n",
    "\n",
    "def is_birthday_weekend(date_of_birth, year=2022):\n",
    "    date_of_birth = date_of_birth.split('-')\n",
    "    date = int(date_of_birth[0])\n",
    "    month = int(date_of_birth[1])\n",
    "    #year_of_birth = int(date_of_birth[2])\n",
    "    new = weekday(year, month, date)\n",
    "    if new < 5:\n",
    "        return 'В День рождения придется поработать.'\n",
    "    else:\n",
    "        return 'Ура, выходной в День рождения!'"
   ]
  },
  {
   "cell_type": "code",
   "execution_count": 24,
   "id": "07890dba",
   "metadata": {},
   "outputs": [
    {
     "data": {
      "text/plain": [
       "'В День рождения придется поработать.'"
      ]
     },
     "execution_count": 24,
     "metadata": {},
     "output_type": "execute_result"
    }
   ],
   "source": [
    "is_birthday_weekend('13-12-1991', 2021)"
   ]
  },
  {
   "cell_type": "code",
   "execution_count": 15,
   "id": "5ab924d9",
   "metadata": {},
   "outputs": [
    {
     "data": {
      "text/plain": [
       "'Ура, выходной в День рождения!'"
      ]
     },
     "execution_count": 15,
     "metadata": {},
     "output_type": "execute_result"
    }
   ],
   "source": [
    "is_birthday_weekend('18-12-1991', 2022)"
   ]
  },
  {
   "cell_type": "code",
   "execution_count": 25,
   "id": "d66b3556",
   "metadata": {},
   "outputs": [],
   "source": [
    "a = []"
   ]
  },
  {
   "cell_type": "code",
   "execution_count": 26,
   "id": "6c2f1163",
   "metadata": {},
   "outputs": [],
   "source": [
    "a.append(2)"
   ]
  },
  {
   "cell_type": "code",
   "execution_count": 27,
   "id": "c31fb1b0",
   "metadata": {},
   "outputs": [
    {
     "data": {
      "text/plain": [
       "[2]"
      ]
     },
     "execution_count": 27,
     "metadata": {},
     "output_type": "execute_result"
    }
   ],
   "source": [
    "a"
   ]
  },
  {
   "cell_type": "code",
   "execution_count": null,
   "id": "40d756df",
   "metadata": {},
   "outputs": [],
   "source": []
  }
 ],
 "metadata": {
  "kernelspec": {
   "display_name": "Python 3",
   "language": "python",
   "name": "python3"
  },
  "language_info": {
   "codemirror_mode": {
    "name": "ipython",
    "version": 3
   },
   "file_extension": ".py",
   "mimetype": "text/x-python",
   "name": "python",
   "nbconvert_exporter": "python",
   "pygments_lexer": "ipython3",
   "version": "3.8.5"
  }
 },
 "nbformat": 4,
 "nbformat_minor": 5
}

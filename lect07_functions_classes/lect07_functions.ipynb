{
 "cells": [
  {
   "cell_type": "code",
   "execution_count": 1,
   "id": "01bc37fa",
   "metadata": {},
   "outputs": [],
   "source": [
    "import math"
   ]
  },
  {
   "cell_type": "code",
   "execution_count": 2,
   "id": "e0a990a4",
   "metadata": {},
   "outputs": [
    {
     "ename": "NameError",
     "evalue": "name 'sqrt' is not defined",
     "output_type": "error",
     "traceback": [
      "\u001b[0;31m---------------------------------------------------------------------------\u001b[0m",
      "\u001b[0;31mNameError\u001b[0m                                 Traceback (most recent call last)",
      "\u001b[0;32m<ipython-input-2-317e033d29d5>\u001b[0m in \u001b[0;36m<module>\u001b[0;34m\u001b[0m\n\u001b[0;32m----> 1\u001b[0;31m \u001b[0msqrt\u001b[0m\u001b[0;34m(\u001b[0m\u001b[0;36m4\u001b[0m\u001b[0;34m)\u001b[0m\u001b[0;34m\u001b[0m\u001b[0;34m\u001b[0m\u001b[0m\n\u001b[0m",
      "\u001b[0;31mNameError\u001b[0m: name 'sqrt' is not defined"
     ]
    }
   ],
   "source": [
    "sqrt(4)"
   ]
  },
  {
   "cell_type": "code",
   "execution_count": 3,
   "id": "557e27a7",
   "metadata": {},
   "outputs": [
    {
     "data": {
      "text/plain": [
       "2.0"
      ]
     },
     "execution_count": 3,
     "metadata": {},
     "output_type": "execute_result"
    }
   ],
   "source": [
    "math.sqrt(4)"
   ]
  },
  {
   "cell_type": "code",
   "execution_count": 4,
   "id": "70bba182",
   "metadata": {},
   "outputs": [],
   "source": [
    "from math import sqrt"
   ]
  },
  {
   "cell_type": "code",
   "execution_count": 5,
   "id": "0f3c5c43",
   "metadata": {},
   "outputs": [
    {
     "data": {
      "text/plain": [
       "2.0"
      ]
     },
     "execution_count": 5,
     "metadata": {},
     "output_type": "execute_result"
    }
   ],
   "source": [
    "sqrt(4)"
   ]
  },
  {
   "cell_type": "code",
   "execution_count": 20,
   "id": "1d727209",
   "metadata": {},
   "outputs": [],
   "source": [
    "import math as m #импортировать библиотеку math как m"
   ]
  },
  {
   "cell_type": "code",
   "execution_count": 21,
   "id": "1ee18c74",
   "metadata": {},
   "outputs": [
    {
     "data": {
      "text/plain": [
       "1.0"
      ]
     },
     "execution_count": 21,
     "metadata": {},
     "output_type": "execute_result"
    }
   ],
   "source": [
    "m.log10(10) #зажатый shift + tab + tab внутри круглых скобок"
   ]
  },
  {
   "cell_type": "code",
   "execution_count": 11,
   "id": "0d57655a",
   "metadata": {},
   "outputs": [],
   "source": [
    "from math import sqrt"
   ]
  },
  {
   "cell_type": "code",
   "execution_count": 12,
   "id": "b913e89d",
   "metadata": {},
   "outputs": [
    {
     "data": {
      "text/plain": [
       "3.141592653589793"
      ]
     },
     "execution_count": 12,
     "metadata": {},
     "output_type": "execute_result"
    }
   ],
   "source": [
    "pi"
   ]
  },
  {
   "cell_type": "code",
   "execution_count": 13,
   "id": "f1a1dc6d",
   "metadata": {},
   "outputs": [
    {
     "data": {
      "text/plain": [
       "2.0"
      ]
     },
     "execution_count": 13,
     "metadata": {},
     "output_type": "execute_result"
    }
   ],
   "source": [
    "sqrt(4)"
   ]
  },
  {
   "cell_type": "code",
   "execution_count": 14,
   "id": "e5e815c0",
   "metadata": {},
   "outputs": [
    {
     "data": {
      "text/plain": [
       "2.0"
      ]
     },
     "execution_count": 14,
     "metadata": {},
     "output_type": "execute_result"
    }
   ],
   "source": [
    "m.sqrt(4)"
   ]
  },
  {
   "cell_type": "code",
   "execution_count": 25,
   "id": "a8016d68",
   "metadata": {},
   "outputs": [],
   "source": [
    "def square_cube(a):\n",
    "    b = a**2\n",
    "    c = a**3"
   ]
  },
  {
   "cell_type": "code",
   "execution_count": 27,
   "id": "f91b1437",
   "metadata": {},
   "outputs": [
    {
     "data": {
      "text/plain": [
       "NoneType"
      ]
     },
     "execution_count": 27,
     "metadata": {},
     "output_type": "execute_result"
    }
   ],
   "source": [
    "type(square_cube(2))"
   ]
  },
  {
   "cell_type": "code",
   "execution_count": 24,
   "id": "677a43a5",
   "metadata": {},
   "outputs": [
    {
     "name": "stdout",
     "output_type": "stream",
     "text": [
      "Hello\n"
     ]
    },
    {
     "data": {
      "text/plain": [
       "NoneType"
      ]
     },
     "execution_count": 24,
     "metadata": {},
     "output_type": "execute_result"
    }
   ],
   "source": [
    "type(print('Hello'))"
   ]
  },
  {
   "cell_type": "code",
   "execution_count": null,
   "id": "715690e6",
   "metadata": {},
   "outputs": [],
   "source": [
    "#NaN - not a number"
   ]
  },
  {
   "cell_type": "code",
   "execution_count": 6,
   "id": "fbf1de99",
   "metadata": {},
   "outputs": [],
   "source": [
    "def multiples_50(n):\n",
    "    if n % 50 == 0:\n",
    "        return 'Банкомат может выдать эту сумму'\n",
    "    else:\n",
    "        return 'Банкомат не может выдать эту сумму'"
   ]
  },
  {
   "cell_type": "code",
   "execution_count": 7,
   "id": "d825e77e",
   "metadata": {},
   "outputs": [
    {
     "data": {
      "text/plain": [
       "'Банкомат не может выдать эту сумму'"
      ]
     },
     "execution_count": 7,
     "metadata": {},
     "output_type": "execute_result"
    }
   ],
   "source": [
    "multiples_50(16587)"
   ]
  },
  {
   "cell_type": "code",
   "execution_count": 8,
   "id": "2581c69f",
   "metadata": {},
   "outputs": [
    {
     "data": {
      "text/plain": [
       "'Банкомат может выдать эту сумму'"
      ]
     },
     "execution_count": 8,
     "metadata": {},
     "output_type": "execute_result"
    }
   ],
   "source": [
    "multiples_50(10000)"
   ]
  },
  {
   "cell_type": "code",
   "execution_count": null,
   "id": "2a8c1809",
   "metadata": {},
   "outputs": [],
   "source": []
  },
  {
   "cell_type": "code",
   "execution_count": 12,
   "id": "1dc17069",
   "metadata": {},
   "outputs": [
    {
     "data": {
      "text/plain": [
       "{'other_cakes'}"
      ]
     },
     "execution_count": 12,
     "metadata": {},
     "output_type": "execute_result"
    }
   ],
   "source": [
    "set(list(['other_cakes']))"
   ]
  },
  {
   "cell_type": "code",
   "execution_count": 11,
   "id": "c4129785",
   "metadata": {},
   "outputs": [
    {
     "data": {
      "text/plain": [
       "['other_cakes']"
      ]
     },
     "execution_count": 11,
     "metadata": {},
     "output_type": "execute_result"
    }
   ],
   "source": [
    "list(['other_cakes'])"
   ]
  },
  {
   "cell_type": "code",
   "execution_count": 22,
   "id": "b4f7bb10",
   "metadata": {},
   "outputs": [
    {
     "name": "stdout",
     "output_type": "stream",
     "text": [
      "Hello World  Hello\n"
     ]
    }
   ],
   "source": [
    "print('Hello', 'World', end='  ')\n",
    "print('Hello')"
   ]
  },
  {
   "cell_type": "code",
   "execution_count": 18,
   "id": "110c7e1b",
   "metadata": {},
   "outputs": [],
   "source": [
    "from calendar import weekday\n",
    "\n",
    "def is_birthday_weekend(date_of_birth, year=2022):\n",
    "    date_of_birth = date_of_birth.split('-')\n",
    "    date = int(date_of_birth[0])\n",
    "    month = int(date_of_birth[1])\n",
    "    #year_of_birth = int(date_of_birth[2])\n",
    "    new = weekday(year, month, date)\n",
    "    if new < 5:\n",
    "        return 'В День рождения придется поработать.'\n",
    "    else:\n",
    "        return 'Ура, выходной в День рождения!'"
   ]
  },
  {
   "cell_type": "code",
   "execution_count": 24,
   "id": "8c5bc4dc",
   "metadata": {},
   "outputs": [
    {
     "data": {
      "text/plain": [
       "'В День рождения придется поработать.'"
      ]
     },
     "execution_count": 24,
     "metadata": {},
     "output_type": "execute_result"
    }
   ],
   "source": [
    "is_birthday_weekend('13-12-1991', 2021)"
   ]
  },
  {
   "cell_type": "code",
   "execution_count": 15,
   "id": "6b4c773c",
   "metadata": {},
   "outputs": [
    {
     "data": {
      "text/plain": [
       "'Ура, выходной в День рождения!'"
      ]
     },
     "execution_count": 15,
     "metadata": {},
     "output_type": "execute_result"
    }
   ],
   "source": [
    "is_birthday_weekend('18-12-1991', 2022)"
   ]
  },
  {
   "cell_type": "code",
   "execution_count": 25,
   "id": "54af04b0",
   "metadata": {},
   "outputs": [],
   "source": [
    "a = []"
   ]
  },
  {
   "cell_type": "code",
   "execution_count": 26,
   "id": "6d76611c",
   "metadata": {},
   "outputs": [],
   "source": [
    "a.append(2)"
   ]
  },
  {
   "cell_type": "code",
   "execution_count": 27,
   "id": "0e626a53",
   "metadata": {},
   "outputs": [
    {
     "data": {
      "text/plain": [
       "[2]"
      ]
     },
     "execution_count": 27,
     "metadata": {},
     "output_type": "execute_result"
    }
   ],
   "source": [
    "a"
   ]
  },
  {
   "cell_type": "code",
   "execution_count": null,
   "id": "64cd5388",
   "metadata": {},
   "outputs": [],
   "source": []
  }
 ],
 "metadata": {
  "kernelspec": {
   "display_name": "Python 3",
   "language": "python",
   "name": "python3"
  },
  "language_info": {
   "codemirror_mode": {
    "name": "ipython",
    "version": 3
   },
   "file_extension": ".py",
   "mimetype": "text/x-python",
   "name": "python",
   "nbconvert_exporter": "python",
   "pygments_lexer": "ipython3",
   "version": "3.8.5"
  }
 },
 "nbformat": 4,
 "nbformat_minor": 5
}

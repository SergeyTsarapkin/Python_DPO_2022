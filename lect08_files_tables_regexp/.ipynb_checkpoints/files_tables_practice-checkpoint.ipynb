{
 "cells": [
  {
   "cell_type": "code",
   "execution_count": 1,
   "id": "c03a042a",
   "metadata": {},
   "outputs": [],
   "source": [
    "with open('file.txt', 'w', encoding='utf-8') as file: #alias, псевдоним\n",
    "    file.write('Today is sunny weather!')"
   ]
  },
  {
   "cell_type": "code",
   "execution_count": 2,
   "id": "1bcef076",
   "metadata": {},
   "outputs": [],
   "source": [
    "#r - reading mode\n",
    "#w - writing mode\n",
    "#a - appending mode"
   ]
  },
  {
   "cell_type": "code",
   "execution_count": 3,
   "id": "ceae9c7e",
   "metadata": {},
   "outputs": [],
   "source": [
    "with open('file1.txt', 'w', encoding='utf-8') as file: #контекстный менеджер\n",
    "    file.write('Today is sunny weather!\\n\\nToday is wednesday, June 8.')"
   ]
  },
  {
   "cell_type": "code",
   "execution_count": 4,
   "id": "26c668f3",
   "metadata": {},
   "outputs": [],
   "source": [
    "f = open('file2.txt', 'a') \n",
    "f.write(\"It's +22 degrees\" )\n",
    "f.close()"
   ]
  },
  {
   "cell_type": "code",
   "execution_count": 5,
   "id": "6a9f6f5c",
   "metadata": {},
   "outputs": [],
   "source": [
    "#абсолютный путь файла\n",
    "\n",
    "#относительный путь файла"
   ]
  },
  {
   "cell_type": "code",
   "execution_count": 6,
   "id": "c8b69838",
   "metadata": {},
   "outputs": [],
   "source": [
    "words = []\n",
    "with open('file1.txt', 'r', encoding='utf-8') as file: #контекстный менеджер\n",
    "    for line in file:\n",
    "        words.append(line.split())"
   ]
  },
  {
   "cell_type": "code",
   "execution_count": 7,
   "id": "c4c0c2e6",
   "metadata": {},
   "outputs": [
    {
     "name": "stdout",
     "output_type": "stream",
     "text": [
      "[['Today', 'is', 'sunny', 'weather!'], [], ['Today', 'is', 'wednesday,', 'June', '8.']]\n"
     ]
    }
   ],
   "source": [
    "print(words)"
   ]
  },
  {
   "cell_type": "code",
   "execution_count": 8,
   "id": "943ae3a9",
   "metadata": {},
   "outputs": [],
   "source": [
    "outfile = open('file3.txt', 'w')\n",
    "#f.write('djkgahkg')\n",
    "#f.close()"
   ]
  },
  {
   "cell_type": "code",
   "execution_count": 9,
   "id": "e6ba542f",
   "metadata": {},
   "outputs": [
    {
     "name": "stdout",
     "output_type": "stream",
     "text": [
      "Today is sunny weather!\n",
      "\n",
      "\n",
      "\n",
      "Today is wednesday, June 8.\n"
     ]
    }
   ],
   "source": [
    "with open('file1.txt', 'r+', encoding='utf-8') as file: #alias, псевдоним\n",
    "    for line in file:\n",
    "        print(line)"
   ]
  },
  {
   "cell_type": "code",
   "execution_count": 10,
   "id": "161f6e23",
   "metadata": {},
   "outputs": [
    {
     "name": "stdout",
     "output_type": "stream",
     "text": [
      "Today is sunny weather!\n",
      "\n",
      "Today is wednesday, June 8.\n"
     ]
    }
   ],
   "source": [
    "with open('file1.txt', 'r', encoding='utf-8') as file: #alias, псевдоним\n",
    "    for line in file:\n",
    "        print(line.strip())"
   ]
  },
  {
   "cell_type": "code",
   "execution_count": 11,
   "id": "727f3f8a",
   "metadata": {},
   "outputs": [
    {
     "data": {
      "text/plain": [
       "2.687"
      ]
     },
     "execution_count": 11,
     "metadata": {},
     "output_type": "execute_result"
    }
   ],
   "source": [
    "round(2.6872507, 3)"
   ]
  },
  {
   "cell_type": "code",
   "execution_count": 12,
   "id": "1f07b3cd",
   "metadata": {},
   "outputs": [],
   "source": [
    "import math"
   ]
  },
  {
   "cell_type": "code",
   "execution_count": 13,
   "id": "acad1576",
   "metadata": {},
   "outputs": [
    {
     "data": {
      "text/plain": [
       "6"
      ]
     },
     "execution_count": 13,
     "metadata": {},
     "output_type": "execute_result"
    }
   ],
   "source": [
    "math.ceil(5.2) "
   ]
  },
  {
   "cell_type": "code",
   "execution_count": 14,
   "id": "f9dbbe87",
   "metadata": {},
   "outputs": [
    {
     "data": {
      "text/plain": [
       "5"
      ]
     },
     "execution_count": 14,
     "metadata": {},
     "output_type": "execute_result"
    }
   ],
   "source": [
    "math.floor(5.7) "
   ]
  },
  {
   "cell_type": "code",
   "execution_count": 15,
   "id": "2b193e5d",
   "metadata": {},
   "outputs": [
    {
     "data": {
      "text/plain": [
       "-5"
      ]
     },
     "execution_count": 15,
     "metadata": {},
     "output_type": "execute_result"
    }
   ],
   "source": [
    "math.ceil(-5.7) "
   ]
  },
  {
   "cell_type": "code",
   "execution_count": 16,
   "id": "e1ab54a2",
   "metadata": {},
   "outputs": [
    {
     "data": {
      "text/plain": [
       "-6"
      ]
     },
     "execution_count": 16,
     "metadata": {},
     "output_type": "execute_result"
    }
   ],
   "source": [
    "math.floor(-5.2) "
   ]
  },
  {
   "cell_type": "code",
   "execution_count": 17,
   "id": "ccde3260",
   "metadata": {},
   "outputs": [],
   "source": [
    "with open('file1.txt', 'w+', encoding='utf-8') as outfile:\n",
    "    print('Today is sunny weather!', file=outfile)"
   ]
  },
  {
   "cell_type": "code",
   "execution_count": 18,
   "id": "5b73fd89",
   "metadata": {},
   "outputs": [],
   "source": [
    "with open('file1.txt', 'w', encoding='utf-8') as file: #контекстный менеджер\n",
    "    file.write('Today is sunny weather!\\n\\nToday is wednesday, June 8.')"
   ]
  },
  {
   "cell_type": "code",
   "execution_count": 19,
   "id": "f4430dfd",
   "metadata": {},
   "outputs": [
    {
     "name": "stdout",
     "output_type": "stream",
     "text": [
      "Today is sunny weather!\n",
      "\n",
      "\n",
      "\n",
      "Today is wednesday, June 8.\n"
     ]
    }
   ],
   "source": [
    "with open('file1.txt', 'r', encoding='utf-8') as outfile:\n",
    "    for line in outfile:\n",
    "        print(line)"
   ]
  },
  {
   "cell_type": "code",
   "execution_count": 20,
   "id": "1fc90147",
   "metadata": {},
   "outputs": [],
   "source": [
    "with open('file10.txt', 'w', encoding='utf-8') as file: #контекстный менеджер\n",
    "    file.write('Today is sunny weather!\\n\\nToday is wednesday, June 8.')"
   ]
  },
  {
   "cell_type": "code",
   "execution_count": 21,
   "id": "5e3afd6f",
   "metadata": {},
   "outputs": [
    {
     "name": "stdout",
     "output_type": "stream",
     "text": [
      "Today is sunny weather!\n",
      "\n",
      "Today is wednesday, June 8."
     ]
    }
   ],
   "source": [
    "with open('file10.txt', 'r', encoding='utf-8') as file: #контекстный менеджер\n",
    "    for line in file:\n",
    "        print(line, end='')\n",
    "#Today is sunny weather!\\n\n",
    "#\\n\n",
    "#Today is wednesday, June 8.\\n"
   ]
  },
  {
   "cell_type": "code",
   "execution_count": 22,
   "id": "212a7477",
   "metadata": {},
   "outputs": [
    {
     "data": {
      "text/plain": [
       "13.3"
      ]
     },
     "execution_count": 22,
     "metadata": {},
     "output_type": "execute_result"
    }
   ],
   "source": [
    "14.0 - 0.7"
   ]
  },
  {
   "cell_type": "code",
   "execution_count": 23,
   "id": "7098fcd2",
   "metadata": {},
   "outputs": [
    {
     "data": {
      "text/plain": [
       "14"
      ]
     },
     "execution_count": 23,
     "metadata": {},
     "output_type": "execute_result"
    }
   ],
   "source": [
    "round(14.50)"
   ]
  },
  {
   "cell_type": "code",
   "execution_count": 24,
   "id": "3722d9b5",
   "metadata": {},
   "outputs": [
    {
     "data": {
      "text/plain": [
       "15"
      ]
     },
     "execution_count": 24,
     "metadata": {},
     "output_type": "execute_result"
    }
   ],
   "source": [
    "round(14.500000000000001)"
   ]
  },
  {
   "cell_type": "code",
   "execution_count": 25,
   "id": "a2766549",
   "metadata": {},
   "outputs": [
    {
     "data": {
      "text/plain": [
       "14"
      ]
     },
     "execution_count": 25,
     "metadata": {},
     "output_type": "execute_result"
    }
   ],
   "source": [
    "round(14.5000000000000001)"
   ]
  },
  {
   "cell_type": "code",
   "execution_count": 26,
   "id": "57b36dbc",
   "metadata": {},
   "outputs": [
    {
     "name": "stdout",
     "output_type": "stream",
     "text": [
      " "
     ]
    }
   ],
   "source": [
    "print(' ', end='')"
   ]
  }
 ],
 "metadata": {
  "kernelspec": {
   "display_name": "Python 3",
   "language": "python",
   "name": "python3"
  },
  "language_info": {
   "codemirror_mode": {
    "name": "ipython",
    "version": 3
   },
   "file_extension": ".py",
   "mimetype": "text/x-python",
   "name": "python",
   "nbconvert_exporter": "python",
   "pygments_lexer": "ipython3",
   "version": "3.8.5"
  }
 },
 "nbformat": 4,
 "nbformat_minor": 5
}

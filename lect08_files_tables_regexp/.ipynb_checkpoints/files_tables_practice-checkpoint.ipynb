{
 "cells": [
  {
   "cell_type": "code",
   "execution_count": 1,
   "id": "d9326f65",
   "metadata": {},
   "outputs": [],
   "source": [
    "with open('file.txt', 'w', encoding='utf-8') as file: #alias, псевдоним\n",
    "    file.write('Today is sunny weather!')"
   ]
  },
  {
   "cell_type": "code",
   "execution_count": 20,
   "id": "2081dd4b",
   "metadata": {},
   "outputs": [
    {
     "name": "stdout",
     "output_type": "stream",
     "text": [
      "Lorem Ipsum dolor sit amet, consectetur adipiscing elit, sed do eiusmod tempor incididunt ut labore et dolore magna aliqua. Consequat id porta nibh venenatis cras sed. Netus et malesuada fames ac turpis. Mi quis hendrerit dolor magna. Morbi enim nunc faucibus a pellentesque sit amet. Eros in cursus turpis massa tincidunt. Nulla facilisi morbi tempus iaculis. Nunc id cursus metus aliquam eleifend. Ac odio tempor orci dapibus ultrices in. Vitae elementum curabitur vitae nunc sed.\n",
      "Urna et pharetra pharetra massa. Aliquam eleifend mi in nulla posuere sollicitudin. Venenatis urna cursus eget nunc scelerisque viverra mauris in aliquam. Fermentum dui faucibus in ornare quam. Nam aliquam sem et tortor consequat id porta. Sed turpis tincidunt id aliquet risus feugiat in. Aliquam vestibulum morbi blandit cursus risus at ultrices. Tristique risus nec feugiat in fermentum. Egestas quis Ipsum suspendisse ultrices gravida. Facilisis volutpat est velit egestas dui. Arcu ac tortor dignissim convallis aenean et. Faucibus ornare suspendisse sed nisi lacus sed viverra tellus. Tellus pellentesque eu tincidunt tortor aliquam nulla facilisi cras fermentum. Et ligula ullamcorper malesuada proin libero. Sed viverra Ipsum nunc aliquet bibendum enim facilisis gravida. Et egestas quis Ipsum suspendisse ultrices gravida dictum. Sit amet consectetur adipiscing elit. Risus viverra adipiscing at in tellus.\n",
      "Nunc mattis enim ut tellus elementum sagittis vitae. Est ante in nibh mauris cursus mattis molestie a. Nisl tincidunt eget nullam non nisi est sit amet facilisis. Tincidunt arcu non sodales neque sodales ut. Nibh Ipsum consequat nisl vel pretium lectus quam id leo. Tortor vitae purus faucibus ornare suspendisse sed nisi lacus sed. Arcu non odio euismod lacinia at quis. Odio tempor orci dapibus ultrices in iaculis nunc sed. Viverra maecenas accumsan lacus vel facilisis volutpat est. Sed lectus vestibulum mattis ullamcorper velit sed ullamcorper. Feugiat in ante metus dictum at tempor. Tortor at risus viverra adipiscing at in. Nullam eget felis eget nunc lobortis mattis aliquam faucibus. Adipiscing elit duis tristique sollicitudin nibh sit amet commodo nulla. Nunc mi Ipsum faucibus vitae aliquet nec ullamcorper sit. Aenean euismod elementum nisi quis eleifend quam adipiscing vitae.\n",
      "Leo urna molestie at elementum eu facilisis sed odio morbi. Purus semper eget duis at tellus at urna condimentum. Mattis aliquam faucibus purus in massa tempor nec. Ultricies lacus sed turpis tincidunt. Morbi quis commodo odio aenean. Ac tortor vitae purus faucibus. Purus semper eget duis at. Enim ut sem viverra aliquet eget sit amet tellus cras. Eu scelerisque felis imperdiet proin fermentum leo vel orci porta. Elit ut aliquam purus sit amet luctus. Turpis nunc eget lorem dolor sed viverra Ipsum nunc aliquet. Ut pharetra sit amet aliquam id diam maecenas. Leo vel fringilla est ullamcorper eget. Malesuada bibendum arcu vitae elementum curabitur. Sed tempus urna et pharetra pharetra massa massa ultricies mi. Ut etiam sit amet nisl.\n",
      "Nisl rhoncus mattis rhoncus urna. Penatibus et magnis dis parturient. Dui id ornare arcu odio ut sem nulla pharetra. Et tortor consequat id porta. Ut tortor pretium viverra suspendisse potenti nullam ac tortor vitae. Ultricies tristique nulla aliquet enim. Pellentesque nec nam aliquam sem et tortor consequat. Facilisi morbi tempus iaculis urna id volutpat. Semper auctor neque vitae tempus. Volutpat lacus laoreet non curabitur gravida. Ultrices gravida dictum fusce ut placerat. Sit amet mauris commodo quis imperdiet massa tincidunt nunc. Id aliquet risus feugiat in ante. Eu turpis egestas pretium aenean pharetra. Vel risus commodo viverra maecenas accumsan lacus vel facilisis volutpat. Sed nisi lacus sed viverra. Sit amet commodo nulla facilisi nullam vehicula Ipsum a arcu. Leo vel fringilla est ullamcorper eget nulla facilisi.\n"
     ]
    }
   ],
   "source": [
    "with open('review.txt', 'r', encoding='utf-8') as file:\n",
    "    print(file.read())"
   ]
  },
  {
   "cell_type": "code",
   "execution_count": 2,
   "id": "0c3b74e3",
   "metadata": {},
   "outputs": [
    {
     "data": {
      "text/plain": [
       "_io.TextIOWrapper"
      ]
     },
     "execution_count": 2,
     "metadata": {},
     "output_type": "execute_result"
    }
   ],
   "source": [
    "type(file)"
   ]
  },
  {
   "cell_type": "code",
   "execution_count": 2,
   "id": "393b1033",
   "metadata": {},
   "outputs": [],
   "source": [
    "#r - reading mode\n",
    "#w - writing mode\n",
    "#a - appending mode"
   ]
  },
  {
   "cell_type": "code",
   "execution_count": 3,
   "id": "a6939788",
   "metadata": {},
   "outputs": [],
   "source": [
    "with open('file1.txt', 'w', encoding='utf-8') as file: #контекстный менеджер\n",
    "    file.write('Today is sunny weather!\\n\\nToday is wednesday, June 8.')"
   ]
  },
  {
   "cell_type": "code",
   "execution_count": 4,
   "id": "129ec288",
   "metadata": {},
   "outputs": [],
   "source": [
    "f = open('file2.txt', 'a') \n",
    "f.write(\"It's +22 degrees\" )\n",
    "f.close()"
   ]
  },
  {
   "cell_type": "code",
   "execution_count": 5,
   "id": "c7e49801",
   "metadata": {},
   "outputs": [],
   "source": [
    "#абсолютный путь файла\n",
    "\n",
    "#относительный путь файла"
   ]
  },
  {
   "cell_type": "code",
   "execution_count": 6,
   "id": "81274333",
   "metadata": {},
   "outputs": [],
   "source": [
    "words = []\n",
    "with open('file1.txt', 'r', encoding='utf-8') as file: #контекстный менеджер\n",
    "    for line in file:\n",
    "        words.append(line.split())"
   ]
  },
  {
   "cell_type": "code",
   "execution_count": 7,
   "id": "da269dbc",
   "metadata": {},
   "outputs": [
    {
     "name": "stdout",
     "output_type": "stream",
     "text": [
      "[['Today', 'is', 'sunny', 'weather!'], [], ['Today', 'is', 'wednesday,', 'June', '8.']]\n"
     ]
    }
   ],
   "source": [
    "print(words)"
   ]
  },
  {
   "cell_type": "code",
   "execution_count": 8,
   "id": "f9d98d6a",
   "metadata": {},
   "outputs": [],
   "source": [
    "outfile = open('file3.txt', 'w')\n",
    "#f.write('djkgahkg')\n",
    "#f.close()"
   ]
  },
  {
   "cell_type": "code",
   "execution_count": 9,
   "id": "4be2579e",
   "metadata": {},
   "outputs": [
    {
     "name": "stdout",
     "output_type": "stream",
     "text": [
      "Today is sunny weather!\n",
      "\n",
      "\n",
      "\n",
      "Today is wednesday, June 8.\n"
     ]
    }
   ],
   "source": [
    "with open('file1.txt', 'r+', encoding='utf-8') as file: #alias, псевдоним\n",
    "    for line in file:\n",
    "        print(line)"
   ]
  },
  {
   "cell_type": "code",
   "execution_count": 10,
   "id": "67503fa9",
   "metadata": {},
   "outputs": [
    {
     "name": "stdout",
     "output_type": "stream",
     "text": [
      "Today is sunny weather!\n",
      "\n",
      "Today is wednesday, June 8.\n"
     ]
    }
   ],
   "source": [
    "with open('file1.txt', 'r', encoding='utf-8') as file: #alias, псевдоним\n",
    "    for line in file:\n",
    "        print(line.strip())"
   ]
  },
  {
   "cell_type": "code",
   "execution_count": 11,
   "id": "008741be",
   "metadata": {},
   "outputs": [
    {
     "data": {
      "text/plain": [
       "2.687"
      ]
     },
     "execution_count": 11,
     "metadata": {},
     "output_type": "execute_result"
    }
   ],
   "source": [
    "round(2.6872507, 3)"
   ]
  },
  {
   "cell_type": "code",
   "execution_count": 12,
   "id": "294c81bf",
   "metadata": {},
   "outputs": [],
   "source": [
    "import math"
   ]
  },
  {
   "cell_type": "code",
   "execution_count": 13,
   "id": "1f3516c6",
   "metadata": {},
   "outputs": [
    {
     "data": {
      "text/plain": [
       "6"
      ]
     },
     "execution_count": 13,
     "metadata": {},
     "output_type": "execute_result"
    }
   ],
   "source": [
    "math.ceil(5.2) "
   ]
  },
  {
   "cell_type": "code",
   "execution_count": 14,
   "id": "b1327732",
   "metadata": {},
   "outputs": [
    {
     "data": {
      "text/plain": [
       "5"
      ]
     },
     "execution_count": 14,
     "metadata": {},
     "output_type": "execute_result"
    }
   ],
   "source": [
    "math.floor(5.7) "
   ]
  },
  {
   "cell_type": "code",
   "execution_count": 15,
   "id": "0cee21ff",
   "metadata": {},
   "outputs": [
    {
     "data": {
      "text/plain": [
       "-5"
      ]
     },
     "execution_count": 15,
     "metadata": {},
     "output_type": "execute_result"
    }
   ],
   "source": [
    "math.ceil(-5.7) "
   ]
  },
  {
   "cell_type": "code",
   "execution_count": 16,
   "id": "4caa0d02",
   "metadata": {},
   "outputs": [
    {
     "data": {
      "text/plain": [
       "-6"
      ]
     },
     "execution_count": 16,
     "metadata": {},
     "output_type": "execute_result"
    }
   ],
   "source": [
    "math.floor(-5.2) "
   ]
  },
  {
   "cell_type": "code",
   "execution_count": 17,
   "id": "ad98db26",
   "metadata": {},
   "outputs": [],
   "source": [
    "with open('file1.txt', 'w+', encoding='utf-8') as outfile:\n",
    "    print('Today is sunny weather!', file=outfile)"
   ]
  },
  {
   "cell_type": "code",
   "execution_count": 18,
   "id": "adf4fa4c",
   "metadata": {},
   "outputs": [],
   "source": [
    "with open('file1.txt', 'w', encoding='utf-8') as file: #контекстный менеджер\n",
    "    file.write('Today is sunny weather!\\n\\nToday is wednesday, June 8.')"
   ]
  },
  {
   "cell_type": "code",
   "execution_count": 19,
   "id": "663bfeaa",
   "metadata": {},
   "outputs": [
    {
     "name": "stdout",
     "output_type": "stream",
     "text": [
      "Today is sunny weather!\n",
      "\n",
      "\n",
      "\n",
      "Today is wednesday, June 8.\n"
     ]
    }
   ],
   "source": [
    "with open('file1.txt', 'r', encoding='utf-8') as outfile:\n",
    "    for line in outfile:\n",
    "        print(line)"
   ]
  },
  {
   "cell_type": "code",
   "execution_count": 20,
   "id": "8ffb8eb6",
   "metadata": {},
   "outputs": [],
   "source": [
    "with open('file10.txt', 'w', encoding='utf-8') as file: #контекстный менеджер\n",
    "    file.write('Today is sunny weather!\\n\\nToday is wednesday, June 8.')"
   ]
  },
  {
   "cell_type": "code",
   "execution_count": 21,
   "id": "47c04987",
   "metadata": {},
   "outputs": [
    {
     "name": "stdout",
     "output_type": "stream",
     "text": [
      "Today is sunny weather!\n",
      "\n",
      "Today is wednesday, June 8."
     ]
    }
   ],
   "source": [
    "with open('file10.txt', 'r', encoding='utf-8') as file: #контекстный менеджер\n",
    "    for line in file:\n",
    "        print(line, end='')\n",
    "#Today is sunny weather!\\n\n",
    "#\\n\n",
    "#Today is wednesday, June 8.\\n"
   ]
  },
  {
   "cell_type": "code",
   "execution_count": 22,
   "id": "d41949a4",
   "metadata": {},
   "outputs": [
    {
     "data": {
      "text/plain": [
       "13.3"
      ]
     },
     "execution_count": 22,
     "metadata": {},
     "output_type": "execute_result"
    }
   ],
   "source": [
    "14.0 - 0.7"
   ]
  },
  {
   "cell_type": "code",
   "execution_count": 23,
   "id": "f9eecdb6",
   "metadata": {},
   "outputs": [
    {
     "data": {
      "text/plain": [
       "14"
      ]
     },
     "execution_count": 23,
     "metadata": {},
     "output_type": "execute_result"
    }
   ],
   "source": [
    "round(14.50)"
   ]
  },
  {
   "cell_type": "code",
   "execution_count": 24,
   "id": "d50ee721",
   "metadata": {},
   "outputs": [
    {
     "data": {
      "text/plain": [
       "15"
      ]
     },
     "execution_count": 24,
     "metadata": {},
     "output_type": "execute_result"
    }
   ],
   "source": [
    "round(14.500000000000001)"
   ]
  },
  {
   "cell_type": "code",
   "execution_count": 25,
   "id": "9c33c876",
   "metadata": {},
   "outputs": [
    {
     "data": {
      "text/plain": [
       "14"
      ]
     },
     "execution_count": 25,
     "metadata": {},
     "output_type": "execute_result"
    }
   ],
   "source": [
    "round(14.5000000000000001)"
   ]
  },
  {
   "cell_type": "code",
   "execution_count": 26,
   "id": "dd7a9474",
   "metadata": {},
   "outputs": [
    {
     "name": "stdout",
     "output_type": "stream",
     "text": [
      " "
     ]
    }
   ],
   "source": [
    "print(' ', end='')"
   ]
  }
 ],
 "metadata": {
  "kernelspec": {
   "display_name": "Python 3",
   "language": "python",
   "name": "python3"
  },
  "language_info": {
   "codemirror_mode": {
    "name": "ipython",
    "version": 3
   },
   "file_extension": ".py",
   "mimetype": "text/x-python",
   "name": "python",
   "nbconvert_exporter": "python",
   "pygments_lexer": "ipython3",
   "version": "3.8.5"
  }
 },
 "nbformat": 4,
 "nbformat_minor": 5
}

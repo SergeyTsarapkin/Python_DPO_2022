{
 "cells": [
  {
   "cell_type": "code",
   "execution_count": 1,
   "id": "ca09b425",
   "metadata": {},
   "outputs": [],
   "source": [
    "#Regular Expressions (регулярные выражения)\n",
    "import re"
   ]
  },
  {
   "cell_type": "code",
   "execution_count": 2,
   "id": "31ef5734",
   "metadata": {},
   "outputs": [],
   "source": [
    "string = 'Десять негритят отправились обедать, \\\n",
    "        Один поперхнулся, их осталось девять.'\n"
   ]
  },
  {
   "cell_type": "code",
   "execution_count": 3,
   "id": "f9050838",
   "metadata": {},
   "outputs": [
    {
     "data": {
      "text/plain": [
       "True"
      ]
     },
     "execution_count": 3,
     "metadata": {},
     "output_type": "execute_result"
    }
   ],
   "source": [
    "'обедать' in string"
   ]
  },
  {
   "cell_type": "code",
   "execution_count": 5,
   "id": "bc56ebb7",
   "metadata": {},
   "outputs": [
    {
     "data": {
      "text/plain": [
       "True"
      ]
     },
     "execution_count": 5,
     "metadata": {},
     "output_type": "execute_result"
    }
   ],
   "source": [
    "'Обедать'.lower() in string"
   ]
  },
  {
   "cell_type": "markdown",
   "id": "2a8842b8",
   "metadata": {},
   "source": [
    "### Шаблоны для поиска совпадений \n",
    "[0-9] соответствует любой цифре\n",
    "\n",
    "\\d соответствует любой цифре\n",
    "\n",
    "\\D любой символ, кроме цифры\n",
    "\n",
    "[A-Z] соответствует любой заглавной букве латинского алфавита\n",
    "\n",
    "[a-z] соответствует любой строчной букве латинского алфавита\n",
    "\n",
    "[A-Za-z] соответствует любой букве латинского алфавита\n",
    "\n",
    ". - любой символ\n",
    "\n",
    "? - символ перед ? может быть, а может не быть"
   ]
  },
  {
   "cell_type": "code",
   "execution_count": 33,
   "id": "45b37e4a",
   "metadata": {},
   "outputs": [
    {
     "name": "stdout",
     "output_type": "stream",
     "text": [
      "afhalha 4123 fgagf 3\n",
      "['4123', '3']\n"
     ]
    }
   ],
   "source": [
    "st = 'fhafhalha 4123 fgagf 3'\n",
    "print(re.search(r'a..+', st).group(0))\n",
    "print(re.findall(r'\\d+', st))"
   ]
  },
  {
   "cell_type": "code",
   "execution_count": 25,
   "id": "cb0201a0",
   "metadata": {},
   "outputs": [
    {
     "data": {
      "text/plain": [
       "'ha'"
      ]
     },
     "execution_count": 25,
     "metadata": {},
     "output_type": "execute_result"
    }
   ],
   "source": [
    "st = 'fhafhalha 4123 fgagf 3'\n",
    "re.search(r'ha+', st).group(0)"
   ]
  },
  {
   "cell_type": "code",
   "execution_count": 35,
   "id": "c93afedb",
   "metadata": {},
   "outputs": [
    {
     "data": {
      "text/plain": [
       "'Революция произошла в '"
      ]
     },
     "execution_count": 35,
     "metadata": {},
     "output_type": "execute_result"
    }
   ],
   "source": [
    "re.search(r'\\D+', st).group(0)"
   ]
  },
  {
   "cell_type": "code",
   "execution_count": 36,
   "id": "7cdd6312",
   "metadata": {},
   "outputs": [
    {
     "data": {
      "text/plain": [
       "['1917', '25']"
      ]
     },
     "execution_count": 36,
     "metadata": {},
     "output_type": "execute_result"
    }
   ],
   "source": [
    "re.findall(r'\\d+', st)"
   ]
  },
  {
   "cell_type": "code",
   "execution_count": 42,
   "id": "6190bcbb",
   "metadata": {},
   "outputs": [
    {
     "data": {
      "text/plain": [
       "'1917'"
      ]
     },
     "execution_count": 42,
     "metadata": {},
     "output_type": "execute_result"
    }
   ],
   "source": [
    "st = 'Революция произошла в 1917 году, 25 октября. Революции, революций'\n",
    "re.search(r'\\d+', st).group(0)"
   ]
  },
  {
   "cell_type": "code",
   "execution_count": 45,
   "id": "53bf5ff5",
   "metadata": {},
   "outputs": [
    {
     "data": {
      "text/plain": [
       "2"
      ]
     },
     "execution_count": 45,
     "metadata": {},
     "output_type": "execute_result"
    }
   ],
   "source": [
    "len(re.findall(r'Революц+', st))"
   ]
  },
  {
   "cell_type": "code",
   "execution_count": null,
   "id": "7600fe19",
   "metadata": {},
   "outputs": [],
   "source": []
  }
 ],
 "metadata": {
  "kernelspec": {
   "display_name": "Python 3",
   "language": "python",
   "name": "python3"
  },
  "language_info": {
   "codemirror_mode": {
    "name": "ipython",
    "version": 3
   },
   "file_extension": ".py",
   "mimetype": "text/x-python",
   "name": "python",
   "nbconvert_exporter": "python",
   "pygments_lexer": "ipython3",
   "version": "3.8.5"
  }
 },
 "nbformat": 4,
 "nbformat_minor": 5
}

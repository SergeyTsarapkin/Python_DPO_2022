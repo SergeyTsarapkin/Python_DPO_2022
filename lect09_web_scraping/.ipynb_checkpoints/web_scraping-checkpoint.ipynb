{
 "cells": [
  {
   "cell_type": "markdown",
   "id": "ba20fde5",
   "metadata": {},
   "source": [
    "# HTML - HyperText Markup Language\n",
    "## Язык разметки гипертекстов"
   ]
  },
  {
   "cell_type": "code",
   "execution_count": null,
   "id": "09e68cac",
   "metadata": {},
   "outputs": [],
   "source": [
    "# атрибут href - hyper reference\n",
    "# h1 - header 1\n",
    "# <img src= (source=)> \n",
    "#<div - division\n",
    "#"
   ]
  },
  {
   "cell_type": "code",
   "execution_count": 24,
   "id": "009d18e4",
   "metadata": {},
   "outputs": [],
   "source": [
    "import math"
   ]
  },
  {
   "cell_type": "code",
   "execution_count": 25,
   "id": "f9cd54d8",
   "metadata": {},
   "outputs": [
    {
     "data": {
      "text/plain": [
       "0.9092974268256817"
      ]
     },
     "execution_count": 25,
     "metadata": {},
     "output_type": "execute_result"
    }
   ],
   "source": [
    "math.sin(2)"
   ]
  },
  {
   "cell_type": "code",
   "execution_count": 1,
   "id": "18fc1c9d",
   "metadata": {},
   "outputs": [
    {
     "name": "stdout",
     "output_type": "stream",
     "text": [
      "<Response [200]>\n"
     ]
    }
   ],
   "source": [
    "#запросим главную страницу сайта\n",
    "import requests\n",
    "\n",
    "#применим функцию get, которая запросит страницу сайта\n",
    "site = requests.get('https://online.hse.ru/python-as-foreign/1/')\n",
    "\n",
    "print(site)"
   ]
  },
  {
   "cell_type": "code",
   "execution_count": 2,
   "id": "5d273e0c",
   "metadata": {},
   "outputs": [
    {
     "data": {
      "text/plain": [
       "requests.models.Response"
      ]
     },
     "execution_count": 2,
     "metadata": {},
     "output_type": "execute_result"
    }
   ],
   "source": [
    "type(site)"
   ]
  },
  {
   "cell_type": "code",
   "execution_count": 23,
   "id": "5e37c6fc",
   "metadata": {},
   "outputs": [
    {
     "data": {
      "text/plain": [
       "b'<html>\\n<head>\\n    <meta charset=\"UTF-8\">\\n    <title>\\xd0\\x9e\\xd0\\xb3\\xd0\\xbb\\xd0\\xb0\\xd0\\xb2\\xd0\\xbb\\xd0\\xb5\\xd0\\xbd\\xd0\\xb8\\xd0\\xb5</title>\\n</head>\\n<body>\\n    \\xd0\\xa1\\xd1\\x82\\xd0\\xb0\\xd1\\x82\\xd1\\x8c\\xd0\\xb8 \\xd0\\xbe \\xd0\\xbf\\xd0\\xb5\\xd1\\x80\\xd1\\x81\\xd0\\xbe\\xd0\\xbd\\xd0\\xb0\\xd0\\xb6\\xd0\\xb0\\xd1\\x85: <a href=\"1.html\">\\xd0\\x93\\xd0\\xb0\\xd1\\x80\\xd1\\x80\\xd0\\xb8 \\xd0\\x9f\\xd0\\xbe\\xd1\\x82\\xd1\\x82\\xd0\\xb5\\xd1\\x80</a>,\\n    <a href=\"2.html\">\\xd0\\x94\\xd0\\xb6\\xd0\\xb8\\xd0\\xbd\\xd0\\xbd\\xd0\\xb8 \\xd0\\xa3\\xd0\\xb8\\xd0\\xb7\\xd0\\xbb\\xd0\\xb8</a>,\\n    <a href=\"3.html\">\\xd0\\x9b\\xd0\\xb8\\xd0\\xbb\\xd0\\xb8 \\xd0\\x9f\\xd0\\xbe\\xd1\\x82\\xd1\\x82\\xd0\\xb5\\xd1\\x80</a>,\\n    <a href=\"4.html\">\\xd0\\x93\\xd0\\xb5\\xd1\\x80\\xd0\\xbc\\xd0\\xb8\\xd0\\xbe\\xd0\\xbd\\xd0\\xb0 \\xd0\\x93\\xd1\\x80\\xd0\\xb5\\xd0\\xb9\\xd0\\xbd\\xd0\\xb4\\xd0\\xb6\\xd0\\xb5\\xd1\\x80</a>,\\n    <a href=\"5.html\">\\xd0\\xa1\\xd0\\xb8\\xd1\\x80\\xd0\\xb8\\xd1\\x83\\xd1\\x81 \\xd0\\x91\\xd0\\xbb\\xd1\\x8d\\xd0\\xba</a>,\\n    <a href=\"6.html\">\\xd0\\xa0\\xd1\\x83\\xd0\\xb1\\xd0\\xb5\\xd1\\x83\\xd1\\x81 \\xd0\\xa5\\xd0\\xb0\\xd0\\xb3\\xd1\\x80\\xd0\\xb8\\xd0\\xb4</a>,\\n    <a href=\"7.html\">\\xd0\\xa0\\xd0\\xbe\\xd0\\xbd \\xd0\\xa3\\xd0\\xb8\\xd0\\xb7\\xd0\\xbb\\xd0\\xb8</a>,\\n    <a href=\"8.html\">\\xd0\\x90\\xd1\\x81\\xd1\\x82\\xd0\\xbe\\xd1\\x80\\xd0\\xb8\\xd1\\x8f \\xd0\\x93\\xd1\\x80\\xd0\\xb8\\xd0\\xbd\\xd0\\xb3\\xd1\\x80\\xd0\\xb0\\xd1\\x81\\xd1\\x81</a>,\\n    <a href=\"9.html\">\\xd0\\x9b\\xd1\\x8e\\xd1\\x86\\xd0\\xb8\\xd1\\x83\\xd1\\x81 \\xd0\\x9c\\xd0\\xb0\\xd0\\xbb\\xd1\\x84\\xd0\\xbe\\xd0\\xb9</a>,\\n    <a href=\"10.html\">\\xd0\\x94\\xd1\\x80\\xd0\\xb0\\xd0\\xba\\xd0\\xbe \\xd0\\x9c\\xd0\\xb0\\xd0\\xbb\\xd1\\x84\\xd0\\xbe\\xd0\\xb9</a>,\\n    <a href=\"11.html\">\\xd0\\x91\\xd0\\xb5\\xd0\\xbb\\xd0\\xbb\\xd0\\xb0\\xd1\\x82\\xd1\\x80\\xd0\\xb8\\xd1\\x81\\xd0\\xb0 \\xd0\\x9b\\xd0\\xb5\\xd1\\x81\\xd1\\x82\\xd1\\x80\\xd0\\xb5\\xd0\\xb9\\xd0\\xbd\\xd0\\xb4\\xd0\\xb6</a>.<br>\\n    \\xd0\\x9f\\xd0\\xbe \\xd0\\xbc\\xd0\\xb0\\xd1\\x82\\xd0\\xb5\\xd1\\x80\\xd0\\xb8\\xd0\\xb0\\xd0\\xbb\\xd0\\xb0\\xd0\\xbc <a href=\"https://harrypotter.fandom.com\">\\xd0\\x93\\xd0\\xb0\\xd1\\x80\\xd1\\x80\\xd0\\xb8 \\xd0\\x9f\\xd0\\xbe\\xd1\\x82\\xd1\\x82\\xd0\\xb5\\xd1\\x80 \\xd0\\xb2\\xd0\\xb8\\xd0\\xba\\xd0\\xb8</a>. <br>\\xd0\\xa0\\xd0\\xb0\\xd1\\x81\\xd0\\xbf\\xd1\\x80\\xd0\\xbe\\xd1\\x81\\xd1\\x82\\xd1\\x80\\xd0\\xb0\\xd0\\xbd\\xd1\\x8f\\xd0\\xb5\\xd1\\x82\\xd1\\x81\\xd1\\x8f \\xd0\\xbd\\xd0\\xb0 \\xd1\\x83\\xd1\\x81\\xd0\\xbb\\xd0\\xbe\\xd0\\xb2\\xd0\\xb8\\xd1\\x8f\\xd1\\x85 CC-BY-SA\\n</body>\\n</html>'"
      ]
     },
     "execution_count": 23,
     "metadata": {},
     "output_type": "execute_result"
    }
   ],
   "source": [
    "site.content #атрибут вызывается через . у объекта нет, круглых скобок в конце"
   ]
  },
  {
   "cell_type": "code",
   "execution_count": 4,
   "id": "a735181b",
   "metadata": {},
   "outputs": [
    {
     "data": {
      "text/plain": [
       "200"
      ]
     },
     "execution_count": 4,
     "metadata": {},
     "output_type": "execute_result"
    }
   ],
   "source": [
    "site.status_code #возврщает код страницы"
   ]
  },
  {
   "cell_type": "code",
   "execution_count": 5,
   "id": "32300bce",
   "metadata": {},
   "outputs": [
    {
     "name": "stdout",
     "output_type": "stream",
     "text": [
      "<html>\n",
      "<head>\n",
      "    <meta charset=\"UTF-8\">\n",
      "    <title>ÐÐ³Ð»Ð°Ð²Ð»ÐµÐ½Ð¸Ðµ</title>\n",
      "</head>\n",
      "<body>\n",
      "    Ð¡ÑÐ°ÑÑÐ¸ Ð¾ Ð¿ÐµÑÑÐ¾Ð½Ð°Ð¶Ð°Ñ",
      ": <a href=\"1.html\">ÐÐ°ÑÑÐ¸ ÐÐ¾ÑÑÐµÑ</a>,\n",
      "    <a href=\"2.html\">ÐÐ¶Ð¸Ð½Ð½Ð¸ Ð£Ð¸Ð·Ð»Ð¸</a>,\n",
      "    <a href=\"3.html\">ÐÐ¸Ð»Ð¸ ÐÐ¾ÑÑÐµÑ</a>,\n",
      "    <a href=\"4.html\">ÐÐµÑÐ¼Ð¸Ð¾Ð½Ð° ÐÑÐµÐ¹Ð½Ð´Ð¶ÐµÑ</a>,\n",
      "    <a href=\"5.html\">Ð¡Ð¸ÑÐ¸ÑÑ ÐÐ»ÑÐº</a>,\n",
      "    <a href=\"6.html\">Ð ÑÐ±ÐµÑÑ Ð¥Ð°Ð³ÑÐ¸Ð´</a>,\n",
      "    <a href=\"7.html\">Ð Ð¾Ð½ Ð£Ð¸Ð·Ð»Ð¸</a>,\n",
      "    <a href=\"8.html\">ÐÑÑÐ¾ÑÐ¸Ñ ÐÑÐ¸Ð½Ð³ÑÐ°ÑÑ</a>,\n",
      "    <a href=\"9.html\">ÐÑÑÐ¸ÑÑ ÐÐ°Ð»ÑÐ¾Ð¹</a>,\n",
      "    <a href=\"10.html\">ÐÑÐ°ÐºÐ¾ ÐÐ°Ð»ÑÐ¾Ð¹</a>,\n",
      "    <a href=\"11.html\">ÐÐµÐ»Ð»Ð°ÑÑÐ¸ÑÐ° ÐÐµÑÑÑÐµÐ¹Ð½Ð´Ð¶</a>.<br>\n",
      "    ÐÐ¾ Ð¼Ð°ÑÐµÑÐ¸Ð°Ð»Ð°Ð¼ <a href=\"https://harrypotter.fandom.com\">ÐÐ°ÑÑÐ¸ ÐÐ¾ÑÑÐµÑ Ð²Ð¸ÐºÐ¸</a>. <br>Ð Ð°ÑÐ¿ÑÐ¾ÑÑÑÐ°Ð½ÑÐµÑÑÑ Ð½Ð° ÑÑÐ»Ð¾Ð²Ð¸ÑÑ",
      " CC-BY-SA\n",
      "</body>\n",
      "</html>\n"
     ]
    }
   ],
   "source": [
    "#извлечь информацию (html-разметку) сайта\n",
    "print(site.text)"
   ]
  },
  {
   "cell_type": "code",
   "execution_count": 6,
   "id": "adc3a2fd",
   "metadata": {},
   "outputs": [],
   "source": [
    "site.encoding = 'utf-8'"
   ]
  },
  {
   "cell_type": "code",
   "execution_count": 10,
   "id": "04002a5a",
   "metadata": {},
   "outputs": [
    {
     "data": {
      "text/plain": [
       "str"
      ]
     },
     "execution_count": 10,
     "metadata": {},
     "output_type": "execute_result"
    }
   ],
   "source": [
    "type(site.text)"
   ]
  },
  {
   "cell_type": "code",
   "execution_count": 7,
   "id": "26290ecd",
   "metadata": {},
   "outputs": [
    {
     "name": "stdout",
     "output_type": "stream",
     "text": [
      "<html>\n",
      "<head>\n",
      "    <meta charset=\"UTF-8\">\n",
      "    <title>Оглавление</title>\n",
      "</head>\n",
      "<body>\n",
      "    Статьи о персонажах: <a href=\"1.html\">Гарри Поттер</a>,\n",
      "    <a href=\"2.html\">Джинни Уизли</a>,\n",
      "    <a href=\"3.html\">Лили Поттер</a>,\n",
      "    <a href=\"4.html\">Гермиона Грейнджер</a>,\n",
      "    <a href=\"5.html\">Сириус Блэк</a>,\n",
      "    <a href=\"6.html\">Рубеус Хагрид</a>,\n",
      "    <a href=\"7.html\">Рон Уизли</a>,\n",
      "    <a href=\"8.html\">Астория Гринграсс</a>,\n",
      "    <a href=\"9.html\">Люциус Малфой</a>,\n",
      "    <a href=\"10.html\">Драко Малфой</a>,\n",
      "    <a href=\"11.html\">Беллатриса Лестрейндж</a>.<br>\n",
      "    По материалам <a href=\"https://harrypotter.fandom.com\">Гарри Поттер вики</a>. <br>Распространяется на условиях CC-BY-SA\n",
      "</body>\n",
      "</html>\n"
     ]
    }
   ],
   "source": [
    "print(site.text)"
   ]
  },
  {
   "cell_type": "code",
   "execution_count": null,
   "id": "e385a224",
   "metadata": {},
   "outputs": [],
   "source": [
    "#!pip install bs4"
   ]
  },
  {
   "cell_type": "code",
   "execution_count": 8,
   "id": "4ef9022f",
   "metadata": {},
   "outputs": [],
   "source": [
    "from bs4 import BeautifulSoup"
   ]
  },
  {
   "cell_type": "code",
   "execution_count": 9,
   "id": "4512e011",
   "metadata": {},
   "outputs": [
    {
     "name": "stdout",
     "output_type": "stream",
     "text": [
      "<html>\n",
      "<head>\n",
      "<meta charset=\"utf-8\"/>\n",
      "<title>Оглавление</title>\n",
      "</head>\n",
      "<body>\n",
      "    Статьи о персонажах: <a href=\"1.html\">Гарри Поттер</a>,\n",
      "    <a href=\"2.html\">Джинни Уизли</a>,\n",
      "    <a href=\"3.html\">Лили Поттер</a>,\n",
      "    <a href=\"4.html\">Гермиона Грейнджер</a>,\n",
      "    <a href=\"5.html\">Сириус Блэк</a>,\n",
      "    <a href=\"6.html\">Рубеус Хагрид</a>,\n",
      "    <a href=\"7.html\">Рон Уизли</a>,\n",
      "    <a href=\"8.html\">Астория Гринграсс</a>,\n",
      "    <a href=\"9.html\">Люциус Малфой</a>,\n",
      "    <a href=\"10.html\">Драко Малфой</a>,\n",
      "    <a href=\"11.html\">Беллатриса Лестрейндж</a>.<br/>\n",
      "    По материалам <a href=\"https://harrypotter.fandom.com\">Гарри Поттер вики</a>. <br/>Распространяется на условиях CC-BY-SA\n",
      "</body>\n",
      "</html>\n"
     ]
    }
   ],
   "source": [
    "soup = BeautifulSoup(site.text)\n",
    "\n",
    "print(soup)"
   ]
  },
  {
   "cell_type": "code",
   "execution_count": 11,
   "id": "0fdd1a23",
   "metadata": {},
   "outputs": [
    {
     "data": {
      "text/plain": [
       "bs4.BeautifulSoup"
      ]
     },
     "execution_count": 11,
     "metadata": {},
     "output_type": "execute_result"
    }
   ],
   "source": [
    "type(soup)"
   ]
  },
  {
   "cell_type": "code",
   "execution_count": 12,
   "id": "2beaf0e5",
   "metadata": {
    "scrolled": true
   },
   "outputs": [
    {
     "name": "stdout",
     "output_type": "stream",
     "text": [
      "<a href=\"1.html\">Гарри Поттер</a>\n"
     ]
    }
   ],
   "source": [
    "print(soup.find('a')) #возвращает текст внутри первого найденного тега 'a'"
   ]
  },
  {
   "cell_type": "code",
   "execution_count": 13,
   "id": "47dec4d4",
   "metadata": {},
   "outputs": [
    {
     "data": {
      "text/plain": [
       "'1.html'"
      ]
     },
     "execution_count": 13,
     "metadata": {},
     "output_type": "execute_result"
    }
   ],
   "source": [
    "link = soup.find('a')\n",
    "link.get('href')"
   ]
  },
  {
   "cell_type": "code",
   "execution_count": 14,
   "id": "2b7431ee",
   "metadata": {},
   "outputs": [
    {
     "data": {
      "text/plain": [
       "'Гарри Поттер'"
      ]
     },
     "execution_count": 14,
     "metadata": {},
     "output_type": "execute_result"
    }
   ],
   "source": [
    "link.text"
   ]
  },
  {
   "cell_type": "code",
   "execution_count": 16,
   "id": "2e6fd1c1",
   "metadata": {},
   "outputs": [
    {
     "name": "stdout",
     "output_type": "stream",
     "text": [
      "Адреса файла: 1.html, текст ссылки: Гарри Поттер\n"
     ]
    }
   ],
   "source": [
    "print(f\"Адреса файла: {link.get('href')}, текст ссылки: {link.text}\")"
   ]
  },
  {
   "cell_type": "code",
   "execution_count": 19,
   "id": "3e5f5ea6",
   "metadata": {},
   "outputs": [
    {
     "name": "stdout",
     "output_type": "stream",
     "text": [
      "[<a href=\"1.html\">Гарри Поттер</a>, <a href=\"2.html\">Джинни Уизли</a>, <a href=\"3.html\">Лили Поттер</a>, <a href=\"4.html\">Гермиона Грейнджер</a>, <a href=\"5.html\">Сириус Блэк</a>, <a href=\"6.html\">Рубеус Хагрид</a>, <a href=\"7.html\">Рон Уизли</a>, <a href=\"8.html\">Астория Гринграсс</a>, <a href=\"9.html\">Люциус Малфой</a>, <a href=\"10.html\">Драко Малфой</a>, <a href=\"11.html\">Беллатриса Лестрейндж</a>, <a href=\"https://harrypotter.fandom.com\">Гарри Поттер вики</a>]\n"
     ]
    }
   ],
   "source": [
    "print(soup.find_all('a'))"
   ]
  },
  {
   "cell_type": "code",
   "execution_count": 21,
   "id": "597ad69f",
   "metadata": {},
   "outputs": [
    {
     "name": "stdout",
     "output_type": "stream",
     "text": [
      "Адреса файла: 1.html, текст ссылки: Гарри Поттер\n",
      "Адреса файла: 2.html, текст ссылки: Джинни Уизли\n",
      "Адреса файла: 3.html, текст ссылки: Лили Поттер\n",
      "Адреса файла: 4.html, текст ссылки: Гермиона Грейнджер\n",
      "Адреса файла: 5.html, текст ссылки: Сириус Блэк\n",
      "Адреса файла: 6.html, текст ссылки: Рубеус Хагрид\n",
      "Адреса файла: 7.html, текст ссылки: Рон Уизли\n",
      "Адреса файла: 8.html, текст ссылки: Астория Гринграсс\n",
      "Адреса файла: 9.html, текст ссылки: Люциус Малфой\n",
      "Адреса файла: 10.html, текст ссылки: Драко Малфой\n",
      "Адреса файла: 11.html, текст ссылки: Беллатриса Лестрейндж\n",
      "Адреса файла: https://harrypotter.fandom.com, текст ссылки: Гарри Поттер вики\n"
     ]
    }
   ],
   "source": [
    "for link in soup.find_all('a'):\n",
    "    print(f\"Адреса файла: {link.get('href')}, текст ссылки: {link.text}\")"
   ]
  },
  {
   "cell_type": "code",
   "execution_count": null,
   "id": "bc303604",
   "metadata": {},
   "outputs": [],
   "source": [
    "# метод - функция у объектов определенного класса, в конце круглые скобки"
   ]
  },
  {
   "cell_type": "code",
   "execution_count": 22,
   "id": "7d4da70b",
   "metadata": {},
   "outputs": [
    {
     "name": "stdout",
     "output_type": "stream",
     "text": [
      "Адреса файла: 1.html, текст ссылки: Гарри Поттер\n",
      "Адреса файла: 2.html, текст ссылки: Джинни Уизли\n",
      "Адреса файла: 3.html, текст ссылки: Лили Поттер\n",
      "Адреса файла: 4.html, текст ссылки: Гермиона Грейнджер\n",
      "Адреса файла: 5.html, текст ссылки: Сириус Блэк\n",
      "Адреса файла: 6.html, текст ссылки: Рубеус Хагрид\n",
      "Адреса файла: 7.html, текст ссылки: Рон Уизли\n",
      "Адреса файла: 8.html, текст ссылки: Астория Гринграсс\n",
      "Адреса файла: 9.html, текст ссылки: Люциус Малфой\n",
      "Адреса файла: 10.html, текст ссылки: Драко Малфой\n",
      "Адреса файла: 11.html, текст ссылки: Беллатриса Лестрейндж\n",
      "Адреса файла: https://harrypotter.fandom.com, текст ссылки: Гарри Поттер вики\n"
     ]
    }
   ],
   "source": [
    "#Импортируем модули requests и BeautifulSoup\n",
    "import requests\n",
    "from bs4 import BeautifulSoup\n",
    "\n",
    "#применим функцию get, которая запросит страницу сайта\n",
    "site = requests.get('https://online.hse.ru/python-as-foreign/1/')\n",
    "\n",
    "# Укажем универсальную кодировку\n",
    "site.encoding = 'utf-8'\n",
    "\n",
    "soup = BeautifulSoup(site.text)\n",
    "\n",
    "#Перебираем все найденные ссылки и выводим на печать\n",
    "for link in soup.find_all('a'):\n",
    "    print(f\"Адреса файла: {link.get('href')}, текст ссылки: {link.text}\")"
   ]
  },
  {
   "cell_type": "markdown",
   "id": "2a7d0b7e",
   "metadata": {},
   "source": [
    "# Устройство таблиц в HTML"
   ]
  },
  {
   "cell_type": "code",
   "execution_count": null,
   "id": "bd660a0c",
   "metadata": {},
   "outputs": [],
   "source": []
  },
  {
   "cell_type": "code",
   "execution_count": null,
   "id": "84585471",
   "metadata": {},
   "outputs": [],
   "source": [
    "# <table> ... </table> таблица\n",
    "# <caption> заголовок таблицы\n",
    "# <tr> ... </tr> - table row\n",
    "# <th> ... </th> - table header (название колонки)\n",
    "# <td> ... </td> - table data"
   ]
  }
 ],
 "metadata": {
  "kernelspec": {
   "display_name": "Python 3",
   "language": "python",
   "name": "python3"
  },
  "language_info": {
   "codemirror_mode": {
    "name": "ipython",
    "version": 3
   },
   "file_extension": ".py",
   "mimetype": "text/x-python",
   "name": "python",
   "nbconvert_exporter": "python",
   "pygments_lexer": "ipython3",
   "version": "3.8.5"
  },
  "toc": {
   "base_numbering": 1,
   "nav_menu": {},
   "number_sections": true,
   "sideBar": true,
   "skip_h1_title": false,
   "title_cell": "Table of Contents",
   "title_sidebar": "Contents",
   "toc_cell": false,
   "toc_position": {},
   "toc_section_display": true,
   "toc_window_display": false
  }
 },
 "nbformat": 4,
 "nbformat_minor": 5
}

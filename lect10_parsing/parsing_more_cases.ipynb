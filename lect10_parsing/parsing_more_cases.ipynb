{
 "cells": [
  {
   "cell_type": "markdown",
   "metadata": {},
   "source": [
    "# Парсинг, практика\n",
    "\n",
    "*Анастасия Паршина, НИУ ВШЭ*"
   ]
  },
  {
   "cell_type": "code",
   "execution_count": 1,
   "metadata": {},
   "outputs": [],
   "source": [
    "import requests\n",
    "from bs4 import BeautifulSoup\n",
    "import pandas as pd\n",
    "import re\n",
    "from time import sleep"
   ]
  },
  {
   "cell_type": "markdown",
   "metadata": {},
   "source": [
    "## Задание 1\n",
    "\n",
    "Дана ссылка на сайт [IMDb](https://www.imdb.com/calendar/?ref_=nv_mv_cal). Сохраните название и ссылки всех фильмов на странице. "
   ]
  },
  {
   "cell_type": "code",
   "execution_count": 3,
   "metadata": {},
   "outputs": [
    {
     "name": "stdout",
     "output_type": "stream",
     "text": [
      "https://www.imdb.com/calendar/?ref_=nv_mv_cal\n"
     ]
    }
   ],
   "source": [
    "url = 'https://www.imdb.com/calendar/?ref_=nv_mv_cal'\n",
    "print(url)"
   ]
  },
  {
   "cell_type": "code",
   "execution_count": 4,
   "metadata": {},
   "outputs": [
    {
     "data": {
      "text/plain": [
       "200"
      ]
     },
     "execution_count": 4,
     "metadata": {},
     "output_type": "execute_result"
    }
   ],
   "source": [
    "page = requests.get(url)\n",
    "page.status_code # 200 - все хорошо"
   ]
  },
  {
   "cell_type": "code",
   "execution_count": 5,
   "metadata": {},
   "outputs": [],
   "source": [
    "soup = BeautifulSoup(page.text)\n",
    "#soup"
   ]
  },
  {
   "cell_type": "code",
   "execution_count": 6,
   "metadata": {},
   "outputs": [
    {
     "data": {
      "text/plain": [
       "[<h4>24 June 2022</h4>,\n",
       " <h4>01 July 2022</h4>,\n",
       " <h4>08 July 2022</h4>,\n",
       " <h4>15 July 2022</h4>,\n",
       " <h4>22 July 2022</h4>,\n",
       " <h4>29 July 2022</h4>,\n",
       " <h4>03 August 2022</h4>,\n",
       " <h4>05 August 2022</h4>,\n",
       " <h4>12 August 2022</h4>,\n",
       " <h4>18 August 2022</h4>,\n",
       " <h4>19 August 2022</h4>,\n",
       " <h4>26 August 2022</h4>,\n",
       " <h4>31 August 2022</h4>,\n",
       " <h4>02 September 2022</h4>,\n",
       " <h4>07 September 2022</h4>,\n",
       " <h4>09 September 2022</h4>,\n",
       " <h4>16 September 2022</h4>,\n",
       " <h4>23 September 2022</h4>,\n",
       " <h4>30 September 2022</h4>,\n",
       " <h4>01 October 2022</h4>,\n",
       " <h4>07 October 2022</h4>,\n",
       " <h4>14 October 2022</h4>,\n",
       " <h4>15 October 2022</h4>,\n",
       " <h4>21 October 2022</h4>,\n",
       " <h4>28 October 2022</h4>,\n",
       " <h4>02 November 2022</h4>,\n",
       " <h4>04 November 2022</h4>,\n",
       " <h4>11 November 2022</h4>,\n",
       " <h4>18 November 2022</h4>,\n",
       " <h4>23 November 2022</h4>,\n",
       " <h4>02 December 2022</h4>,\n",
       " <h4>15 December 2022</h4>,\n",
       " <h4>16 December 2022</h4>,\n",
       " <h4>21 December 2022</h4>,\n",
       " <h4>22 December 2022</h4>,\n",
       " <h4>25 December 2022</h4>,\n",
       " <h4>06 January 2023</h4>,\n",
       " <h4>13 January 2023</h4>,\n",
       " <h4>27 January 2023</h4>,\n",
       " <h4>03 February 2023</h4>,\n",
       " <h4>10 February 2023</h4>,\n",
       " <h4>17 February 2023</h4>,\n",
       " <h4>24 February 2023</h4>,\n",
       " <h4>03 March 2023</h4>,\n",
       " <h4>10 March 2023</h4>,\n",
       " <h4>17 March 2023</h4>,\n",
       " <h4>24 March 2023</h4>,\n",
       " <h4>31 March 2023</h4>,\n",
       " <h4>07 April 2023</h4>,\n",
       " <h4>14 April 2023</h4>,\n",
       " <h4>28 April 2023</h4>,\n",
       " <h4>30 April 2023</h4>,\n",
       " <h4>05 May 2023</h4>,\n",
       " <h4>19 May 2023</h4>,\n",
       " <h4>26 May 2023</h4>,\n",
       " <h4>02 June 2023</h4>,\n",
       " <h4>09 June 2023</h4>]"
      ]
     },
     "execution_count": 6,
     "metadata": {},
     "output_type": "execute_result"
    }
   ],
   "source": [
    "dates = soup.find_all('h4') # все наши даты\n",
    "dates"
   ]
  },
  {
   "cell_type": "code",
   "execution_count": 7,
   "metadata": {
    "scrolled": true
   },
   "outputs": [
    {
     "data": {
      "text/plain": [
       "'24 June 2022'"
      ]
     },
     "execution_count": 7,
     "metadata": {},
     "output_type": "execute_result"
    }
   ],
   "source": [
    "soup.find_all('h4')[0].text"
   ]
  },
  {
   "cell_type": "code",
   "execution_count": 11,
   "metadata": {},
   "outputs": [
    {
     "data": {
      "text/plain": [
       "[<a href=\"/title/tt3704428/?ref_=rlm\">Elvis</a>,\n",
       " <a href=\"/title/tt7144666/?ref_=rlm\">The Black Phone</a>,\n",
       " <a href=\"/title/tt15339456/?ref_=rlm\">Marcel the Shell with Shoes On</a>,\n",
       " <a href=\"/title/tt13145186/?ref_=rlm\">Olga</a>,\n",
       " <a href=\"/title/tt5113044/?ref_=rlm\">Minions: The Rise of Gru</a>,\n",
       " <a href=\"/title/tt12545566/?ref_=rlm\">Mr. Malcolm's List</a>,\n",
       " <a href=\"/title/tt9263550/?ref_=rlm\">Rocketry: The Nambi Effect</a>,\n",
       " <a href=\"/title/tt11636880/?ref_=rlm\">Attack on Finland</a>,\n",
       " <a href=\"/title/tt20851874/?ref_=rlm\">Fourth of July</a>,\n",
       " <a href=\"/title/tt15690300/?ref_=rlm\">Hot Seat</a>,\n",
       " <a href=\"/title/tt11084664/?ref_=rlm\">Most Guys Are Losers</a>,\n",
       " <a href=\"/title/tt10648342/?ref_=rlm\">Thor: Love and Thunder</a>,\n",
       " <a href=\"/title/tt8434110/?ref_=rlm\">Murina</a>,\n",
       " <a href=\"/title/tt9411972/?ref_=rlm\">Where the Crawdads Sing</a>,\n",
       " <a href=\"/title/tt4428398/?ref_=rlm\">Paws of Fury: The Legend of Hank</a>,\n",
       " <a href=\"/title/tt5151570/?ref_=rlm\">Mrs Harris Goes to Paris</a>,\n",
       " <a href=\"/title/tt20672490/?ref_=rlm\">American Carnage</a>,\n",
       " <a href=\"/title/tt15837458/?ref_=rlm\">Wrong Place</a>,\n",
       " <a href=\"/title/tt10954984/?ref_=rlm\">Nope</a>,\n",
       " <a href=\"/title/tt10530838/?ref_=rlm\">How to Please a Woman</a>,\n",
       " <a href=\"/title/tt11976532/?ref_=rlm\">Vengeance</a>,\n",
       " <a href=\"/title/tt8912936/?ref_=rlm\">DC League of Super-Pets</a>,\n",
       " <a href=\"/title/tt12735282/?ref_=rlm\">The Reef: Stalked</a>,\n",
       " <a href=\"/title/tt11559472/?ref_=rlm\">Ali &amp; Ava</a>,\n",
       " <a href=\"/title/tt13917358/?ref_=rlm\">Guns 3: Alias Billy the Kid</a>,\n",
       " <a href=\"/title/tt12593682/?ref_=rlm\">Bullet Train</a>,\n",
       " <a href=\"/title/tt8110652/?ref_=rlm\">Bodies Bodies Bodies</a>,\n",
       " <a href=\"/title/tt11540726/?ref_=rlm\">Resurrection</a>,\n",
       " <a href=\"/title/tt14001894/?ref_=rlm\">Secret Headquarters</a>,\n",
       " <a href=\"/title/tt11952606/?ref_=rlm\">Easter Sunday</a>,\n",
       " <a href=\"/title/tt15325794/?ref_=rlm\">Fall</a>,\n",
       " <a href=\"/title/tt14614892/?ref_=rlm\">Dragon Ball Super: Super Hero</a>,\n",
       " <a href=\"/title/tt13223398/?ref_=rlm\">Beast</a>,\n",
       " <a href=\"/title/tt11162490/?ref_=rlm\">The Drover's Wife</a>,\n",
       " <a href=\"/title/tt5500218/?ref_=rlm\">Samaritan</a>,\n",
       " <a href=\"/title/tt9198364/?ref_=rlm\">Three Thousand Years of Longing</a>,\n",
       " <a href=\"/title/tt12655436/?ref_=rlm\">Honk for Jesus. Save Your Soul.</a>,\n",
       " <a href=\"/title/tt13070038/?ref_=rlm\">After Ever Happy</a>,\n",
       " <a href=\"/title/tt10245072/?ref_=rlm\">Salem's Lot</a>,\n",
       " <a href=\"/title/tt9204328/?ref_=rlm\">Dark Harvest</a>,\n",
       " <a href=\"/title/tt6277462/?ref_=rlm\">Brahmastra Part One: Shiva</a>,\n",
       " <a href=\"/title/tt8589850/?ref_=rlm\">Alphas</a>,\n",
       " <a href=\"/title/tt8093700/?ref_=rlm\">The Woman King</a>,\n",
       " <a href=\"/title/tt10731256/?ref_=rlm\">Don't Worry Darling</a>,\n",
       " <a href=\"/title/tt11909878/?ref_=rlm\">Hocus Pocus 2</a>,\n",
       " <a href=\"/title/tt9731598/?ref_=rlm\">Bros</a>,\n",
       " <a href=\"/title/tt20225374/?ref_=rlm\">Vesper</a>,\n",
       " <a href=\"/title/tt15474916/?ref_=rlm\">Smile</a>,\n",
       " <a href=\"/title/tt10393098/?ref_=rlm\">Syndrome K</a>,\n",
       " <a href=\"/title/tt14668630/?ref_=rlm\">Lyle, Lyle, Crocodile</a>,\n",
       " <a href=\"/title/tt4960748/?ref_=rlm\">Till</a>,\n",
       " <a href=\"/title/tt10665342/?ref_=rlm\">Halloween Ends</a>,\n",
       " <a href=\"/title/tt12477480/?ref_=rlm\">Decision to Leave</a>,\n",
       " <a href=\"/title/tt7147158/?ref_=rlm\">MK Ultra</a>,\n",
       " <a href=\"/title/tt6443346/?ref_=rlm\">Black Adam</a>,\n",
       " <a href=\"/title/tt14109724/?ref_=rlm\">Ticket to Paradise</a>,\n",
       " <a href=\"/title/tt11813216/?ref_=rlm\">The Banshees of Inisherin</a>,\n",
       " <a href=\"/title/tt7693316/?ref_=rlm\">Devotion</a>,\n",
       " <a href=\"/title/tt9271672/?ref_=rlm\">The Devil's Light</a>,\n",
       " <a href=\"/title/tt9692040/?ref_=rlm\">The Monkey King: The Legend Begins</a>,\n",
       " <a href=\"/title/tt10304142/?ref_=rlm\">Amsterdam</a>,\n",
       " <a href=\"/title/tt17220704/?ref_=rlm\">A Christmas Story Christmas</a>,\n",
       " <a href=\"/title/tt0160184/?ref_=rlm\">Eye See You</a>,\n",
       " <a href=\"/title/tt9114286/?ref_=rlm\">Black Panther: Wakanda Forever</a>,\n",
       " <a href=\"/title/tt7215232/?ref_=rlm\">Spellbound</a>,\n",
       " <a href=\"/title/tt9764362/?ref_=rlm\">The Menu</a>,\n",
       " <a href=\"/title/tt14807308/?ref_=rlm\">She Said</a>,\n",
       " <a href=\"/title/tt10298840/?ref_=rlm\">Strange World</a>,\n",
       " <a href=\"/title/tt14208870/?ref_=rlm\">The Fabelmans</a>,\n",
       " <a href=\"/title/tt11145118/?ref_=rlm\">Creed III</a>,\n",
       " <a href=\"/title/tt12003946/?ref_=rlm\">Violent Night</a>,\n",
       " <a href=\"/title/tt13991504/?ref_=rlm\">Bitch Ass</a>,\n",
       " <a href=\"/title/tt1630029/?ref_=rlm\">Avatar: The Way of Water</a>,\n",
       " <a href=\"/title/tt10151854/?ref_=rlm\">Shazam! Fury of the Gods</a>,\n",
       " <a href=\"/title/tt3915174/?ref_=rlm\">Puss in Boots: The Last Wish</a>,\n",
       " <a href=\"/title/tt18079004/?ref_=rlm\">Scoob!: Holiday Haunt</a>,\n",
       " <a href=\"/title/tt7405458/?ref_=rlm\">A Man Called Otto</a>,\n",
       " <a href=\"/title/tt10640346/?ref_=rlm\">Babylon</a>,\n",
       " <a href=\"/title/tt8790086/?ref_=rlm\">Kraven the Hunter</a>,\n",
       " <a href=\"/title/tt8760708/?ref_=rlm\">M3GAN</a>,\n",
       " <a href=\"/title/tt1001520/?ref_=rlm\">Last Voyage of the Demeter</a>,\n",
       " <a href=\"/title/tt15679400/?ref_=rlm\">Knock at the Cabin</a>,\n",
       " <a href=\"/title/tt10276482/?ref_=rlm\">It’s All Coming Back to Me</a>,\n",
       " <a href=\"/title/tt10954600/?ref_=rlm\">Ant-Man and the Wasp: Quantumania</a>,\n",
       " <a href=\"/title/tt14209916/?ref_=rlm\">Cocaine Bear</a>,\n",
       " <a href=\"/title/tt2906216/?ref_=rlm\">Dungeons &amp; Dragons</a>,\n",
       " <a href=\"/title/tt1695843/?ref_=rlm\">Haunted Mansion</a>,\n",
       " <a href=\"/title/tt9663764/?ref_=rlm\">Aquaman and the Lost Kingdom</a>,\n",
       " <a href=\"/title/tt10366206/?ref_=rlm\">John Wick: Chapter 4</a>,\n",
       " <a href=\"/title/tt17663992/?ref_=rlm\">Scream 6</a>,\n",
       " <a href=\"/title/tt6718170/?ref_=rlm\">Untitled Illumination Entertainment Super Mario Project</a>,\n",
       " <a href=\"/title/tt11358390/?ref_=rlm\">Renfield</a>,\n",
       " <a href=\"/title/tt12261776/?ref_=rlm\">65</a>,\n",
       " <a href=\"/title/tt9185206/?ref_=rlm\">Are You There God? It's Me, Margaret</a>,\n",
       " <a href=\"/title/tt1117392/?ref_=rlm\">The Ark and the Aardvark</a>,\n",
       " <a href=\"/title/tt6791350/?ref_=rlm\">Guardians of the Galaxy Vol. 3</a>,\n",
       " <a href=\"/title/tt5433140/?ref_=rlm\">Fast X</a>,\n",
       " <a href=\"/title/tt5971474/?ref_=rlm\">The Little Mermaid</a>,\n",
       " <a href=\"/title/tt9362722/?ref_=rlm\">Spider-Man: Across the Spider-Verse</a>,\n",
       " <a href=\"/title/tt5090568/?ref_=rlm\">Transformers: Rise of the Beasts</a>]"
      ]
     },
     "execution_count": 11,
     "metadata": {},
     "output_type": "execute_result"
    }
   ],
   "source": [
    "# достать ссылки можно так, но как понять, к какой дате они относятся??\n",
    "soup.find_all('a', attrs = {'href' : re.compile('title/tt')}) "
   ]
  },
  {
   "cell_type": "code",
   "execution_count": 12,
   "metadata": {},
   "outputs": [],
   "source": [
    "# пробуем по-другому\n",
    "info = soup.find('div', {'id': 'main'}).find_all('ul')\n",
    "#info"
   ]
  },
  {
   "cell_type": "code",
   "execution_count": 13,
   "metadata": {},
   "outputs": [],
   "source": [
    "films = soup.find('div', {'id': 'main'}).find_all('a')\n",
    "\n",
    "res = []\n",
    "for film in films:\n",
    "    d = {'name': film.text,\n",
    "        'url': 'https://www.imdb.com' + film.get('href')}\n",
    "    res.append(d)"
   ]
  },
  {
   "cell_type": "code",
   "execution_count": 14,
   "metadata": {},
   "outputs": [
    {
     "data": {
      "text/plain": [
       "100"
      ]
     },
     "execution_count": 14,
     "metadata": {},
     "output_type": "execute_result"
    }
   ],
   "source": [
    "len(res)"
   ]
  },
  {
   "cell_type": "code",
   "execution_count": 15,
   "metadata": {},
   "outputs": [],
   "source": [
    "import pandas as pd"
   ]
  },
  {
   "cell_type": "code",
   "execution_count": 16,
   "metadata": {},
   "outputs": [],
   "source": [
    "df = pd.DataFrame(res)"
   ]
  },
  {
   "cell_type": "code",
   "execution_count": 17,
   "metadata": {},
   "outputs": [
    {
     "data": {
      "text/html": [
       "<div>\n",
       "<style scoped>\n",
       "    .dataframe tbody tr th:only-of-type {\n",
       "        vertical-align: middle;\n",
       "    }\n",
       "\n",
       "    .dataframe tbody tr th {\n",
       "        vertical-align: top;\n",
       "    }\n",
       "\n",
       "    .dataframe thead th {\n",
       "        text-align: right;\n",
       "    }\n",
       "</style>\n",
       "<table border=\"1\" class=\"dataframe\">\n",
       "  <thead>\n",
       "    <tr style=\"text-align: right;\">\n",
       "      <th></th>\n",
       "      <th>name</th>\n",
       "      <th>url</th>\n",
       "    </tr>\n",
       "  </thead>\n",
       "  <tbody>\n",
       "    <tr>\n",
       "      <th>0</th>\n",
       "      <td>Elvis</td>\n",
       "      <td>https://www.imdb.com/title/tt3704428/?ref_=rlm</td>\n",
       "    </tr>\n",
       "    <tr>\n",
       "      <th>1</th>\n",
       "      <td>The Black Phone</td>\n",
       "      <td>https://www.imdb.com/title/tt7144666/?ref_=rlm</td>\n",
       "    </tr>\n",
       "    <tr>\n",
       "      <th>2</th>\n",
       "      <td>Marcel the Shell with Shoes On</td>\n",
       "      <td>https://www.imdb.com/title/tt15339456/?ref_=rlm</td>\n",
       "    </tr>\n",
       "    <tr>\n",
       "      <th>3</th>\n",
       "      <td>Olga</td>\n",
       "      <td>https://www.imdb.com/title/tt13145186/?ref_=rlm</td>\n",
       "    </tr>\n",
       "    <tr>\n",
       "      <th>4</th>\n",
       "      <td>Minions: The Rise of Gru</td>\n",
       "      <td>https://www.imdb.com/title/tt5113044/?ref_=rlm</td>\n",
       "    </tr>\n",
       "  </tbody>\n",
       "</table>\n",
       "</div>"
      ],
      "text/plain": [
       "                             name  \\\n",
       "0                           Elvis   \n",
       "1                 The Black Phone   \n",
       "2  Marcel the Shell with Shoes On   \n",
       "3                            Olga   \n",
       "4        Minions: The Rise of Gru   \n",
       "\n",
       "                                               url  \n",
       "0   https://www.imdb.com/title/tt3704428/?ref_=rlm  \n",
       "1   https://www.imdb.com/title/tt7144666/?ref_=rlm  \n",
       "2  https://www.imdb.com/title/tt15339456/?ref_=rlm  \n",
       "3  https://www.imdb.com/title/tt13145186/?ref_=rlm  \n",
       "4   https://www.imdb.com/title/tt5113044/?ref_=rlm  "
      ]
     },
     "execution_count": 17,
     "metadata": {},
     "output_type": "execute_result"
    }
   ],
   "source": [
    "df.head()"
   ]
  },
  {
   "cell_type": "markdown",
   "metadata": {},
   "source": [
    "## Задание 2\n",
    "\n",
    "Дана ссылка на первую страницу [каталога книжных новинок](https://www.bgshop.ru/catalog/group?id=444&page=1&sort=1&instock=). Соберите информацию о книгах с первых трех страниц. "
   ]
  },
  {
   "cell_type": "code",
   "execution_count": 19,
   "metadata": {},
   "outputs": [
    {
     "data": {
      "text/plain": [
       "['https://www.bgshop.ru/catalog/group?id=444&page=1&sort=1&instock=',\n",
       " 'https://www.bgshop.ru/catalog/group?id=444&page=2&sort=1&instock=',\n",
       " 'https://www.bgshop.ru/catalog/group?id=444&page=3&sort=1&instock=']"
      ]
     },
     "execution_count": 19,
     "metadata": {},
     "output_type": "execute_result"
    }
   ],
   "source": [
    "urls = []\n",
    "\n",
    "for i in range(1,4):\n",
    "    urls.append(f'https://www.bgshop.ru/catalog/group?id=444&page={i}&sort=1&instock=')\n",
    "urls"
   ]
  },
  {
   "cell_type": "code",
   "execution_count": 20,
   "metadata": {},
   "outputs": [
    {
     "data": {
      "text/plain": [
       "200"
      ]
     },
     "execution_count": 20,
     "metadata": {},
     "output_type": "execute_result"
    }
   ],
   "source": [
    "page = requests.get(urls[0])\n",
    "page.status_code"
   ]
  },
  {
   "cell_type": "code",
   "execution_count": 21,
   "metadata": {},
   "outputs": [],
   "source": [
    "soup = BeautifulSoup(page.text)\n",
    "#soup"
   ]
  },
  {
   "cell_type": "code",
   "execution_count": 22,
   "metadata": {},
   "outputs": [
    {
     "data": {
      "text/plain": [
       "<div class=\"product\">\n",
       "<a class=\"img_link\" href=\"/Catalog/GetFullDescription?id=10856485&amp;type=1\"><img alt=\"\" class=\"img-fluid\" src=\"https://static1.bgshop.ru/imagehandler.ashx?fileName=10856485.jpg&amp;width=200\"/></a>\n",
       "<div class=\"text\">\n",
       "<div class=\"author\">Н. Н. Дроздов , В. М. Балашов</div>\n",
       "<h3><a href=\"/Catalog/GetFullDescription?id=10856485&amp;type=1\" id=\"p_title_10856485\">Полет бумеранга. Австралия. Сорок лет спустя</a></h3>\n",
       "<p class=\"price\">\n",
       "<span class=\"im_price_title\" style=\"font-size:0.85em;\">Цена в интернет-магазине: </span><span id=\"p_price_10856485\" style=\"display:block; font-weight:bold; font-size:1.4em; margin:6px 0 5px; color:#111;\">\n",
       "                                    509,00 <span style=\"font-size:.8em; font-weight:normal;\">руб.</span>\n",
       "</span>\n",
       "<span style=\"display:block; text-decoration:line-through; color:#777;\">599,00 руб.</span>\n",
       "</p>\n",
       "<p class=\"status im_status_title\">\n",
       "в наличии                        </p>\n",
       "<p class=\"buttons\">\n",
       "<span class=\"btn btn-primary\" id=\"add_10856485\" onclick=\"AddToBasket(10856485)\"><i class=\"fa fa-shopping-cart\"></i> В корзину</span>\n",
       "<a class=\"btn btn-primary add_but\" href=\"/Basket/Detail\" id=\"added_10856485\">Оформить <i class=\"fa fa-chevron-right\"></i></a>\n",
       "</p>\n",
       "</div>\n",
       "<!-- /.text -->\n",
       "</div>"
      ]
     },
     "execution_count": 22,
     "metadata": {},
     "output_type": "execute_result"
    }
   ],
   "source": [
    "product = soup.find_all('div', {'class':'product'})[0]\n",
    "product"
   ]
  },
  {
   "cell_type": "code",
   "execution_count": 23,
   "metadata": {},
   "outputs": [
    {
     "data": {
      "text/plain": [
       "'https://www.bgshop.ru//Catalog/GetFullDescription?id=10856485&type=1'"
      ]
     },
     "execution_count": 23,
     "metadata": {},
     "output_type": "execute_result"
    }
   ],
   "source": [
    "# ссылка\n",
    "url0 = 'https://www.bgshop.ru/' + product.find_all('a')[0].get('href')\n",
    "url0"
   ]
  },
  {
   "cell_type": "code",
   "execution_count": 24,
   "metadata": {},
   "outputs": [],
   "source": [
    "page0 = requests.get(url0)\n",
    "soup0 = BeautifulSoup(page0.text)\n",
    "#soup0"
   ]
  },
  {
   "cell_type": "code",
   "execution_count": 25,
   "metadata": {},
   "outputs": [
    {
     "data": {
      "text/plain": [
       "<div class=\"row box\" id=\"productMain\">\n",
       "<div class=\"col-md-4\">\n",
       "<a data-fancybox=\"gallery\" href=\"/imagehandler.ashx?filename=10856485.jpg&amp;width=400\"><img alt=\"Книга «Полет бумеранга. Австралия. Сорок лет спустя» Дроздов  Н. Н.\" class=\"product_photo zoomIn\" src=\"/imagehandler.ashx?filename=10856485.jpg&amp;width=200\" title=\"Полет бумеранга. Австралия. Сорок лет спустя\" width=\"200\"/></a>\n",
       "</div>\n",
       "<div class=\"col-md-7\">\n",
       "<div class=\"item-desc\">\n",
       "<p class=\"goToDescription\"><a class=\"scroll-to\" href=\"/Catalog/Search?query=Дроздов  Н. Н.&amp;page=1\">\n",
       "Николай Николаевич Дроздов             </a></p>\n",
       "<h1 id=\"p_title_10856485\">Полет бумеранга. Австралия. Сорок лет спустя</h1>\n",
       "<p class=\"item-status\">в наличии</p>\n",
       "<div id=\"old_price\">Цена: <span style=\"text-decoration:line-through; color:#777;\"><b>599,00</b> руб.</span></div>\n",
       "<div id=\"price\">Цена в интернет-магазине: <span id=\"p_price_10856485\" style=\"color: #a42921; font-size:1.2rem;\">509,00 руб.</span></div>\n",
       "<p class=\"buttons\">\n",
       "<span class=\"btn btn-primary\" id=\"add_10856485\" onclick=\"AddToBasket(10856485)\"><i class=\"fa fa-shopping-cart\"></i> В корзину</span>\n",
       "<a class=\"btn btn-primary add_but\" href=\"/Basket/Detail\" id=\"added_10856485\">Перейти в корзину <i class=\"fa fa-chevron-right\"></i></a>\n",
       "</p>\n",
       "<a class=\"disc_promo\" href=\"/information/page/dostavka\" style=\"display:block; margin-top:15px;\" target=\"_blank\"><img alt=\"\" src=\"https://static2.bgshop.ru/banners/delivery_ban101.jpg\" style=\"border:0;\" title=\"Доставка книг по России от 200 руб.*\"/></a>\n",
       "<a class=\"disc_promo\" href=\"/information/page/samovyvoz\" style=\"display:block; margin-left:0px; margin-top:18px; \" target=\"_blank\"><img alt=\"\" src=\"https://static2.bgshop.ru/banners/self_pickup_ban.png\" style=\"border:0;\" title=\"Самовывоз из пункта выдачи - бесплатно*\"/></a>\n",
       "<div style=\"clear:both;height:1px; padding0; margin:0;\"></div>\n",
       "</div>\n",
       "</div>\n",
       "</div>"
      ]
     },
     "execution_count": 25,
     "metadata": {},
     "output_type": "execute_result"
    }
   ],
   "source": [
    "main_info = soup0.find_all('div', {'id':'productMain'})[0]\n",
    "main_info"
   ]
  },
  {
   "cell_type": "code",
   "execution_count": 26,
   "metadata": {},
   "outputs": [
    {
     "data": {
      "text/plain": [
       "'\\r\\nНиколай Николаевич Дроздов             '"
      ]
     },
     "execution_count": 26,
     "metadata": {},
     "output_type": "execute_result"
    }
   ],
   "source": [
    "author = main_info.find_all('p')[0].text\n",
    "author"
   ]
  },
  {
   "cell_type": "code",
   "execution_count": 27,
   "metadata": {},
   "outputs": [
    {
     "data": {
      "text/plain": [
       "'Полет бумеранга. Австралия. Сорок лет спустя'"
      ]
     },
     "execution_count": 27,
     "metadata": {},
     "output_type": "execute_result"
    }
   ],
   "source": [
    "title = main_info.find_all('h1')[0].text\n",
    "title"
   ]
  },
  {
   "cell_type": "code",
   "execution_count": 28,
   "metadata": {},
   "outputs": [
    {
     "data": {
      "text/plain": [
       "'в наличии'"
      ]
     },
     "execution_count": 28,
     "metadata": {},
     "output_type": "execute_result"
    }
   ],
   "source": [
    "status = main_info.find_all('p', {'class':'item-status'})[0].text\n",
    "status"
   ]
  },
  {
   "cell_type": "code",
   "execution_count": 29,
   "metadata": {},
   "outputs": [
    {
     "data": {
      "text/plain": [
       "'Цена в интернет-магазине: 509,00\\xa0руб.'"
      ]
     },
     "execution_count": 29,
     "metadata": {},
     "output_type": "execute_result"
    }
   ],
   "source": [
    "price = main_info.find_all('div', {'id':'price'})[0].text\n",
    "price"
   ]
  },
  {
   "cell_type": "code",
   "execution_count": 30,
   "metadata": {},
   "outputs": [
    {
     "data": {
      "text/plain": [
       "509.0"
      ]
     },
     "execution_count": 30,
     "metadata": {},
     "output_type": "execute_result"
    }
   ],
   "source": [
    "price_clean = float(re.findall(r'\\d+,\\d+', price)[0].replace(',', '.'))\n",
    "price_clean"
   ]
  },
  {
   "cell_type": "code",
   "execution_count": 31,
   "metadata": {},
   "outputs": [],
   "source": [
    "books = {}\n",
    "\n",
    "for i in soup.find_all('div', {'class':'product'}):\n",
    "    url0 = 'https://www.bgshop.ru/' + i.find_all('a')[0].get('href')\n",
    "    page0 = requests.get(url0)\n",
    "    soup0 = BeautifulSoup(page0.text)\n",
    "    sleep(1)\n",
    "    \n",
    "    main_info = soup0.find_all('div', {'id':'productMain'})[0]\n",
    "    author = main_info.find_all('p')[0].text\n",
    "    title = main_info.find_all('h1')[0].text\n",
    "    status = main_info.find_all('p', {'class':'item-status'})[0].text\n",
    "    \n",
    "    price = main_info.find_all('div', {'id':'price'})[0].text\n",
    "    price_clean = float(re.findall(r'\\d+,\\d+', price)[0].replace(',', '.'))\n",
    "    \n",
    "    books[title] = [author, status, price_clean, url0]"
   ]
  },
  {
   "cell_type": "markdown",
   "metadata": {},
   "source": [
    "А теперь для всех (трех) страниц с книгами:"
   ]
  },
  {
   "cell_type": "code",
   "execution_count": 34,
   "metadata": {},
   "outputs": [],
   "source": [
    "books = {}\n",
    "for u in urls:\n",
    "    page = requests.get(u)\n",
    "    soup = BeautifulSoup(page.text)\n",
    "    sleep(1)\n",
    "    info = soup.find_all('div', {'class':'product'})\n",
    "    for i in info:\n",
    "        url0 = 'https://www.bgshop.ru/' + i.find_all('a')[0].get('href')\n",
    "        page0 = requests.get(url0)\n",
    "        soup0 = BeautifulSoup(page0.text)\n",
    "        sleep(1)\n",
    "\n",
    "        main_info = soup0.find_all('div', {'id':'productMain'})[0]\n",
    "        author = main_info.find_all('p')[0].text\n",
    "        title = main_info.find_all('h1')[0].text\n",
    "        status = main_info.find_all('p', {'class':'item-status'})[0].text\n",
    "\n",
    "        price = main_info.find_all('div', {'id':'price'})[0].text\n",
    "        price_change = float(re.findall(r'\\d+,\\d+', price)[0].replace(',', '.'))\n",
    "\n",
    "        books[title] = [author, status, price_change, url0]"
   ]
  },
  {
   "cell_type": "code",
   "execution_count": 35,
   "metadata": {},
   "outputs": [
    {
     "data": {
      "text/html": [
       "<div>\n",
       "<style scoped>\n",
       "    .dataframe tbody tr th:only-of-type {\n",
       "        vertical-align: middle;\n",
       "    }\n",
       "\n",
       "    .dataframe tbody tr th {\n",
       "        vertical-align: top;\n",
       "    }\n",
       "\n",
       "    .dataframe thead th {\n",
       "        text-align: right;\n",
       "    }\n",
       "</style>\n",
       "<table border=\"1\" class=\"dataframe\">\n",
       "  <thead>\n",
       "    <tr style=\"text-align: right;\">\n",
       "      <th></th>\n",
       "      <th>Автор</th>\n",
       "      <th>Статус</th>\n",
       "      <th>Цена</th>\n",
       "      <th>Ссылка</th>\n",
       "    </tr>\n",
       "  </thead>\n",
       "  <tbody>\n",
       "    <tr>\n",
       "      <th>Полет бумеранга. Австралия. Сорок лет спустя</th>\n",
       "      <td>\\r\\nНиколай Николаевич Дроздов</td>\n",
       "      <td>в наличии</td>\n",
       "      <td>509.0</td>\n",
       "      <td>https://www.bgshop.ru//Catalog/GetFullDescript...</td>\n",
       "    </tr>\n",
       "    <tr>\n",
       "      <th>Моя вкусная опера</th>\n",
       "      <td>\\r\\nКазарновская Л.Ю.</td>\n",
       "      <td>в наличии</td>\n",
       "      <td>781.0</td>\n",
       "      <td>https://www.bgshop.ru//Catalog/GetFullDescript...</td>\n",
       "    </tr>\n",
       "    <tr>\n",
       "      <th>В саду чудовищ: Любовь и террор в гитлеровском Берлине</th>\n",
       "      <td>\\r\\nЛарсон Э.</td>\n",
       "      <td>в наличии</td>\n",
       "      <td>749.0</td>\n",
       "      <td>https://www.bgshop.ru//Catalog/GetFullDescript...</td>\n",
       "    </tr>\n",
       "    <tr>\n",
       "      <th>Якутия. Современный путеводитель</th>\n",
       "      <td>\\r\\nКирюхова Е.</td>\n",
       "      <td>в наличии</td>\n",
       "      <td>629.0</td>\n",
       "      <td>https://www.bgshop.ru//Catalog/GetFullDescript...</td>\n",
       "    </tr>\n",
       "    <tr>\n",
       "      <th>Конец лета. Пустой дом. Снег в апреле</th>\n",
       "      <td>\\r\\nПилчер Р.</td>\n",
       "      <td>в наличии</td>\n",
       "      <td>636.0</td>\n",
       "      <td>https://www.bgshop.ru//Catalog/GetFullDescript...</td>\n",
       "    </tr>\n",
       "    <tr>\n",
       "      <th>От Белоруссии до Карабаха. Трамп, Навальный, коронавирус и другие...</th>\n",
       "      <td>\\r\\nСатановский Е.Я.</td>\n",
       "      <td>в наличии</td>\n",
       "      <td>759.0</td>\n",
       "      <td>https://www.bgshop.ru//Catalog/GetFullDescript...</td>\n",
       "    </tr>\n",
       "    <tr>\n",
       "      <th>Писательская рота</th>\n",
       "      <td>\\r\\nМихеенков С.Е.</td>\n",
       "      <td>в наличии</td>\n",
       "      <td>696.0</td>\n",
       "      <td>https://www.bgshop.ru//Catalog/GetFullDescript...</td>\n",
       "    </tr>\n",
       "    <tr>\n",
       "      <th>ПроСТО кухня с Александром Бельковичем.</th>\n",
       "      <td>\\r\\nАлександр  Белькович</td>\n",
       "      <td>в наличии</td>\n",
       "      <td>859.0</td>\n",
       "      <td>https://www.bgshop.ru//Catalog/GetFullDescript...</td>\n",
       "    </tr>\n",
       "    <tr>\n",
       "      <th>Маленький Тео идет в детский сад. Добрые истории для развития социальных навыков</th>\n",
       "      <td>\\r\\nСюзанна Гёлих</td>\n",
       "      <td>в наличии</td>\n",
       "      <td>849.0</td>\n",
       "      <td>https://www.bgshop.ru//Catalog/GetFullDescript...</td>\n",
       "    </tr>\n",
       "    <tr>\n",
       "      <th>Изюмка и гном</th>\n",
       "      <td>\\r\\nБалинт А.</td>\n",
       "      <td>в наличии</td>\n",
       "      <td>322.0</td>\n",
       "      <td>https://www.bgshop.ru//Catalog/GetFullDescript...</td>\n",
       "    </tr>\n",
       "    <tr>\n",
       "      <th>Adobe Illustrator CC 2022. Мастер-класс Евгении Тучкевич</th>\n",
       "      <td>\\r\\nЕвгения Ивановна Тучкевич</td>\n",
       "      <td>в наличии</td>\n",
       "      <td>1101.0</td>\n",
       "      <td>https://www.bgshop.ru//Catalog/GetFullDescript...</td>\n",
       "    </tr>\n",
       "    <tr>\n",
       "      <th>Все страньше и страньше. Как теория относительности , рок-н-ролл и научная фантастика определили XX век</th>\n",
       "      <td>\\r\\nДжон Хиггс</td>\n",
       "      <td>в наличии</td>\n",
       "      <td>713.0</td>\n",
       "      <td>https://www.bgshop.ru//Catalog/GetFullDescript...</td>\n",
       "    </tr>\n",
       "    <tr>\n",
       "      <th>Незабудка. На границе света</th>\n",
       "      <td>\\r\\nКерстин Гир</td>\n",
       "      <td>в наличии</td>\n",
       "      <td>619.0</td>\n",
       "      <td>https://www.bgshop.ru//Catalog/GetFullDescript...</td>\n",
       "    </tr>\n",
       "    <tr>\n",
       "      <th>Идеальное преступление: 92 загадочных дела для гениального злодея и супердетектива</th>\n",
       "      <td>\\r\\nГарет Мур</td>\n",
       "      <td>в наличии</td>\n",
       "      <td>739.0</td>\n",
       "      <td>https://www.bgshop.ru//Catalog/GetFullDescript...</td>\n",
       "    </tr>\n",
       "    <tr>\n",
       "      <th>Воодушевление отделов продаж. Инструменты нематериальной мотивации</th>\n",
       "      <td>\\r\\nМаксим Валерьевич Батырев</td>\n",
       "      <td>в наличии</td>\n",
       "      <td>1479.0</td>\n",
       "      <td>https://www.bgshop.ru//Catalog/GetFullDescript...</td>\n",
       "    </tr>\n",
       "    <tr>\n",
       "      <th>Блеск (#1)</th>\n",
       "      <td>\\r\\nКеннеди Р.</td>\n",
       "      <td>в наличии</td>\n",
       "      <td>739.0</td>\n",
       "      <td>https://www.bgshop.ru//Catalog/GetFullDescript...</td>\n",
       "    </tr>\n",
       "    <tr>\n",
       "      <th>Девушка жимолости</th>\n",
       "      <td>\\r\\nКарпентер Э.</td>\n",
       "      <td>в наличии</td>\n",
       "      <td>585.0</td>\n",
       "      <td>https://www.bgshop.ru//Catalog/GetFullDescript...</td>\n",
       "    </tr>\n",
       "    <tr>\n",
       "      <th>Основы цифрового рисунка в Photoshop. Гайд для начинающих</th>\n",
       "      <td>\\n</td>\n",
       "      <td>в наличии</td>\n",
       "      <td>3639.0</td>\n",
       "      <td>https://www.bgshop.ru//Catalog/GetFullDescript...</td>\n",
       "    </tr>\n",
       "    <tr>\n",
       "      <th>IT-рекрутмент: Как найти лучших специалистов, когда все вокруг горит</th>\n",
       "      <td>\\r\\nЕгор Яценко</td>\n",
       "      <td>в наличии</td>\n",
       "      <td>690.0</td>\n",
       "      <td>https://www.bgshop.ru//Catalog/GetFullDescript...</td>\n",
       "    </tr>\n",
       "    <tr>\n",
       "      <th>Дебри</th>\n",
       "      <td>\\r\\nИванов А.</td>\n",
       "      <td>в наличии</td>\n",
       "      <td>651.0</td>\n",
       "      <td>https://www.bgshop.ru//Catalog/GetFullDescript...</td>\n",
       "    </tr>\n",
       "    <tr>\n",
       "      <th>Ген богатства</th>\n",
       "      <td>\\r\\nЕвгений Ходченков</td>\n",
       "      <td>в наличии</td>\n",
       "      <td>1119.0</td>\n",
       "      <td>https://www.bgshop.ru//Catalog/GetFullDescript...</td>\n",
       "    </tr>\n",
       "    <tr>\n",
       "      <th>Шесть могил на пути в Мюнхен</th>\n",
       "      <td>\\r\\nПьюзо М.</td>\n",
       "      <td>в наличии</td>\n",
       "      <td>759.0</td>\n",
       "      <td>https://www.bgshop.ru//Catalog/GetFullDescript...</td>\n",
       "    </tr>\n",
       "    <tr>\n",
       "      <th>Книжные контрабандисты: как поэты-партизаны спасали от нацистов сокровища еврейской культуры</th>\n",
       "      <td>\\r\\nФишман Д.</td>\n",
       "      <td>в наличии</td>\n",
       "      <td>929.0</td>\n",
       "      <td>https://www.bgshop.ru//Catalog/GetFullDescript...</td>\n",
       "    </tr>\n",
       "    <tr>\n",
       "      <th>Биохакинг без границ. Обновите мозг, создайте тело мечты, остановите старение и станьте счастливым за 1 месяц</th>\n",
       "      <td>\\r\\nБен Гринфилд</td>\n",
       "      <td>в наличии</td>\n",
       "      <td>1759.0</td>\n",
       "      <td>https://www.bgshop.ru//Catalog/GetFullDescript...</td>\n",
       "    </tr>\n",
       "    <tr>\n",
       "      <th>Легально о нелегальном</th>\n",
       "      <td>\\r\\nДолгополов,Сафронов Н.М.. Никас</td>\n",
       "      <td>в наличии</td>\n",
       "      <td>794.0</td>\n",
       "      <td>https://www.bgshop.ru//Catalog/GetFullDescript...</td>\n",
       "    </tr>\n",
       "    <tr>\n",
       "      <th>Ниндзя. Воины-невидимки</th>\n",
       "      <td>\\r\\nГорбылев А.М.</td>\n",
       "      <td>в наличии</td>\n",
       "      <td>1759.0</td>\n",
       "      <td>https://www.bgshop.ru//Catalog/GetFullDescript...</td>\n",
       "    </tr>\n",
       "    <tr>\n",
       "      <th>Дизайн интерьера с заботой о себе. 100 решений, подсказанных природой, для здоровой и счастливой жизни</th>\n",
       "      <td>\\r\\nОливер Хит</td>\n",
       "      <td>в наличии</td>\n",
       "      <td>1919.0</td>\n",
       "      <td>https://www.bgshop.ru//Catalog/GetFullDescript...</td>\n",
       "    </tr>\n",
       "    <tr>\n",
       "      <th>Веб-дизайн для недизайнеров</th>\n",
       "      <td>\\r\\nТрэйси Осборн</td>\n",
       "      <td>в наличии</td>\n",
       "      <td>1389.0</td>\n",
       "      <td>https://www.bgshop.ru//Catalog/GetFullDescript...</td>\n",
       "    </tr>\n",
       "    <tr>\n",
       "      <th>Санкционная война против России.</th>\n",
       "      <td>\\r\\nКатасонов В.Ю.</td>\n",
       "      <td>в наличии</td>\n",
       "      <td>925.0</td>\n",
       "      <td>https://www.bgshop.ru//Catalog/GetFullDescript...</td>\n",
       "    </tr>\n",
       "    <tr>\n",
       "      <th>Ясновидец Пятаков</th>\n",
       "      <td>\\r\\nБушковский А.С.</td>\n",
       "      <td>в наличии</td>\n",
       "      <td>494.0</td>\n",
       "      <td>https://www.bgshop.ru//Catalog/GetFullDescript...</td>\n",
       "    </tr>\n",
       "    <tr>\n",
       "      <th>Тайная жизнь пчел</th>\n",
       "      <td>\\r\\nМонк Кидд Сью</td>\n",
       "      <td>в наличии</td>\n",
       "      <td>690.0</td>\n",
       "      <td>https://www.bgshop.ru//Catalog/GetFullDescript...</td>\n",
       "    </tr>\n",
       "    <tr>\n",
       "      <th>Сестра лучше, чем все карусели мира</th>\n",
       "      <td>\\r\\nКретова К. А.</td>\n",
       "      <td>в наличии</td>\n",
       "      <td>699.0</td>\n",
       "      <td>https://www.bgshop.ru//Catalog/GetFullDescript...</td>\n",
       "    </tr>\n",
       "    <tr>\n",
       "      <th>Америка: Без царя в голове</th>\n",
       "      <td>\\r\\nЗлобин Н. В.</td>\n",
       "      <td>в наличии</td>\n",
       "      <td>979.0</td>\n",
       "      <td>https://www.bgshop.ru//Catalog/GetFullDescript...</td>\n",
       "    </tr>\n",
       "    <tr>\n",
       "      <th>Карл Брюллов. Лучшие картины (твердый переплет/Большая художественная галерея)</th>\n",
       "      <td>\\n</td>\n",
       "      <td>в наличии</td>\n",
       "      <td>734.0</td>\n",
       "      <td>https://www.bgshop.ru//Catalog/GetFullDescript...</td>\n",
       "    </tr>\n",
       "    <tr>\n",
       "      <th>Архитектура России. Поиски национального стиля (твердый переплет/История и шедевры)</th>\n",
       "      <td>\\n</td>\n",
       "      <td>в наличии</td>\n",
       "      <td>14331.0</td>\n",
       "      <td>https://www.bgshop.ru//Catalog/GetFullDescript...</td>\n",
       "    </tr>\n",
       "    <tr>\n",
       "      <th>Признания египтолога. Утраченные библиотеки, исчезнувшие лабиринты и неожиданная правда под сводами пирамид в Саккаре</th>\n",
       "      <td>\\r\\nДэникен Э. фон</td>\n",
       "      <td>в наличии</td>\n",
       "      <td>517.0</td>\n",
       "      <td>https://www.bgshop.ru//Catalog/GetFullDescript...</td>\n",
       "    </tr>\n",
       "  </tbody>\n",
       "</table>\n",
       "</div>"
      ],
      "text/plain": [
       "                                                                                               Автор  \\\n",
       "Полет бумеранга. Австралия. Сорок лет спустя             \\r\\nНиколай Николаевич Дроздов                \n",
       "Моя вкусная опера                                                 \\r\\nКазарновская Л.Ю.                \n",
       "В саду чудовищ: Любовь и террор в гитлеровском ...                        \\r\\nЛарсон Э.                \n",
       "Якутия. Современный путеводитель                                        \\r\\nКирюхова Е.                \n",
       "Конец лета. Пустой дом. Снег в апреле                                     \\r\\nПилчер Р.                \n",
       "От Белоруссии до Карабаха. Трамп, Навальный, ко...                 \\r\\nСатановский Е.Я.                \n",
       "Писательская рота                                                    \\r\\nМихеенков С.Е.                \n",
       "ПроСТО кухня с Александром Бельковичем.                        \\r\\nАлександр  Белькович                \n",
       "Маленький Тео идет в детский сад. Добрые истори...                    \\r\\nСюзанна Гёлих                \n",
       "Изюмка и гном                                                             \\r\\nБалинт А.                \n",
       "Adobe Illustrator CC 2022. Мастер-класс Евгении...        \\r\\nЕвгения Ивановна Тучкевич                \n",
       "Все страньше и страньше. Как теория относительн...                       \\r\\nДжон Хиггс                \n",
       "Незабудка. На границе света                                             \\r\\nКерстин Гир                \n",
       "Идеальное преступление: 92 загадочных дела для ...                        \\r\\nГарет Мур                \n",
       "Воодушевление отделов продаж. Инструменты немат...        \\r\\nМаксим Валерьевич Батырев                \n",
       "Блеск (#1)                                                               \\r\\nКеннеди Р.                \n",
       "Девушка жимолости                                                      \\r\\nКарпентер Э.                \n",
       "Основы цифрового рисунка в Photoshop. Гайд для ...                                                \\n   \n",
       "IT-рекрутмент: Как найти лучших специалистов, к...                      \\r\\nЕгор Яценко                \n",
       "Дебри                                                                     \\r\\nИванов А.                \n",
       "Ген богатства                                                     \\r\\nЕвгений Ходченков                \n",
       "Шесть могил на пути в Мюнхен                                               \\r\\nПьюзо М.                \n",
       "Книжные контрабандисты: как поэты-партизаны спа...                        \\r\\nФишман Д.                \n",
       "Биохакинг без границ. Обновите мозг, создайте т...                     \\r\\nБен Гринфилд                \n",
       "Легально о нелегальном                              \\r\\nДолгополов,Сафронов Н.М.. Никас                \n",
       "Ниндзя. Воины-невидимки                                               \\r\\nГорбылев А.М.                \n",
       "Дизайн интерьера с заботой о себе. 100 решений,...                       \\r\\nОливер Хит                \n",
       "Веб-дизайн для недизайнеров                                           \\r\\nТрэйси Осборн                \n",
       "Санкционная война против России.                                     \\r\\nКатасонов В.Ю.                \n",
       "Ясновидец Пятаков                                                   \\r\\nБушковский А.С.                \n",
       "Тайная жизнь пчел                                                     \\r\\nМонк Кидд Сью                \n",
       "Сестра лучше, чем все карусели мира                                   \\r\\nКретова К. А.                \n",
       "Америка: Без царя в голове                                             \\r\\nЗлобин Н. В.                \n",
       "Карл Брюллов. Лучшие картины (твердый переплет/...                                                \\n   \n",
       "Архитектура России. Поиски национального стиля ...                                                \\n   \n",
       "Признания египтолога. Утраченные библиотеки, ис...                   \\r\\nДэникен Э. фон                \n",
       "\n",
       "                                                       Статус     Цена  \\\n",
       "Полет бумеранга. Австралия. Сорок лет спустя        в наличии    509.0   \n",
       "Моя вкусная опера                                   в наличии    781.0   \n",
       "В саду чудовищ: Любовь и террор в гитлеровском ...  в наличии    749.0   \n",
       "Якутия. Современный путеводитель                    в наличии    629.0   \n",
       "Конец лета. Пустой дом. Снег в апреле               в наличии    636.0   \n",
       "От Белоруссии до Карабаха. Трамп, Навальный, ко...  в наличии    759.0   \n",
       "Писательская рота                                   в наличии    696.0   \n",
       "ПроСТО кухня с Александром Бельковичем.             в наличии    859.0   \n",
       "Маленький Тео идет в детский сад. Добрые истори...  в наличии    849.0   \n",
       "Изюмка и гном                                       в наличии    322.0   \n",
       "Adobe Illustrator CC 2022. Мастер-класс Евгении...  в наличии   1101.0   \n",
       "Все страньше и страньше. Как теория относительн...  в наличии    713.0   \n",
       "Незабудка. На границе света                         в наличии    619.0   \n",
       "Идеальное преступление: 92 загадочных дела для ...  в наличии    739.0   \n",
       "Воодушевление отделов продаж. Инструменты немат...  в наличии   1479.0   \n",
       "Блеск (#1)                                          в наличии    739.0   \n",
       "Девушка жимолости                                   в наличии    585.0   \n",
       "Основы цифрового рисунка в Photoshop. Гайд для ...  в наличии   3639.0   \n",
       "IT-рекрутмент: Как найти лучших специалистов, к...  в наличии    690.0   \n",
       "Дебри                                               в наличии    651.0   \n",
       "Ген богатства                                       в наличии   1119.0   \n",
       "Шесть могил на пути в Мюнхен                        в наличии    759.0   \n",
       "Книжные контрабандисты: как поэты-партизаны спа...  в наличии    929.0   \n",
       "Биохакинг без границ. Обновите мозг, создайте т...  в наличии   1759.0   \n",
       "Легально о нелегальном                              в наличии    794.0   \n",
       "Ниндзя. Воины-невидимки                             в наличии   1759.0   \n",
       "Дизайн интерьера с заботой о себе. 100 решений,...  в наличии   1919.0   \n",
       "Веб-дизайн для недизайнеров                         в наличии   1389.0   \n",
       "Санкционная война против России.                    в наличии    925.0   \n",
       "Ясновидец Пятаков                                   в наличии    494.0   \n",
       "Тайная жизнь пчел                                   в наличии    690.0   \n",
       "Сестра лучше, чем все карусели мира                 в наличии    699.0   \n",
       "Америка: Без царя в голове                          в наличии    979.0   \n",
       "Карл Брюллов. Лучшие картины (твердый переплет/...  в наличии    734.0   \n",
       "Архитектура России. Поиски национального стиля ...  в наличии  14331.0   \n",
       "Признания египтолога. Утраченные библиотеки, ис...  в наличии    517.0   \n",
       "\n",
       "                                                                                               Ссылка  \n",
       "Полет бумеранга. Австралия. Сорок лет спустя        https://www.bgshop.ru//Catalog/GetFullDescript...  \n",
       "Моя вкусная опера                                   https://www.bgshop.ru//Catalog/GetFullDescript...  \n",
       "В саду чудовищ: Любовь и террор в гитлеровском ...  https://www.bgshop.ru//Catalog/GetFullDescript...  \n",
       "Якутия. Современный путеводитель                    https://www.bgshop.ru//Catalog/GetFullDescript...  \n",
       "Конец лета. Пустой дом. Снег в апреле               https://www.bgshop.ru//Catalog/GetFullDescript...  \n",
       "От Белоруссии до Карабаха. Трамп, Навальный, ко...  https://www.bgshop.ru//Catalog/GetFullDescript...  \n",
       "Писательская рота                                   https://www.bgshop.ru//Catalog/GetFullDescript...  \n",
       "ПроСТО кухня с Александром Бельковичем.             https://www.bgshop.ru//Catalog/GetFullDescript...  \n",
       "Маленький Тео идет в детский сад. Добрые истори...  https://www.bgshop.ru//Catalog/GetFullDescript...  \n",
       "Изюмка и гном                                       https://www.bgshop.ru//Catalog/GetFullDescript...  \n",
       "Adobe Illustrator CC 2022. Мастер-класс Евгении...  https://www.bgshop.ru//Catalog/GetFullDescript...  \n",
       "Все страньше и страньше. Как теория относительн...  https://www.bgshop.ru//Catalog/GetFullDescript...  \n",
       "Незабудка. На границе света                         https://www.bgshop.ru//Catalog/GetFullDescript...  \n",
       "Идеальное преступление: 92 загадочных дела для ...  https://www.bgshop.ru//Catalog/GetFullDescript...  \n",
       "Воодушевление отделов продаж. Инструменты немат...  https://www.bgshop.ru//Catalog/GetFullDescript...  \n",
       "Блеск (#1)                                          https://www.bgshop.ru//Catalog/GetFullDescript...  \n",
       "Девушка жимолости                                   https://www.bgshop.ru//Catalog/GetFullDescript...  \n",
       "Основы цифрового рисунка в Photoshop. Гайд для ...  https://www.bgshop.ru//Catalog/GetFullDescript...  \n",
       "IT-рекрутмент: Как найти лучших специалистов, к...  https://www.bgshop.ru//Catalog/GetFullDescript...  \n",
       "Дебри                                               https://www.bgshop.ru//Catalog/GetFullDescript...  \n",
       "Ген богатства                                       https://www.bgshop.ru//Catalog/GetFullDescript...  \n",
       "Шесть могил на пути в Мюнхен                        https://www.bgshop.ru//Catalog/GetFullDescript...  \n",
       "Книжные контрабандисты: как поэты-партизаны спа...  https://www.bgshop.ru//Catalog/GetFullDescript...  \n",
       "Биохакинг без границ. Обновите мозг, создайте т...  https://www.bgshop.ru//Catalog/GetFullDescript...  \n",
       "Легально о нелегальном                              https://www.bgshop.ru//Catalog/GetFullDescript...  \n",
       "Ниндзя. Воины-невидимки                             https://www.bgshop.ru//Catalog/GetFullDescript...  \n",
       "Дизайн интерьера с заботой о себе. 100 решений,...  https://www.bgshop.ru//Catalog/GetFullDescript...  \n",
       "Веб-дизайн для недизайнеров                         https://www.bgshop.ru//Catalog/GetFullDescript...  \n",
       "Санкционная война против России.                    https://www.bgshop.ru//Catalog/GetFullDescript...  \n",
       "Ясновидец Пятаков                                   https://www.bgshop.ru//Catalog/GetFullDescript...  \n",
       "Тайная жизнь пчел                                   https://www.bgshop.ru//Catalog/GetFullDescript...  \n",
       "Сестра лучше, чем все карусели мира                 https://www.bgshop.ru//Catalog/GetFullDescript...  \n",
       "Америка: Без царя в голове                          https://www.bgshop.ru//Catalog/GetFullDescript...  \n",
       "Карл Брюллов. Лучшие картины (твердый переплет/...  https://www.bgshop.ru//Catalog/GetFullDescript...  \n",
       "Архитектура России. Поиски национального стиля ...  https://www.bgshop.ru//Catalog/GetFullDescript...  \n",
       "Признания египтолога. Утраченные библиотеки, ис...  https://www.bgshop.ru//Catalog/GetFullDescript...  "
      ]
     },
     "execution_count": 35,
     "metadata": {},
     "output_type": "execute_result"
    }
   ],
   "source": [
    "df = pd.DataFrame(books, index = ['Автор', 'Статус', 'Цена', 'Ссылка']).transpose()\n",
    "df"
   ]
  },
  {
   "cell_type": "code",
   "execution_count": 37,
   "metadata": {},
   "outputs": [
    {
     "data": {
      "text/plain": [
       "(36, 4)"
      ]
     },
     "execution_count": 37,
     "metadata": {},
     "output_type": "execute_result"
    }
   ],
   "source": [
    "df.shape"
   ]
  },
  {
   "cell_type": "markdown",
   "metadata": {},
   "source": [
    "## Задание 3\n",
    "\n",
    "Дана ссылка на [сайт газеты \"Московский комсомолец\"](https://www.mk.ru/news/). Соберите ссылки на новости первой страницы, время публикации, заголовок. Пройдите по ссылкам и соберите количество просмотров и хэштеги статьи. "
   ]
  },
  {
   "cell_type": "code",
   "execution_count": 38,
   "metadata": {},
   "outputs": [],
   "source": [
    "url = 'https://www.mk.ru/news/'\n",
    "page = requests.get(url)\n",
    "soup = BeautifulSoup(page.text)"
   ]
  },
  {
   "cell_type": "code",
   "execution_count": 39,
   "metadata": {},
   "outputs": [
    {
     "data": {
      "text/plain": [
       "<li class=\"news-listing__item\">\n",
       "<a class=\"news-listing__item-link\" href=\"https://www.mk.ru/politics/2022/06/20/smi-moskva-prodvigaet-v-sovbeze-oon-antiizrailskuyu-rezolyuciyu.html\">\n",
       "<span class=\"news-listing__item-time\">00:20</span>\n",
       "<h3 class=\"news-listing__item-title\">СМИ: Москва продвигает в Совбезе ООН антиизраильскую резолюцию</h3>\n",
       "</a>\n",
       "</li>"
      ]
     },
     "execution_count": 39,
     "metadata": {},
     "output_type": "execute_result"
    }
   ],
   "source": [
    "soup.find_all('li', {'class':'news-listing__item'})[0]"
   ]
  },
  {
   "cell_type": "code",
   "execution_count": 40,
   "metadata": {},
   "outputs": [
    {
     "data": {
      "text/plain": [
       "'https://www.mk.ru/politics/2022/06/20/smi-moskva-prodvigaet-v-sovbeze-oon-antiizrailskuyu-rezolyuciyu.html'"
      ]
     },
     "execution_count": 40,
     "metadata": {},
     "output_type": "execute_result"
    }
   ],
   "source": [
    "url0 = soup.find_all('li', {'class':'news-listing__item'})[0].find('a').get('href')\n",
    "url0"
   ]
  },
  {
   "cell_type": "code",
   "execution_count": 41,
   "metadata": {},
   "outputs": [
    {
     "data": {
      "text/plain": [
       "'00:20'"
      ]
     },
     "execution_count": 41,
     "metadata": {},
     "output_type": "execute_result"
    }
   ],
   "source": [
    "time = soup.find_all('li', {'class':'news-listing__item'})[0].find('span').text\n",
    "time"
   ]
  },
  {
   "cell_type": "code",
   "execution_count": 42,
   "metadata": {},
   "outputs": [
    {
     "data": {
      "text/plain": [
       "'СМИ: Москва продвигает в Совбезе ООН антиизраильскую резолюцию'"
      ]
     },
     "execution_count": 42,
     "metadata": {},
     "output_type": "execute_result"
    }
   ],
   "source": [
    "title = soup.find_all('li', {'class':'news-listing__item'})[0].find('h3').text\n",
    "title"
   ]
  },
  {
   "cell_type": "code",
   "execution_count": 43,
   "metadata": {},
   "outputs": [],
   "source": [
    "page0 = requests.get(url0)\n",
    "soup0 = BeautifulSoup(page0.text)"
   ]
  },
  {
   "cell_type": "code",
   "execution_count": 44,
   "metadata": {},
   "outputs": [
    {
     "data": {
      "text/plain": [
       "'722'"
      ]
     },
     "execution_count": 44,
     "metadata": {},
     "output_type": "execute_result"
    }
   ],
   "source": [
    "soup0.find_all('span', {'class':'meta__item_views'})[0].text.strip()"
   ]
  },
  {
   "cell_type": "code",
   "execution_count": 45,
   "metadata": {},
   "outputs": [
    {
     "data": {
      "text/plain": [
       "'\\nООН\\nМИД РФ\\nМосква\\nРоссия\\nСирия\\nИзраиль\\nИерусалим\\nТель-Авив\\n'"
      ]
     },
     "execution_count": 45,
     "metadata": {},
     "output_type": "execute_result"
    }
   ],
   "source": [
    "soup0.find('div', {'class':'article__tag'}).text"
   ]
  },
  {
   "cell_type": "code",
   "execution_count": 46,
   "metadata": {},
   "outputs": [
    {
     "data": {
      "text/plain": [
       "['ООН',\n",
       " 'МИД РФ',\n",
       " 'Москва',\n",
       " 'Россия',\n",
       " 'Сирия',\n",
       " 'Израиль',\n",
       " 'Иерусалим',\n",
       " 'Тель-Авив']"
      ]
     },
     "execution_count": 46,
     "metadata": {},
     "output_type": "execute_result"
    }
   ],
   "source": [
    "re.findall(r'[^\\n]+', soup0.find('div', {'class':'article__tag'}).text)"
   ]
  },
  {
   "cell_type": "code",
   "execution_count": 47,
   "metadata": {},
   "outputs": [],
   "source": [
    "news = {}\n",
    "for i in soup.find_all('li', {'class':'news-listing__item'}):\n",
    "    url0 = i.find('a').get('href')\n",
    "    time = i.find('span').text\n",
    "    title = i.find('h3').text\n",
    "    \n",
    "    page0 = requests.get(url0)\n",
    "    soup0 = BeautifulSoup(page0.text)\n",
    "    sleep(1)\n",
    "    \n",
    "    view = int(soup0.find_all('span', {'class':'meta__item_views'})[0].text.strip())\n",
    "    \n",
    "    if soup0.find('div', {'class':'article__tag'}) is None:\n",
    "        tags = ''\n",
    "    else:\n",
    "        tags = ', '.join(re.findall(r'[^\\n]+', soup0.find('div', {'class':'article__tag'}).text))\n",
    "        \n",
    "    news[title] = [url0, time, view, tags]"
   ]
  },
  {
   "cell_type": "code",
   "execution_count": 48,
   "metadata": {},
   "outputs": [
    {
     "data": {
      "text/html": [
       "<div>\n",
       "<style scoped>\n",
       "    .dataframe tbody tr th:only-of-type {\n",
       "        vertical-align: middle;\n",
       "    }\n",
       "\n",
       "    .dataframe tbody tr th {\n",
       "        vertical-align: top;\n",
       "    }\n",
       "\n",
       "    .dataframe thead th {\n",
       "        text-align: right;\n",
       "    }\n",
       "</style>\n",
       "<table border=\"1\" class=\"dataframe\">\n",
       "  <thead>\n",
       "    <tr style=\"text-align: right;\">\n",
       "      <th></th>\n",
       "      <th>Ссылка</th>\n",
       "      <th>Время</th>\n",
       "      <th>Просмотры</th>\n",
       "      <th>Теги</th>\n",
       "    </tr>\n",
       "  </thead>\n",
       "  <tbody>\n",
       "    <tr>\n",
       "      <th>СМИ: Москва продвигает в Совбезе ООН антиизраильскую резолюцию</th>\n",
       "      <td>https://www.mk.ru/politics/2022/06/20/smi-mosk...</td>\n",
       "      <td>00:20</td>\n",
       "      <td>793</td>\n",
       "      <td>ООН, МИД РФ, Москва, Россия, Сирия, Израиль, И...</td>\n",
       "    </tr>\n",
       "    <tr>\n",
       "      <th>Валуев раскритиковал травлю украинского боксера Редкача за фото с россиянином</th>\n",
       "      <td>https://www.mk.ru/politics/2022/06/19/valuev-r...</td>\n",
       "      <td>23:58</td>\n",
       "      <td>228</td>\n",
       "      <td></td>\n",
       "    </tr>\n",
       "    <tr>\n",
       "      <th>Пушилин: ДНР заинтересована в торговле с Белоруссией</th>\n",
       "      <td>https://www.mk.ru/economics/2022/06/19/pushili...</td>\n",
       "      <td>23:43</td>\n",
       "      <td>609</td>\n",
       "      <td>Дмитрий Денисов, Донецкая народная республика,...</td>\n",
       "    </tr>\n",
       "    <tr>\n",
       "      <th>Эксперт: цель западных санкций - заставить страдать весь третий мир</th>\n",
       "      <td>https://www.mk.ru/politics/2022/06/19/ekspert-...</td>\n",
       "      <td>23:39</td>\n",
       "      <td>605</td>\n",
       "      <td></td>\n",
       "    </tr>\n",
       "    <tr>\n",
       "      <th>Сенатор от Крыма оценила планы Британии создать армию \"против России\"</th>\n",
       "      <td>https://www.mk.ru/politics/2022/06/19/senator-...</td>\n",
       "      <td>23:27</td>\n",
       "      <td>1091</td>\n",
       "      <td>Армия, Россия</td>\n",
       "    </tr>\n",
       "    <tr>\n",
       "      <th>...</th>\n",
       "      <td>...</td>\n",
       "      <td>...</td>\n",
       "      <td>...</td>\n",
       "      <td>...</td>\n",
       "    </tr>\n",
       "    <tr>\n",
       "      <th>Судно из Камеруна завалилось набок под Туапсе</th>\n",
       "      <td>https://www.mk.ru/incident/2022/06/19/sudno-iz...</td>\n",
       "      <td>10:06</td>\n",
       "      <td>2967</td>\n",
       "      <td>Турция, Грузия</td>\n",
       "    </tr>\n",
       "    <tr>\n",
       "      <th>От украинцев потребовали ради членства в ЕС отказаться от прославления Бандеры</th>\n",
       "      <td>https://www.mk.ru/politics/2022/06/19/ot-ukrai...</td>\n",
       "      <td>10:01</td>\n",
       "      <td>33057</td>\n",
       "      <td>Армия, Евросоюз - ЕС, Петр Порошенко, Украина,...</td>\n",
       "    </tr>\n",
       "    <tr>\n",
       "      <th>«Записки земского доктора»: «Россия 1» покажет работу врачей в регионах</th>\n",
       "      <td>https://www.mk.ru/social/health/2022/06/19/zap...</td>\n",
       "      <td>10:00</td>\n",
       "      <td>1716</td>\n",
       "      <td>Россия</td>\n",
       "    </tr>\n",
       "    <tr>\n",
       "      <th>Рогозин обвинил Илона Маска в помощи Украине с наведением ракет</th>\n",
       "      <td>https://www.mk.ru/politics/2022/06/19/rogozin-...</td>\n",
       "      <td>09:45</td>\n",
       "      <td>4574</td>\n",
       "      <td>Роскосмос, Дмитрий Рогозин, Украина, Россия, США</td>\n",
       "    </tr>\n",
       "    <tr>\n",
       "      <th>В Луганской ОВА заявили, что жители Северодонецка отказались выходить с «Азота»</th>\n",
       "      <td>https://www.mk.ru/politics/2022/06/19/v-lugans...</td>\n",
       "      <td>09:37</td>\n",
       "      <td>74686</td>\n",
       "      <td>Россия, Украина, Луганская народная республика...</td>\n",
       "    </tr>\n",
       "  </tbody>\n",
       "</table>\n",
       "<p>125 rows × 4 columns</p>\n",
       "</div>"
      ],
      "text/plain": [
       "                                                                                               Ссылка  \\\n",
       "СМИ: Москва продвигает в Совбезе ООН антиизраил...  https://www.mk.ru/politics/2022/06/20/smi-mosk...   \n",
       "Валуев раскритиковал травлю украинского боксера...  https://www.mk.ru/politics/2022/06/19/valuev-r...   \n",
       "Пушилин: ДНР заинтересована в торговле с Белору...  https://www.mk.ru/economics/2022/06/19/pushili...   \n",
       "Эксперт: цель западных санкций - заставить стра...  https://www.mk.ru/politics/2022/06/19/ekspert-...   \n",
       "Сенатор от Крыма оценила планы Британии создать...  https://www.mk.ru/politics/2022/06/19/senator-...   \n",
       "...                                                                                               ...   \n",
       "Судно из Камеруна завалилось набок под Туапсе       https://www.mk.ru/incident/2022/06/19/sudno-iz...   \n",
       "От украинцев потребовали ради членства в ЕС отк...  https://www.mk.ru/politics/2022/06/19/ot-ukrai...   \n",
       "«Записки земского доктора»: «Россия 1» покажет ...  https://www.mk.ru/social/health/2022/06/19/zap...   \n",
       "Рогозин обвинил Илона Маска в помощи Украине с ...  https://www.mk.ru/politics/2022/06/19/rogozin-...   \n",
       "В Луганской ОВА заявили, что жители Северодонец...  https://www.mk.ru/politics/2022/06/19/v-lugans...   \n",
       "\n",
       "                                                    Время  Просмотры  \\\n",
       "СМИ: Москва продвигает в Совбезе ООН антиизраил...  00:20        793   \n",
       "Валуев раскритиковал травлю украинского боксера...  23:58        228   \n",
       "Пушилин: ДНР заинтересована в торговле с Белору...  23:43        609   \n",
       "Эксперт: цель западных санкций - заставить стра...  23:39        605   \n",
       "Сенатор от Крыма оценила планы Британии создать...  23:27       1091   \n",
       "...                                                   ...        ...   \n",
       "Судно из Камеруна завалилось набок под Туапсе       10:06       2967   \n",
       "От украинцев потребовали ради членства в ЕС отк...  10:01      33057   \n",
       "«Записки земского доктора»: «Россия 1» покажет ...  10:00       1716   \n",
       "Рогозин обвинил Илона Маска в помощи Украине с ...  09:45       4574   \n",
       "В Луганской ОВА заявили, что жители Северодонец...  09:37      74686   \n",
       "\n",
       "                                                                                                 Теги  \n",
       "СМИ: Москва продвигает в Совбезе ООН антиизраил...  ООН, МИД РФ, Москва, Россия, Сирия, Израиль, И...  \n",
       "Валуев раскритиковал травлю украинского боксера...                                                     \n",
       "Пушилин: ДНР заинтересована в торговле с Белору...  Дмитрий Денисов, Донецкая народная республика,...  \n",
       "Эксперт: цель западных санкций - заставить стра...                                                     \n",
       "Сенатор от Крыма оценила планы Британии создать...                                      Армия, Россия  \n",
       "...                                                                                               ...  \n",
       "Судно из Камеруна завалилось набок под Туапсе                                          Турция, Грузия  \n",
       "От украинцев потребовали ради членства в ЕС отк...  Армия, Евросоюз - ЕС, Петр Порошенко, Украина,...  \n",
       "«Записки земского доктора»: «Россия 1» покажет ...                                             Россия  \n",
       "Рогозин обвинил Илона Маска в помощи Украине с ...   Роскосмос, Дмитрий Рогозин, Украина, Россия, США  \n",
       "В Луганской ОВА заявили, что жители Северодонец...  Россия, Украина, Луганская народная республика...  \n",
       "\n",
       "[125 rows x 4 columns]"
      ]
     },
     "execution_count": 48,
     "metadata": {},
     "output_type": "execute_result"
    }
   ],
   "source": [
    "# можно также сразу указывать, что у нас данные из словаря, orient='index' вместо transpose()\n",
    "df = pd.DataFrame.from_dict(news, orient='index', columns = ['Ссылка','Время','Просмотры','Теги'])\n",
    "df"
   ]
  }
 ],
 "metadata": {
  "kernelspec": {
   "display_name": "Python 3",
   "language": "python",
   "name": "python3"
  },
  "language_info": {
   "codemirror_mode": {
    "name": "ipython",
    "version": 3
   },
   "file_extension": ".py",
   "mimetype": "text/x-python",
   "name": "python",
   "nbconvert_exporter": "python",
   "pygments_lexer": "ipython3",
   "version": "3.8.5"
  },
  "toc": {
   "base_numbering": 1,
   "nav_menu": {},
   "number_sections": true,
   "sideBar": true,
   "skip_h1_title": false,
   "title_cell": "Table of Contents",
   "title_sidebar": "Contents",
   "toc_cell": false,
   "toc_position": {},
   "toc_section_display": true,
   "toc_window_display": false
  },
  "varInspector": {
   "cols": {
    "lenName": 16,
    "lenType": 16,
    "lenVar": 40
   },
   "kernels_config": {
    "python": {
     "delete_cmd_postfix": "",
     "delete_cmd_prefix": "del ",
     "library": "var_list.py",
     "varRefreshCmd": "print(var_dic_list())"
    },
    "r": {
     "delete_cmd_postfix": ") ",
     "delete_cmd_prefix": "rm(",
     "library": "var_list.r",
     "varRefreshCmd": "cat(var_dic_list()) "
    }
   },
   "types_to_exclude": [
    "module",
    "function",
    "builtin_function_or_method",
    "instance",
    "_Feature"
   ],
   "window_display": false
  }
 },
 "nbformat": 4,
 "nbformat_minor": 4
}
